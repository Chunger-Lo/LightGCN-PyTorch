{
 "cells": [
  {
   "cell_type": "code",
   "execution_count": 1,
   "id": "924773e0",
   "metadata": {},
   "outputs": [],
   "source": [
    "# import numpy as np\n",
    "import pandas as pd\n",
    "import math\n",
    "import os\n",
    "from sklearn.preprocessing import LabelEncoder\n",
    "pd.set_option('display.max_colwidth', 200)\n",
    "pd.set_option('display.max_rows', 200)"
   ]
  },
  {
   "cell_type": "code",
   "execution_count": 2,
   "id": "d339bab9",
   "metadata": {},
   "outputs": [],
   "source": [
    "# context = pd.read_csv('..//data/preprocessed//context_1217_1230.csv')\n",
    "context = pd.read_csv('/home/jovyan/df-smart-channel/graph/data/preprocessed/context_1217_0131.csv')"
   ]
  },
  {
   "cell_type": "code",
   "execution_count": 3,
   "id": "211c2ae5",
   "metadata": {},
   "outputs": [],
   "source": [
    "le = LabelEncoder()\n",
    "context.cust_no = le.fit_transform(context.cust_no)\n",
    "context.item_id = le.fit_transform(context.item_id)"
   ]
  },
  {
   "cell_type": "code",
   "execution_count": 4,
   "id": "7563584e",
   "metadata": {},
   "outputs": [],
   "source": [
    "user_list = context.cust_no.unique()\n",
    "item_list = context.item_id.unique()"
   ]
  },
  {
   "cell_type": "markdown",
   "id": "87b383e0",
   "metadata": {},
   "source": [
    "## Splitting"
   ]
  },
  {
   "cell_type": "code",
   "execution_count": 5,
   "id": "2a608cc6",
   "metadata": {},
   "outputs": [],
   "source": [
    "train_start = 20211217\n",
    "train_end = 20211225\n",
    "test_end = 20211226"
   ]
  },
  {
   "cell_type": "code",
   "execution_count": 6,
   "id": "a6001fab",
   "metadata": {},
   "outputs": [],
   "source": [
    "def splitting(user_list, train_start, test_date):\n",
    "    context_train = context[(context.date >= train_start) & (context.date < test_date)][['cust_no', 'item_id', 'show', 'click']]\n",
    "    context_test = context[context.date == test_date][['cust_no', 'item_id', 'show', 'click']]\n",
    "    \n",
    "    cust_item_pair_train = context_train.groupby(['cust_no', 'item_id'])['click'].sum().reset_index()\n",
    "    cust_item_pair_test = context_test.groupby(['cust_no', 'item_id'])['click'].sum().reset_index()\n",
    "    \n",
    "    cust_item_pair_train = cust_item_pair_train[cust_item_pair_train.click > 0]\n",
    "    cust_item_pair_test = cust_item_pair_test[cust_item_pair_test.click > 0]\n",
    "    # init_df = pd.DataFrame({\"cust_no\": range(max(user_list)+1)})\n",
    "    # ## mapping\n",
    "    # cust_item_pair_train = pd.merge(init_df, cust_item_pair_train, on = 'cust_no', how = 'left')\n",
    "    # cust_item_pair_test = pd.merge(init_df, cust_item_pair_test, on = 'cust_no', how = 'left')\n",
    "    \n",
    "    cust_item_pair_train.click = cust_item_pair_train.click.fillna(0)\n",
    "    cust_item_pair_test.click = cust_item_pair_train.click.fillna(0)\n",
    "    \n",
    "    items_by_cust_train = cust_item_pair_train.groupby('cust_no')['item_id'].unique()\n",
    "    items_by_cust_test = cust_item_pair_test.groupby('cust_no')['item_id'].unique()\n",
    "    \n",
    "    cust_items_dict_train = dict(items_by_cust_train.apply(list))\n",
    "    cust_items_dict_test = dict(items_by_cust_test.apply(list))\n",
    "    return cust_items_dict_train, cust_items_dict_test"
   ]
  },
  {
   "cell_type": "code",
   "execution_count": 8,
   "id": "88b15052",
   "metadata": {},
   "outputs": [],
   "source": [
    "def export_file(date, pairs_dict_train, pairs_dict_test):\n",
    "    dir_name = f'date={date}'\n",
    "    if not os.path.isdir(dir_name):\n",
    "        os.mkdir(dir_name)\n",
    "        \n",
    "    ## train\n",
    "    file_path = os.path.join(dir_name, 'train.txt')\n",
    "    file = open(file_path,\"w\")\n",
    "\n",
    "    for key,value in pairs_dict_train.items():\n",
    "        file.write('%s' % key)\n",
    "        # for item in value:\n",
    "        #     file.write('%s ' % item)\n",
    "        for i, item in enumerate(value):\n",
    "            if math.isnan(item):\n",
    "                continue\n",
    "            else:\n",
    "                if i == (len(value)-1):\n",
    "                    file.write(' %s' % int(item))\n",
    "                else:\n",
    "                    file.write(' %s' % int(item))\n",
    "        file.write('\\n')\n",
    "    file.close()\n",
    "    ## test\n",
    "    file_path = os.path.join(dir_name, 'test.txt')\n",
    "    file = open(file_path,\"w\")\n",
    "\n",
    "    for key,value in pairs_dict_test.items():\n",
    "        file.write('%s' % key)\n",
    "        # for item in value:\n",
    "        #     file.write('%s ' % item)\n",
    "        for i, item in enumerate(value):\n",
    "            if math.isnan(item):\n",
    "                continue\n",
    "            else:\n",
    "                if i == (len(value)-1):\n",
    "                    file.write(' %s' % int(item))\n",
    "                else:\n",
    "                    file.write(' %s' % int(item))\n",
    "        file.write('\\n')\n",
    "    file.close()"
   ]
  },
  {
   "cell_type": "code",
   "execution_count": 11,
   "id": "0914082b",
   "metadata": {},
   "outputs": [],
   "source": [
    "for test_date in range(20211226, 20211231+1):\n",
    "    cust_items_dict_train, cust_items_dict_test = splitting(user_list = user_list, train_start = 20211217, test_date = test_date) \n",
    "    export_file(date = str(test_date), pairs_dict_train = cust_items_dict_train, pairs_dict_test = cust_items_dict_test )"
   ]
  },
  {
   "cell_type": "code",
   "execution_count": null,
   "id": "d65bacfb",
   "metadata": {},
   "outputs": [],
   "source": []
  }
 ],
 "metadata": {
  "kernelspec": {
   "display_name": "Python 3",
   "language": "python",
   "name": "python3"
  },
  "language_info": {
   "codemirror_mode": {
    "name": "ipython",
    "version": 3
   },
   "file_extension": ".py",
   "mimetype": "text/x-python",
   "name": "python",
   "nbconvert_exporter": "python",
   "pygments_lexer": "ipython3",
   "version": "3.7.10"
  }
 },
 "nbformat": 4,
 "nbformat_minor": 5
}
