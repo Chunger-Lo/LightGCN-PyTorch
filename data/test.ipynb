{
 "cells": [
  {
   "cell_type": "code",
   "execution_count": 1,
   "id": "0905e4bc",
   "metadata": {},
   "outputs": [],
   "source": [
    "import numpy as np\n",
    "import pandas as pd\n",
    "import os"
   ]
  },
  {
   "cell_type": "code",
   "execution_count": 3,
   "id": "f4a4885e",
   "metadata": {},
   "outputs": [
    {
     "data": {
      "text/plain": [
       "['amazon-book',\n",
       " 'gowalla',\n",
       " 'lastfm',\n",
       " 'yelp2018',\n",
       " '.ipynb_checkpoints',\n",
       " 'sc',\n",
       " 'Untitled.ipynb']"
      ]
     },
     "execution_count": 3,
     "metadata": {},
     "output_type": "execute_result"
    }
   ],
   "source": [
    "os.listdir()"
   ]
  },
  {
   "cell_type": "code",
   "execution_count": 16,
   "id": "bc798fde",
   "metadata": {},
   "outputs": [],
   "source": [
    "train_file = 'yelp2018/train.txt'\n",
    "test_file = 'yelp2018/test.txt'"
   ]
  },
  {
   "cell_type": "code",
   "execution_count": 17,
   "id": "90d3fb25",
   "metadata": {},
   "outputs": [],
   "source": [
    "trainUniqueUsers, trainItem, trainUser = [], [], []\n",
    "testUniqueUsers, testItem, testUser = [], [], []\n",
    "traindataSize = 0\n",
    "testDataSize = 0\n",
    "n_user = 0\n",
    "m_item = 0\n",
    "\n",
    "with open(train_file) as f:\n",
    "    for l in f.readlines():\n",
    "        if len(l) > 0:\n",
    "            l = l.strip('\\n').split(' ')\n",
    "            # print(l)\n",
    "            items = [int(i) for i in l[1:]]\n",
    "            uid = int(l[0])\n",
    "            trainUniqueUsers.append(uid)\n",
    "            trainUser.extend([uid] * len(items))\n",
    "            trainItem.extend(items)\n",
    "            m_item = max(m_item, max(items))\n",
    "            n_user = max(n_user, uid)\n",
    "            traindataSize += len(items)\n",
    "trainUniqueUsers = np.array(trainUniqueUsers)\n",
    "trainUser = np.array(trainUser)\n",
    "trainItem = np.array(trainItem)"
   ]
  },
  {
   "cell_type": "code",
   "execution_count": 18,
   "id": "05466691",
   "metadata": {},
   "outputs": [
    {
     "name": "stdout",
     "output_type": "stream",
     "text": [
      "31667\n",
      "38047\n"
     ]
    }
   ],
   "source": [
    "print(n_user)\n",
    "print(m_item)"
   ]
  },
  {
   "cell_type": "code",
   "execution_count": 19,
   "id": "9c4f8c5c",
   "metadata": {},
   "outputs": [],
   "source": [
    "with open(test_file) as f:\n",
    "    for l in f.readlines():\n",
    "        if len(l) > 0:\n",
    "            l = l.strip('\\n').split(' ')\n",
    "            items = [int(i) for i in l[1:]]\n",
    "            uid = int(l[0])\n",
    "\n",
    "            testUniqueUsers.append(uid)\n",
    "            testUser.extend([uid] * len(items))\n",
    "            testItem.extend(items)\n",
    "            m_item = max(m_item, max(items))\n",
    "            n_user = max(n_user, uid)\n",
    "            testDataSize += len(items)\n",
    "m_item += 1\n",
    "n_user += 1\n",
    "testUniqueUsers = np.array(testUniqueUsers)\n",
    "testUser = np.array(testUser)\n",
    "testItem = np.array(testItem)"
   ]
  },
  {
   "cell_type": "code",
   "execution_count": 20,
   "id": "2720ba1f",
   "metadata": {},
   "outputs": [
    {
     "name": "stdout",
     "output_type": "stream",
     "text": [
      "31668\n",
      "38048\n"
     ]
    }
   ],
   "source": [
    "print(n_user)\n",
    "print(m_item)"
   ]
  },
  {
   "cell_type": "code",
   "execution_count": 23,
   "id": "02420e31",
   "metadata": {},
   "outputs": [
    {
     "data": {
      "text/plain": [
       "set()"
      ]
     },
     "execution_count": 23,
     "metadata": {},
     "output_type": "execute_result"
    }
   ],
   "source": [
    "set(testUniqueUsers) - set(trainUniqueUsers)"
   ]
  },
  {
   "cell_type": "code",
   "execution_count": 24,
   "id": "c25b7cb8",
   "metadata": {},
   "outputs": [
    {
     "data": {
      "text/plain": [
       "set()"
      ]
     },
     "execution_count": 24,
     "metadata": {},
     "output_type": "execute_result"
    }
   ],
   "source": [
    "set(trainUniqueUsers) - set(testUniqueUsers)"
   ]
  },
  {
   "cell_type": "code",
   "execution_count": null,
   "id": "9ac64180",
   "metadata": {},
   "outputs": [],
   "source": []
  },
  {
   "cell_type": "code",
   "execution_count": 30,
   "id": "37864929",
   "metadata": {},
   "outputs": [],
   "source": [
    "rowsum = np.array([0,0,1,2])"
   ]
  },
  {
   "cell_type": "code",
   "execution_count": 31,
   "id": "49088b8a",
   "metadata": {},
   "outputs": [
    {
     "name": "stderr",
     "output_type": "stream",
     "text": [
      "/opt/conda/lib/python3.7/site-packages/ipykernel_launcher.py:1: RuntimeWarning: divide by zero encountered in power\n",
      "  \"\"\"Entry point for launching an IPython kernel.\n"
     ]
    }
   ],
   "source": [
    "d_inv = np.power(rowsum, -0.5).flatten()"
   ]
  },
  {
   "cell_type": "code",
   "execution_count": 32,
   "id": "b1a93d16",
   "metadata": {},
   "outputs": [
    {
     "data": {
      "text/plain": [
       "array([       inf,        inf, 1.        , 0.70710678])"
      ]
     },
     "execution_count": 32,
     "metadata": {},
     "output_type": "execute_result"
    }
   ],
   "source": [
    "d_inv"
   ]
  }
 ],
 "metadata": {
  "kernelspec": {
   "display_name": "Python 3",
   "language": "python",
   "name": "python3"
  },
  "language_info": {
   "codemirror_mode": {
    "name": "ipython",
    "version": 3
   },
   "file_extension": ".py",
   "mimetype": "text/x-python",
   "name": "python",
   "nbconvert_exporter": "python",
   "pygments_lexer": "ipython3",
   "version": "3.7.10"
  }
 },
 "nbformat": 4,
 "nbformat_minor": 5
}
