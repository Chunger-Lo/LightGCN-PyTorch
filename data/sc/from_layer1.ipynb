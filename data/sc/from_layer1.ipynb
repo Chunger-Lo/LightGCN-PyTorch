{
 "cells": [
  {
   "cell_type": "code",
   "execution_count": 2,
   "id": "591a22de",
   "metadata": {},
   "outputs": [
    {
     "name": "stdout",
     "output_type": "stream",
     "text": [
      "Looking in indexes: http://10.240.205.121:8081/repository/pypi-proxy-new-hosted-if/simple, http://10.240.205.121:8081/repository/pypi-proxy-new/simple\n",
      "Looking in links: /project/exchanging-pool/.pip_package\n",
      "Collecting mlaas_tools2\n",
      "  Downloading http://10.240.205.121:8081/repository/pypi-proxy-new/packages/mlaas-tools2/1.0.23/mlaas_tools2-1.0.23-py3-none-any.whl (2.2 MB)\n",
      "\u001b[K     |████████████████████████████████| 2.2 MB 112.0 MB/s eta 0:00:01\n",
      "\u001b[?25hRequirement already satisfied: pycrypto>=2.6.1 in /opt/conda/lib/python3.7/site-packages (from mlaas_tools2) (2.6.1)\n",
      "Collecting confluent-kafka==1.4.2\n",
      "  Downloading http://10.240.205.121:8081/repository/pypi-proxy-new/packages/confluent-kafka/1.4.2/confluent_kafka-1.4.2-cp37-cp37m-manylinux1_x86_64.whl (8.0 MB)\n",
      "\u001b[K     |████████████████████████████████| 8.0 MB 127.6 MB/s eta 0:00:01\n",
      "\u001b[?25hCollecting joblib==0.14.0\n",
      "  Downloading http://10.240.205.121:8081/repository/pypi-proxy-new/packages/joblib/0.14.0/joblib-0.14.0-py2.py3-none-any.whl (294 kB)\n",
      "\u001b[K     |████████████████████████████████| 294 kB 126.8 MB/s eta 0:00:01\n",
      "\u001b[?25hCollecting httptools>=0.1.1\n",
      "  Downloading http://10.240.205.121:8081/repository/pypi-proxy-new/packages/httptools/0.4.0/httptools-0.4.0-cp37-cp37m-manylinux_2_5_x86_64.manylinux1_x86_64.manylinux_2_12_x86_64.manylinux2010_x86_64.whl (406 kB)\n",
      "\u001b[K     |████████████████████████████████| 406 kB 120.6 MB/s eta 0:00:01\n",
      "\u001b[?25hRequirement already satisfied: yamllint in /home/jovyan/.local/lib/python3.7/site-packages (from mlaas_tools2) (1.26.3)\n",
      "Collecting minio\n",
      "  Downloading http://10.240.205.121:8081/repository/pypi-proxy-new/packages/minio/7.1.5/minio-7.1.5-py3-none-any.whl (75 kB)\n",
      "\u001b[K     |████████████████████████████████| 75 kB 122.9 MB/s eta 0:00:01\n",
      "\u001b[?25hRequirement already satisfied: click==7.* in /opt/conda/lib/python3.7/site-packages (from mlaas_tools2) (7.1.2)\n",
      "Collecting fastapi>=0.65.2\n",
      "  Downloading http://10.240.205.121:8081/repository/pypi-proxy-new/packages/fastapi/0.75.0/fastapi-0.75.0-py3-none-any.whl (54 kB)\n",
      "\u001b[K     |████████████████████████████████| 54 kB 99.4 MB/s  eta 0:00:01\n",
      "\u001b[?25hRequirement already satisfied: requests in /opt/conda/lib/python3.7/site-packages (from mlaas_tools2) (2.27.1)\n",
      "Requirement already satisfied: pysftp==0.2.9 in /home/jovyan/.local/lib/python3.7/site-packages (from mlaas_tools2) (0.2.9)\n",
      "Collecting aiofiles\n",
      "  Downloading http://10.240.205.121:8081/repository/pypi-proxy-new/packages/aiofiles/0.8.0/aiofiles-0.8.0-py3-none-any.whl (13 kB)\n",
      "Collecting elasticsearch==7.7.0\n",
      "  Downloading http://10.240.205.121:8081/repository/pypi-proxy-new/packages/elasticsearch/7.7.0/elasticsearch-7.7.0-py2.py3-none-any.whl (99 kB)\n",
      "\u001b[K     |████████████████████████████████| 99 kB 128.4 MB/s eta 0:00:01\n",
      "\u001b[?25hCollecting python-jose\n",
      "  Downloading http://10.240.205.121:8081/repository/pypi-proxy-new/packages/python-jose/3.3.0/python_jose-3.3.0-py2.py3-none-any.whl (33 kB)\n",
      "Collecting uvloop==0.14.0\n",
      "  Downloading http://10.240.205.121:8081/repository/pypi-proxy-new/packages/uvloop/0.14.0/uvloop-0.14.0-cp37-cp37m-manylinux2010_x86_64.whl (3.8 MB)\n",
      "\u001b[K     |████████████████████████████████| 3.8 MB 127.6 MB/s eta 0:00:01\n",
      "\u001b[?25hCollecting networkx==2.5.1\n",
      "  Downloading http://10.240.205.121:8081/repository/pypi-proxy-new/packages/networkx/2.5.1/networkx-2.5.1-py3-none-any.whl (1.6 MB)\n",
      "\u001b[K     |████████████████████████████████| 1.6 MB 118.6 MB/s eta 0:00:01\n",
      "\u001b[?25hCollecting redis==3.0.1\n",
      "  Downloading http://10.240.205.121:8081/repository/pypi-proxy-new/packages/redis/3.0.1/redis-3.0.1-py2.py3-none-any.whl (61 kB)\n",
      "\u001b[K     |████████████████████████████████| 61 kB 28.2 MB/s  eta 0:00:01\n",
      "\u001b[?25hCollecting cryptography==3.3.2\n",
      "  Downloading http://10.240.205.121:8081/repository/pypi-proxy-new/packages/cryptography/3.3.2/cryptography-3.3.2-cp36-abi3-manylinux2010_x86_64.whl (2.6 MB)\n",
      "\u001b[K     |████████████████████████████████| 2.6 MB 92.5 MB/s eta 0:00:01\n",
      "\u001b[?25hCollecting uvicorn<=0.13.0,>0.11.8\n",
      "  Downloading http://10.240.205.121:8081/repository/pypi-proxy-new/packages/uvicorn/0.13.0/uvicorn-0.13.0-py3-none-any.whl (45 kB)\n",
      "\u001b[K     |████████████████████████████████| 45 kB 57.9 MB/s eta 0:00:01\n",
      "\u001b[?25hCollecting wget\n",
      "  Using cached wget-3.2-py3-none-any.whl\n",
      "Requirement already satisfied: PyYAML>=5.1 in /opt/conda/lib/python3.7/site-packages (from mlaas_tools2) (5.4.1)\n",
      "Collecting Pillow==7.1.2\n",
      "  Downloading http://10.240.205.121:8081/repository/pypi-proxy-new/packages/pillow/7.1.2/Pillow-7.1.2-cp37-cp37m-manylinux1_x86_64.whl (2.1 MB)\n",
      "\u001b[K     |████████████████████████████████| 2.1 MB 126.6 MB/s eta 0:00:01\n",
      "\u001b[?25hRequirement already satisfied: psycopg2>=2.8.4 in /opt/conda/lib/python3.7/site-packages (from mlaas_tools2) (2.8.4)\n",
      "Requirement already satisfied: six>=1.4.1 in /opt/conda/lib/python3.7/site-packages (from cryptography==3.3.2->mlaas_tools2) (1.12.0)\n",
      "Requirement already satisfied: cffi>=1.12 in /opt/conda/lib/python3.7/site-packages (from cryptography==3.3.2->mlaas_tools2) (1.14.6)\n",
      "Requirement already satisfied: certifi in /opt/conda/lib/python3.7/site-packages (from elasticsearch==7.7.0->mlaas_tools2) (2021.10.8)\n",
      "Requirement already satisfied: urllib3>=1.21.1 in /opt/conda/lib/python3.7/site-packages (from elasticsearch==7.7.0->mlaas_tools2) (1.26.8)\n",
      "Collecting decorator<5,>=4.3\n",
      "  Downloading http://10.240.205.121:8081/repository/pypi-proxy-new/packages/decorator/4.4.2/decorator-4.4.2-py2.py3-none-any.whl (9.2 kB)\n",
      "Requirement already satisfied: paramiko>=1.17 in /home/jovyan/.local/lib/python3.7/site-packages (from pysftp==0.2.9->mlaas_tools2) (2.7.2)\n",
      "Requirement already satisfied: pycparser in /opt/conda/lib/python3.7/site-packages (from cffi>=1.12->cryptography==3.3.2->mlaas_tools2) (2.20)\n",
      "Collecting starlette==0.17.1\n",
      "  Downloading http://10.240.205.121:8081/repository/pypi-proxy-new/packages/starlette/0.17.1/starlette-0.17.1-py3-none-any.whl (58 kB)\n",
      "\u001b[K     |████████████████████████████████| 58 kB 104.3 MB/s eta 0:00:01\n",
      "\u001b[?25hCollecting pydantic!=1.7,!=1.7.1,!=1.7.2,!=1.7.3,!=1.8,!=1.8.1,<2.0.0,>=1.6.2\n",
      "  Downloading http://10.240.205.121:8081/repository/pypi-proxy-new/packages/pydantic/1.9.0/pydantic-1.9.0-cp37-cp37m-manylinux_2_17_x86_64.manylinux2014_x86_64.whl (10.9 MB)\n",
      "\u001b[K     |████████████████████████████████| 10.9 MB 121.0 MB/s eta 0:00:01\n",
      "\u001b[?25hRequirement already satisfied: anyio<4,>=3.0.0 in /opt/conda/lib/python3.7/site-packages (from starlette==0.17.1->fastapi>=0.65.2->mlaas_tools2) (3.5.0)\n",
      "Requirement already satisfied: typing-extensions in /opt/conda/lib/python3.7/site-packages (from starlette==0.17.1->fastapi>=0.65.2->mlaas_tools2) (4.0.1)\n",
      "Requirement already satisfied: sniffio>=1.1 in /opt/conda/lib/python3.7/site-packages (from anyio<4,>=3.0.0->starlette==0.17.1->fastapi>=0.65.2->mlaas_tools2) (1.2.0)\n",
      "Requirement already satisfied: idna>=2.8 in /opt/conda/lib/python3.7/site-packages (from anyio<4,>=3.0.0->starlette==0.17.1->fastapi>=0.65.2->mlaas_tools2) (2.8)\n",
      "Requirement already satisfied: pynacl>=1.0.1 in /home/jovyan/.local/lib/python3.7/site-packages (from paramiko>=1.17->pysftp==0.2.9->mlaas_tools2) (1.4.0)\n",
      "Requirement already satisfied: bcrypt>=3.1.3 in /home/jovyan/.local/lib/python3.7/site-packages (from paramiko>=1.17->pysftp==0.2.9->mlaas_tools2) (3.2.0)\n",
      "Requirement already satisfied: h11>=0.8 in /opt/conda/lib/python3.7/site-packages (from uvicorn<=0.13.0,>0.11.8->mlaas_tools2) (0.12.0)\n",
      "Collecting rsa\n",
      "  Downloading http://10.240.205.121:8081/repository/pypi-proxy-new/packages/rsa/4.8/rsa-4.8-py3-none-any.whl (39 kB)\n",
      "Collecting ecdsa!=0.15\n",
      "  Downloading http://10.240.205.121:8081/repository/pypi-proxy-new/packages/ecdsa/0.17.0/ecdsa-0.17.0-py2.py3-none-any.whl (119 kB)\n",
      "\u001b[K     |████████████████████████████████| 119 kB 118.6 MB/s eta 0:00:01\n",
      "\u001b[?25hCollecting pyasn1\n",
      "  Downloading http://10.240.205.121:8081/repository/pypi-proxy-new/packages/pyasn1/0.4.8/pyasn1-0.4.8-py2.py3-none-any.whl (77 kB)\n",
      "\u001b[K     |████████████████████████████████| 77 kB 111.8 MB/s eta 0:00:01\n",
      "\u001b[?25hRequirement already satisfied: charset-normalizer~=2.0.0 in /opt/conda/lib/python3.7/site-packages (from requests->mlaas_tools2) (2.0.0)\n",
      "Requirement already satisfied: pathspec>=0.5.3 in /opt/conda/lib/python3.7/site-packages (from yamllint->mlaas_tools2) (0.9.0)\n",
      "Requirement already satisfied: setuptools in /opt/conda/lib/python3.7/site-packages (from yamllint->mlaas_tools2) (49.6.0.post20210108)\n",
      "Installing collected packages: pyasn1, cryptography, starlette, rsa, pydantic, ecdsa, decorator, wget, uvloop, uvicorn, redis, python-jose, Pillow, networkx, minio, joblib, httptools, fastapi, elasticsearch, confluent-kafka, aiofiles, mlaas-tools2\n",
      "  Attempting uninstall: cryptography\n",
      "    Found existing installation: cryptography 3.4.7\n",
      "    Uninstalling cryptography-3.4.7:\n",
      "      Successfully uninstalled cryptography-3.4.7\n",
      "  Attempting uninstall: decorator\n",
      "    Found existing installation: decorator 5.0.9\n",
      "    Uninstalling decorator-5.0.9:\n",
      "      Successfully uninstalled decorator-5.0.9\n",
      "  Attempting uninstall: Pillow\n",
      "    Found existing installation: Pillow 7.2.0\n",
      "    Uninstalling Pillow-7.2.0:\n",
      "      Successfully uninstalled Pillow-7.2.0\n",
      "  Attempting uninstall: networkx\n",
      "    Found existing installation: networkx 2.5\n",
      "    Uninstalling networkx-2.5:\n",
      "      Successfully uninstalled networkx-2.5\n",
      "  Attempting uninstall: joblib\n",
      "    Found existing installation: joblib 1.0.1\n",
      "    Uninstalling joblib-1.0.1:\n",
      "      Successfully uninstalled joblib-1.0.1\n",
      "\u001b[31mERROR: pip's dependency resolver does not currently take into account all the packages that are installed. This behaviour is the source of the following dependency conflicts.\n",
      "mlaas-tools 0.1.36 requires elasticsearch==7.0.0, but you have elasticsearch 7.7.0 which is incompatible.\u001b[0m\n",
      "Successfully installed Pillow-7.1.2 aiofiles-0.8.0 confluent-kafka-1.4.2 cryptography-3.3.2 decorator-4.4.2 ecdsa-0.17.0 elasticsearch-7.7.0 fastapi-0.75.0 httptools-0.4.0 joblib-0.14.0 minio-7.1.5 mlaas-tools2-1.0.23 networkx-2.5.1 pyasn1-0.4.8 pydantic-1.9.0 python-jose-3.3.0 redis-3.0.1 rsa-4.8 starlette-0.17.1 uvicorn-0.13.0 uvloop-0.14.0 wget-3.2\n",
      "Note: you may need to restart the kernel to use updated packages.\n"
     ]
    }
   ],
   "source": [
    "pip install mlaas_tools2"
   ]
  },
  {
   "cell_type": "code",
   "execution_count": 1,
   "id": "07d79f71",
   "metadata": {
    "ExecuteTime": {
     "end_time": "2022-02-16T10:20:49.479046Z",
     "start_time": "2022-02-16T10:20:48.207819Z"
    }
   },
   "outputs": [],
   "source": [
    "import numpy as np\n",
    "import pandas as pd\n",
    "from mlaas_tools2.db_tool import DatabaseConnections\n",
    "from mlaas_tools2.config_info import ConfigPass\n",
    "from pyspark import SparkContext, SparkConf\n",
    "from pyspark.sql import SparkSession\n",
    "from pyspark.sql import Row\n",
    "from pyspark.sql.functions import col\n",
    "import pyspark.sql.functions as F\n",
    "from pyspark.sql.window import Window\n",
    "from pyspark.sql.types import DateType, StructType, StructField, StringType, LongType, DoubleType\n",
    "from pyspark.sql.functions import create_map, lit\n",
    "from pyspark.sql.functions import expr\n",
    "from sklearn.model_selection import train_test_split\n",
    "from sklearn.preprocessing import LabelEncoder\n",
    "from datetime import datetime,  timedelta\n",
    "import os\n",
    "pd.set_option('display.max_colwidth', 1000)\n",
    "pd.set_option('display.max_rows', 1000)"
   ]
  },
  {
   "cell_type": "markdown",
   "id": "95d114ae",
   "metadata": {
    "heading_collapsed": true
   },
   "source": [
    "# DB連線"
   ]
  },
  {
   "cell_type": "code",
   "execution_count": 2,
   "id": "434a13d3",
   "metadata": {},
   "outputs": [],
   "source": [
    "# from mlaas_tools.config_build import config_set\n",
    "# from mlaas_tools.config_info import ConfigPass\n",
    "# from mlaas_tools.db_tool import DatabaseConnections\n",
    "# # config_set()\n",
    "# configs = ConfigPass()._configsection\n",
    "# conns = DatabaseConnections(configs)\n",
    "# # rawdata_conn = conns.get_rawdata_db_conn()\n",
    "# # feature_conn = conns.get_feature_db_conn()\n",
    "# raw_conn = conns.get_rawdata_db_conn()\n",
    "# raw_cur = raw_conn.cursor()\n",
    "# ftr_conn = conns.get_feature_db_conn()\n",
    "# ftr_cur = ftr_conn.cursor()"
   ]
  },
  {
   "cell_type": "markdown",
   "id": "8c4c3ccf",
   "metadata": {
    "heading_collapsed": true
   },
   "source": [
    "# Spark 連線"
   ]
  },
  {
   "cell_type": "code",
   "execution_count": 3,
   "id": "3ed1b6bb",
   "metadata": {
    "ExecuteTime": {
     "end_time": "2022-02-16T10:20:53.413498Z",
     "start_time": "2022-02-16T10:20:49.605534Z"
    },
    "hidden": true
   },
   "outputs": [
    {
     "data": {
      "text/html": [
       "\n",
       "            <div>\n",
       "                <p><b>SparkSession - in-memory</b></p>\n",
       "                \n",
       "        <div>\n",
       "            <p><b>SparkContext</b></p>\n",
       "\n",
       "            <p><a href=\"http://jupyter-esb22046:4040\">Spark UI</a></p>\n",
       "\n",
       "            <dl>\n",
       "              <dt>Version</dt>\n",
       "                <dd><code>v3.0.1</code></dd>\n",
       "              <dt>Master</dt>\n",
       "                <dd><code>local[*]</code></dd>\n",
       "              <dt>AppName</dt>\n",
       "                <dd><code>T</code></dd>\n",
       "            </dl>\n",
       "        </div>\n",
       "        \n",
       "            </div>\n",
       "        "
      ],
      "text/plain": [
       "<pyspark.sql.session.SparkSession at 0x7f1d407ab850>"
      ]
     },
     "execution_count": 3,
     "metadata": {},
     "output_type": "execute_result"
    }
   ],
   "source": [
    "default = {\"spark.driver.memory\":'16g',\n",
    "           \"fs.s3a.access.key\": \"smartchannel\",\n",
    "           \"fs.s3a.secret.key\": \"smartchannel\",\n",
    "           \"fs.s3a.endpoint\": \"http://10.240.205.23:9000\",\n",
    "           \"fs.s3a.connection.ssl.enabled\": False,\n",
    "           \"fs.s3a.path.style.access\": True,} \n",
    "\n",
    "spark = SparkSession.builder.config(\n",
    "    conf = (SparkConf().setAppName(\"T\").setAll(default.items()))).getOrCreate()\n",
    "\n",
    "spark"
   ]
  },
  {
   "cell_type": "markdown",
   "id": "98c4fca9",
   "metadata": {
    "heading_collapsed": true
   },
   "source": [
    "# 從feature group 以及 layer1 讀資料"
   ]
  },
  {
   "cell_type": "code",
   "execution_count": 51,
   "id": "940573df",
   "metadata": {},
   "outputs": [],
   "source": [
    "train_start_date = '20211217'\n",
    "train_end_date = '20211225'\n",
    "test_date = '20211226'\n",
    "# test_date = '20220131'"
   ]
  },
  {
   "cell_type": "code",
   "execution_count": 34,
   "id": "44ede886",
   "metadata": {},
   "outputs": [],
   "source": [
    "train_start_date = '20211225'\n",
    "train_end_date = '20211225'\n",
    "test_date = '20211226'\n",
    "# test_date = '20220131'"
   ]
  },
  {
   "cell_type": "code",
   "execution_count": 4,
   "id": "c907f71b",
   "metadata": {},
   "outputs": [],
   "source": [
    "train_start_date = '20211217'\n",
    "train_end_date = '20211226'\n",
    "test_date = '20211227'\n",
    "# test_date = '20220131'"
   ]
  },
  {
   "cell_type": "code",
   "execution_count": 5,
   "id": "54bc08f2",
   "metadata": {},
   "outputs": [],
   "source": [
    "train_start_date = '20220220'\n",
    "train_end_date = '20220226'\n",
    "test_date = '20220227'\n",
    "# test_date = '20220131'"
   ]
  },
  {
   "cell_type": "code",
   "execution_count": 71,
   "id": "5ed34801",
   "metadata": {},
   "outputs": [],
   "source": [
    "train_start_date = '20220314'\n",
    "train_end_date = '20220319'\n",
    "test_date = '20220320'\n",
    "# test_date = '20220131'"
   ]
  },
  {
   "cell_type": "markdown",
   "id": "bc567a3e",
   "metadata": {},
   "source": [
    "## 1. item-subtag (sc_item)"
   ]
  },
  {
   "cell_type": "code",
   "execution_count": 77,
   "id": "a8a62b01",
   "metadata": {},
   "outputs": [],
   "source": [
    "item_sdf = (\n",
    "    spark.read.parquet(\n",
    "        \"s3a://df-smart-channel/recsys-dataset/beta_v4/layer1/sc_item\"\n",
    "    ).where(col('service')=='smart_channel').\n",
    "    where(\n",
    "        (col(\"date\")>=train_start_date) & (col(\"date\")<=test_date)\n",
    "    )\n",
    "    # .select(['item_id', 'date','subtag_list'])\n",
    ")"
   ]
  },
  {
   "cell_type": "code",
   "execution_count": 78,
   "id": "387b6680",
   "metadata": {},
   "outputs": [],
   "source": [
    "item_subtag_exploded = item_sdf.select(item_sdf.item_id, item_sdf.date,  F.explode(item_sdf.subtag_list))"
   ]
  },
  {
   "cell_type": "code",
   "execution_count": 79,
   "id": "9508349f",
   "metadata": {},
   "outputs": [],
   "source": [
    "item_subtag_details = item_subtag_exploded.select(['item_id', 'date', 'col.subtag' ,'col.subtag_chinese_desc','col.subtag_eng_desc']).filter(item_subtag_exploded['col.subtag_chinese_desc'].startswith('03_'))"
   ]
  },
  {
   "cell_type": "code",
   "execution_count": 80,
   "id": "f1864918",
   "metadata": {},
   "outputs": [
    {
     "name": "stdout",
     "output_type": "stream",
     "text": [
      "+--------------------+--------+--------------------+--------------------+------------------+\n",
      "|             item_id|    date|              subtag| subtag_chinese_desc|   subtag_eng_desc|\n",
      "+--------------------+--------+--------------------+--------------------+------------------+\n",
      "|8236E47D-EC12-4B4...|20220320|{D4B0AD09-7BF0-49...|03_理財意圖[360標籤]|03_wealth_view_ind|\n",
      "|8236E47D-EC12-4B4...|20220320|{198F529D-0928-4B...|03_投資意圖[360標籤]| 03_investment_ind|\n",
      "|8236E47D-EC12-4B4...|20220320|{31E61F5A-CCDC-43...|           03_純存戶|   03_account_only|\n",
      "|B105ECE3-B0EA-4F0...|20220320|{270BB666-1CC2-4F...|     03_行銀活躍用戶|  03_mobile_active|\n",
      "|B105ECE3-B0EA-4F0...|20220320|{D4B0AD09-7BF0-49...|03_理財意圖[360標籤]|03_wealth_view_ind|\n",
      "+--------------------+--------+--------------------+--------------------+------------------+\n",
      "only showing top 5 rows\n",
      "\n"
     ]
    }
   ],
   "source": [
    "item_subtag_details.show(5)"
   ]
  },
  {
   "cell_type": "code",
   "execution_count": 21,
   "id": "0bc6d877",
   "metadata": {},
   "outputs": [
    {
     "data": {
      "text/plain": [
       "[Row(date=20220320), Row(date=20220319)]"
      ]
     },
     "execution_count": 21,
     "metadata": {},
     "output_type": "execute_result"
    }
   ],
   "source": [
    "item_subtag_details.select('date').distinct().collect()"
   ]
  },
  {
   "cell_type": "code",
   "execution_count": 9,
   "id": "4558bc8b",
   "metadata": {},
   "outputs": [],
   "source": [
    "item_subtag_net = item_subtag_details.select(['item_id', 'date', 'subtag_eng_desc'])"
   ]
  },
  {
   "cell_type": "code",
   "execution_count": 10,
   "id": "23aa8dd9",
   "metadata": {},
   "outputs": [
    {
     "name": "stdout",
     "output_type": "stream",
     "text": [
      "+--------------------+--------+------------------+\n",
      "|             item_id|    date|   subtag_eng_desc|\n",
      "+--------------------+--------+------------------+\n",
      "|8236E47D-EC12-4B4...|20211219|03_wealth_view_ind|\n",
      "|8236E47D-EC12-4B4...|20211219| 03_investment_ind|\n",
      "|8236E47D-EC12-4B4...|20211219|   03_account_only|\n",
      "|0266753B-F0CD-460...|20211219|03_wealth_view_ind|\n",
      "|0266753B-F0CD-460...|20211219|     03_no_fc_cust|\n",
      "+--------------------+--------+------------------+\n",
      "only showing top 5 rows\n",
      "\n"
     ]
    }
   ],
   "source": [
    "item_subtag_net.show(5)"
   ]
  },
  {
   "cell_type": "code",
   "execution_count": 11,
   "id": "1372b7c4",
   "metadata": {},
   "outputs": [],
   "source": [
    "item_subtag_net_train = item_subtag_net.filter(item_subtag_net.date == train_end_date)\n",
    "item_subtag_net_test = item_subtag_net.filter(item_subtag_net.date == test_date)"
   ]
  },
  {
   "cell_type": "code",
   "execution_count": 12,
   "id": "4c0ca9f7",
   "metadata": {},
   "outputs": [],
   "source": [
    "item_subtag_df_train = item_subtag_net_train.toPandas()\n",
    "item_subtag_df_test = item_subtag_net_train.toPandas()"
   ]
  },
  {
   "cell_type": "code",
   "execution_count": 39,
   "id": "1d30ac3a",
   "metadata": {},
   "outputs": [],
   "source": [
    "def export_file(df, test_date, file_name):\n",
    "    dir_name = f'date={test_date}'\n",
    "    dir_path = os.path.join(f'..//..//..//data//preprocessed//{dir_name}')\n",
    "    # print(dir_path)\n",
    "    if not os.path.isdir(dir_path):\n",
    "    #if not os.path.isdir(dir_path):\n",
    "        # print( os.path.isdir(dir_path))\n",
    "        os.mkdir(dir_name)\n",
    "        #os.makedirs(dir_name , exist_ok=False)\n",
    "    file_path = os.path.join(dir_path, file_name)\n",
    "    print(file_path)\n",
    "    df.to_csv(file_path, index = False)"
   ]
  },
  {
   "cell_type": "code",
   "execution_count": 41,
   "id": "4a5a4660",
   "metadata": {},
   "outputs": [
    {
     "name": "stdout",
     "output_type": "stream",
     "text": [
      "..//..//..//data//preprocessed//date=20211227/item_subtag.csv\n"
     ]
    }
   ],
   "source": [
    "export_file(item_subtag_df_test, test_date, 'item_subtag.csv')"
   ]
  },
  {
   "cell_type": "markdown",
   "id": "cb756112",
   "metadata": {},
   "source": [
    "### 2.user-item (context)"
   ]
  },
  {
   "cell_type": "code",
   "execution_count": 81,
   "id": "95acd0c3",
   "metadata": {},
   "outputs": [],
   "source": [
    "context_sdf = (\n",
    "    spark.read.parquet(\n",
    "        \"s3a://df-smart-channel/recsys-dataset/beta_v4/layer1/context\"\n",
    "    ).where(\n",
    "        (col(\"date\")>=train_start_date) & (col(\"date\")<=test_date)\n",
    "    )\n",
    ")"
   ]
  },
  {
   "cell_type": "code",
   "execution_count": 57,
   "id": "ea38ff26",
   "metadata": {},
   "outputs": [],
   "source": [
    "# context_sdf_df = (\n",
    "#     spark.read.parquet(\n",
    "#         \"/home/jovyan/df-smart-channel/recsys-dataset/beta_v2/layer1/context\"\n",
    "#     ).where(\n",
    "#         (col(\"date\")>=train_start_date) & (col(\"date\")<=test_date)\n",
    "#     )\n",
    "# )"
   ]
  },
  {
   "cell_type": "code",
   "execution_count": 63,
   "id": "bbaa8085",
   "metadata": {},
   "outputs": [
    {
     "data": {
      "text/plain": [
       "['cust_no',\n",
       " 'web_event_list',\n",
       " 'purchase_fx_list',\n",
       " 'app_click_list',\n",
       " 'item_click_list',\n",
       " 'date']"
      ]
     },
     "execution_count": 63,
     "metadata": {},
     "output_type": "execute_result"
    }
   ],
   "source": [
    "clean_context_sdf.columns"
   ]
  },
  {
   "cell_type": "code",
   "execution_count": 64,
   "id": "ca5b194a",
   "metadata": {},
   "outputs": [
    {
     "data": {
      "text/plain": [
       "['click',\n",
       " 'cust_no',\n",
       " 'date',\n",
       " 'item_id',\n",
       " 'visitdatetime',\n",
       " 'eventdatetime',\n",
       " 'show',\n",
       " 'rank']"
      ]
     },
     "execution_count": 64,
     "metadata": {},
     "output_type": "execute_result"
    }
   ],
   "source": [
    "flatten_clean_context_sdf.columns"
   ]
  },
  {
   "cell_type": "code",
   "execution_count": 86,
   "id": "0c10cb56",
   "metadata": {},
   "outputs": [],
   "source": [
    "clean_context_sdf = context_sdf.where(col('item_click_list').isNotNull())\n",
    "clean_context_sdf = clean_context_sdf.select(clean_context_sdf.cust_no, \n",
    "                                             clean_context_sdf.date,\n",
    "                                             F.explode(clean_context_sdf.item_click_list))\n",
    "# 選出欄位\n",
    "flatten_clean_context_sdf = clean_context_sdf.select(F.col('cust_no'), F.col('date'), F.col('col.*'))"
   ]
  },
  {
   "cell_type": "code",
   "execution_count": 87,
   "id": "73ace1fc",
   "metadata": {},
   "outputs": [
    {
     "data": {
      "text/plain": [
       "['cust_no', 'date', 'item_id', 'hits_eventinfo_eventcategory', 'click', 'show']"
      ]
     },
     "execution_count": 87,
     "metadata": {},
     "output_type": "execute_result"
    }
   ],
   "source": [
    "flatten_clean_context_sdf.columns"
   ]
  },
  {
   "cell_type": "code",
   "execution_count": 83,
   "id": "22d5a027",
   "metadata": {},
   "outputs": [
    {
     "name": "stdout",
     "output_type": "stream",
     "text": [
      "去除沒有點擊紀錄後context的數目: 1252286\n",
      "展開item後context的數目: 2660366\n",
      "選 df_smart_channel後context的數目: 2021878\n",
      "過濾掉公版後context的數目: 792949\n"
     ]
    },
    {
     "ename": "AnalysisException",
     "evalue": "cannot resolve '`visitdatetime`' given input columns: [button_link_1, button_link_2, button_text_1, button_text_2, click, click_30, click_by_person, click_by_person_ratio, click_ratio, cust_no, date, hits_eventinfo_eventcategory, item_id, main_image, main_tag, main_title, maintag_chinese_desc, maintag_eng_desc, parent_id, product_id, product_link, service, show, show_30, show_by_person, sub_tag, sub_title, subtag_list, type];;\n'Project [item_id#22366, cust_no#21891, date#21896, 'visitdatetime, 'eventdatetime, click#22368L, show#22369L]\n+- Filter NOT (service#21801 = public_content)\n   +- Project [item_id#22366, date#21896, cust_no#21891, hits_eventinfo_eventcategory#22367, click#22368L, show#22369L, main_tag#21799, main_image#21800, service#21801, parent_id#21803, product_id#21804, button_link_1#21805, button_link_2#21806, product_link#21807, button_text_1#21808, button_text_2#21809, main_title#21810, sub_title#21811, sub_tag#21812, type#21813, click_30#21814, show_30#21815, maintag_chinese_desc#21816, maintag_eng_desc#21817, ... 5 more fields]\n      +- Join LeftOuter, ((item_id#22366 = item_id#21802) AND (date#21896 = date#21825))\n         :- Filter (hits_eventinfo_eventcategory#22367 = smart_channel)\n         :  +- Project [cust_no#21891, date#21896, col#22362.item_id AS item_id#22366, col#22362.hits_eventinfo_eventcategory AS hits_eventinfo_eventcategory#22367, col#22362.click AS click#22368L, col#22362.show AS show#22369L]\n         :     +- Project [cust_no#21891, date#21896, col#22362]\n         :        +- Generate explode(item_click_list#21895), false, [col#22362]\n         :           +- Filter isnotnull(item_click_list#21895)\n         :              +- Filter ((date#21896 >= cast(20220314 as int)) AND (date#21896 <= cast(20220320 as int)))\n         :                 +- Relation[cust_no#21891,web_event_list#21892,purchase_fx_list#21893,app_click_list#21894,item_click_list#21895,date#21896] parquet\n         +- Project [main_tag#21799, main_image#21800, service#21801, item_id#21802, parent_id#21803, product_id#21804, button_link_1#21805, button_link_2#21806, product_link#21807, button_text_1#21808, button_text_2#21809, main_title#21810, sub_title#21811, sub_tag#21812, type#21813, click_30#21814, show_30#21815, maintag_chinese_desc#21816, maintag_eng_desc#21817, click_ratio#21820, show_by_person#21821, click_by_person#21822, click_by_person_ratio#21823, subtag_list#21824, date#21825]\n            +- Filter ((date#21825 >= cast(20220314 as int)) AND (date#21825 <= cast(20220320 as int)))\n               +- Filter (service#21801 = smart_channel)\n                  +- Relation[main_tag#21799,main_image#21800,service#21801,item_id#21802,parent_id#21803,product_id#21804,button_link_1#21805,button_link_2#21806,product_link#21807,button_text_1#21808,button_text_2#21809,main_title#21810,sub_title#21811,sub_tag#21812,type#21813,click_30#21814,show_30#21815,maintag_chinese_desc#21816,maintag_eng_desc#21817,show#21818,click#21819,click_ratio#21820,show_by_person#21821,click_by_person#21822,... 3 more fields] parquet\n",
     "output_type": "error",
     "traceback": [
      "\u001b[0;31m---------------------------------------------------------------------------\u001b[0m",
      "\u001b[0;31mAnalysisException\u001b[0m                         Traceback (most recent call last)",
      "\u001b[0;32m<ipython-input-83-66144930eb8c>\u001b[0m in \u001b[0;36m<module>\u001b[0;34m\u001b[0m\n\u001b[1;32m     19\u001b[0m \u001b[0;34m\u001b[0m\u001b[0m\n\u001b[1;32m     20\u001b[0m flatten_clean_context_sdf = flatten_clean_context_sdf.select(F.col('item_id'), F.col('cust_no'), F.col('date'),\n\u001b[0;32m---> 21\u001b[0;31m                                \u001b[0mF\u001b[0m\u001b[0;34m.\u001b[0m\u001b[0mcol\u001b[0m\u001b[0;34m(\u001b[0m\u001b[0;34m'visitdatetime'\u001b[0m\u001b[0;34m)\u001b[0m\u001b[0;34m,\u001b[0m \u001b[0mF\u001b[0m\u001b[0;34m.\u001b[0m\u001b[0mcol\u001b[0m\u001b[0;34m(\u001b[0m\u001b[0;34m'eventdatetime'\u001b[0m\u001b[0;34m)\u001b[0m\u001b[0;34m,\u001b[0m \u001b[0mF\u001b[0m\u001b[0;34m.\u001b[0m\u001b[0mcol\u001b[0m\u001b[0;34m(\u001b[0m\u001b[0;34m'click'\u001b[0m\u001b[0;34m)\u001b[0m\u001b[0;34m,\u001b[0m \u001b[0mF\u001b[0m\u001b[0;34m.\u001b[0m\u001b[0mcol\u001b[0m\u001b[0;34m(\u001b[0m\u001b[0;34m'show'\u001b[0m\u001b[0;34m)\u001b[0m\u001b[0;34m\u001b[0m\u001b[0;34m\u001b[0m\u001b[0m\n\u001b[0m\u001b[1;32m     22\u001b[0m                               )\n\u001b[1;32m     23\u001b[0m \u001b[0;31m# 找出最先點擊或最先曝光(一天可能點同一個item多次)\u001b[0m\u001b[0;34m\u001b[0m\u001b[0;34m\u001b[0m\u001b[0;34m\u001b[0m\u001b[0m\n",
      "\u001b[0;32m/usr/local/spark/python/pyspark/sql/dataframe.py\u001b[0m in \u001b[0;36mselect\u001b[0;34m(self, *cols)\u001b[0m\n\u001b[1;32m   1419\u001b[0m         \u001b[0;34m[\u001b[0m\u001b[0mRow\u001b[0m\u001b[0;34m(\u001b[0m\u001b[0mname\u001b[0m\u001b[0;34m=\u001b[0m\u001b[0;34mu'Alice'\u001b[0m\u001b[0;34m,\u001b[0m \u001b[0mage\u001b[0m\u001b[0;34m=\u001b[0m\u001b[0;36m12\u001b[0m\u001b[0;34m)\u001b[0m\u001b[0;34m,\u001b[0m \u001b[0mRow\u001b[0m\u001b[0;34m(\u001b[0m\u001b[0mname\u001b[0m\u001b[0;34m=\u001b[0m\u001b[0;34mu'Bob'\u001b[0m\u001b[0;34m,\u001b[0m \u001b[0mage\u001b[0m\u001b[0;34m=\u001b[0m\u001b[0;36m15\u001b[0m\u001b[0;34m)\u001b[0m\u001b[0;34m]\u001b[0m\u001b[0;34m\u001b[0m\u001b[0;34m\u001b[0m\u001b[0m\n\u001b[1;32m   1420\u001b[0m         \"\"\"\n\u001b[0;32m-> 1421\u001b[0;31m         \u001b[0mjdf\u001b[0m \u001b[0;34m=\u001b[0m \u001b[0mself\u001b[0m\u001b[0;34m.\u001b[0m\u001b[0m_jdf\u001b[0m\u001b[0;34m.\u001b[0m\u001b[0mselect\u001b[0m\u001b[0;34m(\u001b[0m\u001b[0mself\u001b[0m\u001b[0;34m.\u001b[0m\u001b[0m_jcols\u001b[0m\u001b[0;34m(\u001b[0m\u001b[0;34m*\u001b[0m\u001b[0mcols\u001b[0m\u001b[0;34m)\u001b[0m\u001b[0;34m)\u001b[0m\u001b[0;34m\u001b[0m\u001b[0;34m\u001b[0m\u001b[0m\n\u001b[0m\u001b[1;32m   1422\u001b[0m         \u001b[0;32mreturn\u001b[0m \u001b[0mDataFrame\u001b[0m\u001b[0;34m(\u001b[0m\u001b[0mjdf\u001b[0m\u001b[0;34m,\u001b[0m \u001b[0mself\u001b[0m\u001b[0;34m.\u001b[0m\u001b[0msql_ctx\u001b[0m\u001b[0;34m)\u001b[0m\u001b[0;34m\u001b[0m\u001b[0;34m\u001b[0m\u001b[0m\n\u001b[1;32m   1423\u001b[0m \u001b[0;34m\u001b[0m\u001b[0m\n",
      "\u001b[0;32m/usr/local/spark/python/lib/py4j-0.10.9-src.zip/py4j/java_gateway.py\u001b[0m in \u001b[0;36m__call__\u001b[0;34m(self, *args)\u001b[0m\n\u001b[1;32m   1303\u001b[0m         \u001b[0manswer\u001b[0m \u001b[0;34m=\u001b[0m \u001b[0mself\u001b[0m\u001b[0;34m.\u001b[0m\u001b[0mgateway_client\u001b[0m\u001b[0;34m.\u001b[0m\u001b[0msend_command\u001b[0m\u001b[0;34m(\u001b[0m\u001b[0mcommand\u001b[0m\u001b[0;34m)\u001b[0m\u001b[0;34m\u001b[0m\u001b[0;34m\u001b[0m\u001b[0m\n\u001b[1;32m   1304\u001b[0m         return_value = get_return_value(\n\u001b[0;32m-> 1305\u001b[0;31m             answer, self.gateway_client, self.target_id, self.name)\n\u001b[0m\u001b[1;32m   1306\u001b[0m \u001b[0;34m\u001b[0m\u001b[0m\n\u001b[1;32m   1307\u001b[0m         \u001b[0;32mfor\u001b[0m \u001b[0mtemp_arg\u001b[0m \u001b[0;32min\u001b[0m \u001b[0mtemp_args\u001b[0m\u001b[0;34m:\u001b[0m\u001b[0;34m\u001b[0m\u001b[0;34m\u001b[0m\u001b[0m\n",
      "\u001b[0;32m/usr/local/spark/python/pyspark/sql/utils.py\u001b[0m in \u001b[0;36mdeco\u001b[0;34m(*a, **kw)\u001b[0m\n\u001b[1;32m    132\u001b[0m                 \u001b[0;31m# Hide where the exception came from that shows a non-Pythonic\u001b[0m\u001b[0;34m\u001b[0m\u001b[0;34m\u001b[0m\u001b[0;34m\u001b[0m\u001b[0m\n\u001b[1;32m    133\u001b[0m                 \u001b[0;31m# JVM exception message.\u001b[0m\u001b[0;34m\u001b[0m\u001b[0;34m\u001b[0m\u001b[0;34m\u001b[0m\u001b[0m\n\u001b[0;32m--> 134\u001b[0;31m                 \u001b[0mraise_from\u001b[0m\u001b[0;34m(\u001b[0m\u001b[0mconverted\u001b[0m\u001b[0;34m)\u001b[0m\u001b[0;34m\u001b[0m\u001b[0;34m\u001b[0m\u001b[0m\n\u001b[0m\u001b[1;32m    135\u001b[0m             \u001b[0;32melse\u001b[0m\u001b[0;34m:\u001b[0m\u001b[0;34m\u001b[0m\u001b[0;34m\u001b[0m\u001b[0m\n\u001b[1;32m    136\u001b[0m                 \u001b[0;32mraise\u001b[0m\u001b[0;34m\u001b[0m\u001b[0;34m\u001b[0m\u001b[0m\n",
      "\u001b[0;32m/usr/local/spark/python/pyspark/sql/utils.py\u001b[0m in \u001b[0;36mraise_from\u001b[0;34m(e)\u001b[0m\n",
      "\u001b[0;31mAnalysisException\u001b[0m: cannot resolve '`visitdatetime`' given input columns: [button_link_1, button_link_2, button_text_1, button_text_2, click, click_30, click_by_person, click_by_person_ratio, click_ratio, cust_no, date, hits_eventinfo_eventcategory, item_id, main_image, main_tag, main_title, maintag_chinese_desc, maintag_eng_desc, parent_id, product_id, product_link, service, show, show_30, show_by_person, sub_tag, sub_title, subtag_list, type];;\n'Project [item_id#22366, cust_no#21891, date#21896, 'visitdatetime, 'eventdatetime, click#22368L, show#22369L]\n+- Filter NOT (service#21801 = public_content)\n   +- Project [item_id#22366, date#21896, cust_no#21891, hits_eventinfo_eventcategory#22367, click#22368L, show#22369L, main_tag#21799, main_image#21800, service#21801, parent_id#21803, product_id#21804, button_link_1#21805, button_link_2#21806, product_link#21807, button_text_1#21808, button_text_2#21809, main_title#21810, sub_title#21811, sub_tag#21812, type#21813, click_30#21814, show_30#21815, maintag_chinese_desc#21816, maintag_eng_desc#21817, ... 5 more fields]\n      +- Join LeftOuter, ((item_id#22366 = item_id#21802) AND (date#21896 = date#21825))\n         :- Filter (hits_eventinfo_eventcategory#22367 = smart_channel)\n         :  +- Project [cust_no#21891, date#21896, col#22362.item_id AS item_id#22366, col#22362.hits_eventinfo_eventcategory AS hits_eventinfo_eventcategory#22367, col#22362.click AS click#22368L, col#22362.show AS show#22369L]\n         :     +- Project [cust_no#21891, date#21896, col#22362]\n         :        +- Generate explode(item_click_list#21895), false, [col#22362]\n         :           +- Filter isnotnull(item_click_list#21895)\n         :              +- Filter ((date#21896 >= cast(20220314 as int)) AND (date#21896 <= cast(20220320 as int)))\n         :                 +- Relation[cust_no#21891,web_event_list#21892,purchase_fx_list#21893,app_click_list#21894,item_click_list#21895,date#21896] parquet\n         +- Project [main_tag#21799, main_image#21800, service#21801, item_id#21802, parent_id#21803, product_id#21804, button_link_1#21805, button_link_2#21806, product_link#21807, button_text_1#21808, button_text_2#21809, main_title#21810, sub_title#21811, sub_tag#21812, type#21813, click_30#21814, show_30#21815, maintag_chinese_desc#21816, maintag_eng_desc#21817, click_ratio#21820, show_by_person#21821, click_by_person#21822, click_by_person_ratio#21823, subtag_list#21824, date#21825]\n            +- Filter ((date#21825 >= cast(20220314 as int)) AND (date#21825 <= cast(20220320 as int)))\n               +- Filter (service#21801 = smart_channel)\n                  +- Relation[main_tag#21799,main_image#21800,service#21801,item_id#21802,parent_id#21803,product_id#21804,button_link_1#21805,button_link_2#21806,product_link#21807,button_text_1#21808,button_text_2#21809,main_title#21810,sub_title#21811,sub_tag#21812,type#21813,click_30#21814,show_30#21815,maintag_chinese_desc#21816,maintag_eng_desc#21817,show#21818,click#21819,click_ratio#21820,show_by_person#21821,click_by_person#21822,... 3 more fields] parquet\n"
     ]
    }
   ],
   "source": [
    "# 去除沒有點擊紀錄的\n",
    "clean_context_sdf = context_sdf.where(col('item_click_list').isNotNull())\n",
    "print('去除沒有點擊紀錄後context的數目:', clean_context_sdf.count())\n",
    "# 將item_click_list展開\n",
    "clean_context_sdf = clean_context_sdf.select(clean_context_sdf.cust_no, \n",
    "                                             clean_context_sdf.date,\n",
    "                                             F.explode(clean_context_sdf.item_click_list))\n",
    "# 選出欄位\n",
    "flatten_clean_context_sdf = clean_context_sdf.select(F.col('cust_no'), F.col('date'), F.col('col.*'))\n",
    "print('展開item後context的數目:', flatten_clean_context_sdf.count())\n",
    "# 選 df_smart_channel\n",
    "flatten_clean_context_sdf = flatten_clean_context_sdf.where(col('hits_eventinfo_eventcategory')=='smart_channel')\n",
    "print('選 df_smart_channel後context的數目:', flatten_clean_context_sdf.count())\n",
    "# 和item sdf合併\n",
    "flatten_clean_context_sdf = flatten_clean_context_sdf.join(item_sdf.drop('click', 'show'), on=['item_id', 'date'], how='left')\n",
    "# 過濾掉公版\n",
    "flatten_clean_context_sdf = flatten_clean_context_sdf.where(col('service')!='public_content')\n",
    "print('過濾掉公版後context的數目:', flatten_clean_context_sdf.count())\n",
    "\n",
    "flatten_clean_context_sdf = flatten_clean_context_sdf.select(F.col('item_id'), F.col('cust_no'), F.col('date'),\n",
    "                               F.col('visitdatetime'), F.col('eventdatetime'), F.col('click'), F.col('show')\n",
    "                              )\n",
    "# 找出最先點擊或最先曝光(一天可能點同一個item多次)\n",
    "flatten_clean_context_sdf = flatten_clean_context_sdf.withColumn(\"day_order\", F.row_number().over(Window.partitionBy(['cust_no', 'date', 'item_id']).orderBy(flatten_clean_context_sdf['eventdatetime'])))\n",
    "# 計算該顧客在當天點同一個item的點擊和曝光總數\n",
    "cust_click_bydate = flatten_clean_context_sdf.groupby(['cust_no', 'date', 'item_id']).sum('click').withColumnRenamed('sum(click)', 'click')\n",
    "cust_show_bydate = flatten_clean_context_sdf.groupby(['cust_no', 'date', 'item_id']).sum('show').withColumnRenamed('sum(show)', 'show')\n",
    "# 選最先點擊的item\n",
    "flatten_clean_context_sdf = flatten_clean_context_sdf.where(col('day_order')==1).drop('click', 'show', 'day_order')\n",
    "flatten_clean_context_sdf = flatten_clean_context_sdf.join(cust_click_bydate, on=['cust_no', 'date', 'item_id'], how='left')\n",
    "flatten_clean_context_sdf = flatten_clean_context_sdf.join(cust_show_bydate, on=['cust_no', 'date', 'item_id'], how='left')\n",
    "# 計算點擊排名。挑出有點擊的人做排名 15674人有點擊 rank最多為2\n",
    "click_sdf = flatten_clean_context_sdf.where(col('click')>0)\n",
    "click_sdf = click_sdf.withColumn(\"rank\", F.row_number().over(Window.partitionBy(['cust_no', 'date']).orderBy(click_sdf['eventdatetime'])))\n",
    "flatten_clean_context_sdf = flatten_clean_context_sdf.join(click_sdf.select('click', 'cust_no', 'date', 'item_id', 'rank'), on=['click', 'cust_no', 'date', 'item_id'], how='left')\n",
    "print('Total Context number:', flatten_clean_context_sdf.count())"
   ]
  },
  {
   "cell_type": "code",
   "execution_count": 62,
   "id": "f1681398",
   "metadata": {},
   "outputs": [
    {
     "data": {
      "text/plain": [
       "DataFrame[click: bigint, cust_no: string, date: int, item_id: string, visitdatetime: timestamp, eventdatetime: timestamp, show: bigint, rank: int]"
      ]
     },
     "execution_count": 62,
     "metadata": {},
     "output_type": "execute_result"
    }
   ],
   "source": [
    "flatten_clean_context_sdf"
   ]
  },
  {
   "cell_type": "code",
   "execution_count": 60,
   "id": "e42269aa",
   "metadata": {},
   "outputs": [
    {
     "ename": "KeyboardInterrupt",
     "evalue": "",
     "output_type": "error",
     "traceback": [
      "\u001b[0;31m---------------------------------------------------------------------------\u001b[0m",
      "\u001b[0;31mKeyboardInterrupt\u001b[0m                         Traceback (most recent call last)",
      "\u001b[0;32m<ipython-input-60-988ca30eaabc>\u001b[0m in \u001b[0;36m<module>\u001b[0;34m\u001b[0m\n\u001b[1;32m      1\u001b[0m \u001b[0;31m# 去除沒有點擊紀錄的\u001b[0m\u001b[0;34m\u001b[0m\u001b[0;34m\u001b[0m\u001b[0;34m\u001b[0m\u001b[0m\n\u001b[1;32m      2\u001b[0m \u001b[0mclean_context_sdf\u001b[0m \u001b[0;34m=\u001b[0m \u001b[0mcontext_sdf\u001b[0m\u001b[0;34m.\u001b[0m\u001b[0mwhere\u001b[0m\u001b[0;34m(\u001b[0m\u001b[0mcol\u001b[0m\u001b[0;34m(\u001b[0m\u001b[0;34m'item_click_list'\u001b[0m\u001b[0;34m)\u001b[0m\u001b[0;34m.\u001b[0m\u001b[0misNotNull\u001b[0m\u001b[0;34m(\u001b[0m\u001b[0;34m)\u001b[0m\u001b[0;34m)\u001b[0m\u001b[0;34m\u001b[0m\u001b[0;34m\u001b[0m\u001b[0m\n\u001b[0;32m----> 3\u001b[0;31m \u001b[0mprint\u001b[0m\u001b[0;34m(\u001b[0m\u001b[0;34m'去除沒有點擊紀錄後context的數目:'\u001b[0m\u001b[0;34m,\u001b[0m \u001b[0mclean_context_sdf\u001b[0m\u001b[0;34m.\u001b[0m\u001b[0mcount\u001b[0m\u001b[0;34m(\u001b[0m\u001b[0;34m)\u001b[0m\u001b[0;34m)\u001b[0m\u001b[0;34m\u001b[0m\u001b[0;34m\u001b[0m\u001b[0m\n\u001b[0m\u001b[1;32m      4\u001b[0m \u001b[0;31m# 將item_click_list展開\u001b[0m\u001b[0;34m\u001b[0m\u001b[0;34m\u001b[0m\u001b[0;34m\u001b[0m\u001b[0m\n\u001b[1;32m      5\u001b[0m clean_context_sdf = clean_context_sdf.select(clean_context_sdf.cust_no, \n",
      "\u001b[0;32m/usr/local/spark/python/pyspark/sql/dataframe.py\u001b[0m in \u001b[0;36mcount\u001b[0;34m(self)\u001b[0m\n\u001b[1;32m    583\u001b[0m         \u001b[0;36m2\u001b[0m\u001b[0;34m\u001b[0m\u001b[0;34m\u001b[0m\u001b[0m\n\u001b[1;32m    584\u001b[0m         \"\"\"\n\u001b[0;32m--> 585\u001b[0;31m         \u001b[0;32mreturn\u001b[0m \u001b[0mint\u001b[0m\u001b[0;34m(\u001b[0m\u001b[0mself\u001b[0m\u001b[0;34m.\u001b[0m\u001b[0m_jdf\u001b[0m\u001b[0;34m.\u001b[0m\u001b[0mcount\u001b[0m\u001b[0;34m(\u001b[0m\u001b[0;34m)\u001b[0m\u001b[0;34m)\u001b[0m\u001b[0;34m\u001b[0m\u001b[0;34m\u001b[0m\u001b[0m\n\u001b[0m\u001b[1;32m    586\u001b[0m \u001b[0;34m\u001b[0m\u001b[0m\n\u001b[1;32m    587\u001b[0m     \u001b[0;34m@\u001b[0m\u001b[0mignore_unicode_prefix\u001b[0m\u001b[0;34m\u001b[0m\u001b[0;34m\u001b[0m\u001b[0m\n",
      "\u001b[0;32m/usr/local/spark/python/lib/py4j-0.10.9-src.zip/py4j/java_gateway.py\u001b[0m in \u001b[0;36m__call__\u001b[0;34m(self, *args)\u001b[0m\n\u001b[1;32m   1301\u001b[0m             \u001b[0mproto\u001b[0m\u001b[0;34m.\u001b[0m\u001b[0mEND_COMMAND_PART\u001b[0m\u001b[0;34m\u001b[0m\u001b[0;34m\u001b[0m\u001b[0m\n\u001b[1;32m   1302\u001b[0m \u001b[0;34m\u001b[0m\u001b[0m\n\u001b[0;32m-> 1303\u001b[0;31m         \u001b[0manswer\u001b[0m \u001b[0;34m=\u001b[0m \u001b[0mself\u001b[0m\u001b[0;34m.\u001b[0m\u001b[0mgateway_client\u001b[0m\u001b[0;34m.\u001b[0m\u001b[0msend_command\u001b[0m\u001b[0;34m(\u001b[0m\u001b[0mcommand\u001b[0m\u001b[0;34m)\u001b[0m\u001b[0;34m\u001b[0m\u001b[0;34m\u001b[0m\u001b[0m\n\u001b[0m\u001b[1;32m   1304\u001b[0m         return_value = get_return_value(\n\u001b[1;32m   1305\u001b[0m             answer, self.gateway_client, self.target_id, self.name)\n",
      "\u001b[0;32m/usr/local/spark/python/lib/py4j-0.10.9-src.zip/py4j/java_gateway.py\u001b[0m in \u001b[0;36msend_command\u001b[0;34m(self, command, retry, binary)\u001b[0m\n\u001b[1;32m   1031\u001b[0m         \u001b[0mconnection\u001b[0m \u001b[0;34m=\u001b[0m \u001b[0mself\u001b[0m\u001b[0;34m.\u001b[0m\u001b[0m_get_connection\u001b[0m\u001b[0;34m(\u001b[0m\u001b[0;34m)\u001b[0m\u001b[0;34m\u001b[0m\u001b[0;34m\u001b[0m\u001b[0m\n\u001b[1;32m   1032\u001b[0m         \u001b[0;32mtry\u001b[0m\u001b[0;34m:\u001b[0m\u001b[0;34m\u001b[0m\u001b[0;34m\u001b[0m\u001b[0m\n\u001b[0;32m-> 1033\u001b[0;31m             \u001b[0mresponse\u001b[0m \u001b[0;34m=\u001b[0m \u001b[0mconnection\u001b[0m\u001b[0;34m.\u001b[0m\u001b[0msend_command\u001b[0m\u001b[0;34m(\u001b[0m\u001b[0mcommand\u001b[0m\u001b[0;34m)\u001b[0m\u001b[0;34m\u001b[0m\u001b[0;34m\u001b[0m\u001b[0m\n\u001b[0m\u001b[1;32m   1034\u001b[0m             \u001b[0;32mif\u001b[0m \u001b[0mbinary\u001b[0m\u001b[0;34m:\u001b[0m\u001b[0;34m\u001b[0m\u001b[0;34m\u001b[0m\u001b[0m\n\u001b[1;32m   1035\u001b[0m                 \u001b[0;32mreturn\u001b[0m \u001b[0mresponse\u001b[0m\u001b[0;34m,\u001b[0m \u001b[0mself\u001b[0m\u001b[0;34m.\u001b[0m\u001b[0m_create_connection_guard\u001b[0m\u001b[0;34m(\u001b[0m\u001b[0mconnection\u001b[0m\u001b[0;34m)\u001b[0m\u001b[0;34m\u001b[0m\u001b[0;34m\u001b[0m\u001b[0m\n",
      "\u001b[0;32m/usr/local/spark/python/lib/py4j-0.10.9-src.zip/py4j/java_gateway.py\u001b[0m in \u001b[0;36msend_command\u001b[0;34m(self, command)\u001b[0m\n\u001b[1;32m   1198\u001b[0m \u001b[0;34m\u001b[0m\u001b[0m\n\u001b[1;32m   1199\u001b[0m         \u001b[0;32mtry\u001b[0m\u001b[0;34m:\u001b[0m\u001b[0;34m\u001b[0m\u001b[0;34m\u001b[0m\u001b[0m\n\u001b[0;32m-> 1200\u001b[0;31m             \u001b[0manswer\u001b[0m \u001b[0;34m=\u001b[0m \u001b[0msmart_decode\u001b[0m\u001b[0;34m(\u001b[0m\u001b[0mself\u001b[0m\u001b[0;34m.\u001b[0m\u001b[0mstream\u001b[0m\u001b[0;34m.\u001b[0m\u001b[0mreadline\u001b[0m\u001b[0;34m(\u001b[0m\u001b[0;34m)\u001b[0m\u001b[0;34m[\u001b[0m\u001b[0;34m:\u001b[0m\u001b[0;34m-\u001b[0m\u001b[0;36m1\u001b[0m\u001b[0;34m]\u001b[0m\u001b[0;34m)\u001b[0m\u001b[0;34m\u001b[0m\u001b[0;34m\u001b[0m\u001b[0m\n\u001b[0m\u001b[1;32m   1201\u001b[0m             \u001b[0mlogger\u001b[0m\u001b[0;34m.\u001b[0m\u001b[0mdebug\u001b[0m\u001b[0;34m(\u001b[0m\u001b[0;34m\"Answer received: {0}\"\u001b[0m\u001b[0;34m.\u001b[0m\u001b[0mformat\u001b[0m\u001b[0;34m(\u001b[0m\u001b[0manswer\u001b[0m\u001b[0;34m)\u001b[0m\u001b[0;34m)\u001b[0m\u001b[0;34m\u001b[0m\u001b[0;34m\u001b[0m\u001b[0m\n\u001b[1;32m   1202\u001b[0m             \u001b[0;32mif\u001b[0m \u001b[0manswer\u001b[0m\u001b[0;34m.\u001b[0m\u001b[0mstartswith\u001b[0m\u001b[0;34m(\u001b[0m\u001b[0mproto\u001b[0m\u001b[0;34m.\u001b[0m\u001b[0mRETURN_MESSAGE\u001b[0m\u001b[0;34m)\u001b[0m\u001b[0;34m:\u001b[0m\u001b[0;34m\u001b[0m\u001b[0;34m\u001b[0m\u001b[0m\n",
      "\u001b[0;32m/opt/conda/lib/python3.7/socket.py\u001b[0m in \u001b[0;36mreadinto\u001b[0;34m(self, b)\u001b[0m\n\u001b[1;32m    587\u001b[0m         \u001b[0;32mwhile\u001b[0m \u001b[0;32mTrue\u001b[0m\u001b[0;34m:\u001b[0m\u001b[0;34m\u001b[0m\u001b[0;34m\u001b[0m\u001b[0m\n\u001b[1;32m    588\u001b[0m             \u001b[0;32mtry\u001b[0m\u001b[0;34m:\u001b[0m\u001b[0;34m\u001b[0m\u001b[0;34m\u001b[0m\u001b[0m\n\u001b[0;32m--> 589\u001b[0;31m                 \u001b[0;32mreturn\u001b[0m \u001b[0mself\u001b[0m\u001b[0;34m.\u001b[0m\u001b[0m_sock\u001b[0m\u001b[0;34m.\u001b[0m\u001b[0mrecv_into\u001b[0m\u001b[0;34m(\u001b[0m\u001b[0mb\u001b[0m\u001b[0;34m)\u001b[0m\u001b[0;34m\u001b[0m\u001b[0;34m\u001b[0m\u001b[0m\n\u001b[0m\u001b[1;32m    590\u001b[0m             \u001b[0;32mexcept\u001b[0m \u001b[0mtimeout\u001b[0m\u001b[0;34m:\u001b[0m\u001b[0;34m\u001b[0m\u001b[0;34m\u001b[0m\u001b[0m\n\u001b[1;32m    591\u001b[0m                 \u001b[0mself\u001b[0m\u001b[0;34m.\u001b[0m\u001b[0m_timeout_occurred\u001b[0m \u001b[0;34m=\u001b[0m \u001b[0;32mTrue\u001b[0m\u001b[0;34m\u001b[0m\u001b[0;34m\u001b[0m\u001b[0m\n",
      "\u001b[0;31mKeyboardInterrupt\u001b[0m: "
     ]
    }
   ],
   "source": [
    "# 去除沒有點擊紀錄的\n",
    "clean_context_sdf = context_sdf.where(col('item_click_list').isNotNull())\n",
    "print('去除沒有點擊紀錄後context的數目:', clean_context_sdf.count())\n",
    "# 將item_click_list展開\n",
    "clean_context_sdf = clean_context_sdf.select(clean_context_sdf.cust_no, \n",
    "                                             clean_context_sdf.date,\n",
    "                                             F.explode(clean_context_sdf.item_click_list))\n",
    "# 選出欄位\n",
    "flatten_clean_context_sdf = clean_context_sdf.select(F.col('cust_no'), F.col('date'), F.col('col.*'))\n",
    "print('展開item後context的數目:', flatten_clean_context_sdf.count())\n",
    "# 選 df_smart_channel\n",
    "flatten_clean_context_sdf = flatten_clean_context_sdf.where(col('hits_eventinfo_eventcategory')=='smart_channel')\n",
    "print('選 df_smart_channel後context的數目:', flatten_clean_context_sdf.count())\n",
    "#和item sdf合併\n",
    "flatten_clean_context_sdf = flatten_clean_context_sdf.join(item_sdf.drop('click', 'show'), on=['item_id', 'date'], how='left')\n",
    "# 過濾掉公版\n",
    "# flatten_clean_context_sdf = flatten_clean_context_sdf.where(col('service')!='public_content')\n",
    "print('過濾掉公版後context的數目:', flatten_clean_context_sdf.count())\n",
    "flatten_clean_context_sdf = flatten_clean_context_sdf.select(F.col('item_id'), F.col('cust_no'), F.col('date'),\n",
    "                               # F.col('visitdatetime'), F.col('eventdatetime'),\n",
    "                               F.col('click'), F.col('show')\n",
    "                              )\n",
    "# 找出最先點擊或最先曝光(一天可能點同一個item多次)\n",
    "flatten_clean_context_sdf = flatten_clean_context_sdf.withColumn(\"day_order\", F.row_number().over(Window.partitionBy(['cust_no', 'date', 'item_id']).orderBy(flatten_clean_context_sdf['eventdatetime'])))\n",
    "# 計算該顧客在當天點同一個item的點擊和曝光總數\n",
    "cust_click_bydate = flatten_clean_context_sdf.groupby(['cust_no', 'date', 'item_id']).sum('click').withColumnRenamed('sum(click)', 'click')\n",
    "cust_show_bydate = flatten_clean_context_sdf.groupby(['cust_no', 'date', 'item_id']).sum('show').withColumnRenamed('sum(show)', 'show')\n",
    "# 選最先點擊的item\n",
    "flatten_clean_context_sdf = flatten_clean_context_sdf.where(col('day_order')==1).drop('click', 'show', 'day_order')\n",
    "flatten_clean_context_sdf = flatten_clean_context_sdf.join(cust_click_bydate, on=['cust_no', 'date', 'item_id'], how='left')\n",
    "flatten_clean_context_sdf = flatten_clean_context_sdf.join(cust_show_bydate, on=['cust_no', 'date', 'item_id'], how='left')\n",
    "# 計算點擊排名。挑出有點擊的人做排名 15674人有點擊 rank最多為2\n",
    "# click_sdf = flatten_clean_context_sdf.where(col('click')>0)\n",
    "click_sdf = click_sdf.withColumn(\"rank\", F.row_number().over(Window.partitionBy(['cust_no', 'date'])))\n",
    "                                                             # .orderBy(click_sdf['eventdatetime'])))\n",
    "flatten_clean_context_sdf = flatten_clean_context_sdf.join(click_sdf.select('click', 'cust_no', 'date', 'item_id', 'rank'), on=['click', 'cust_no', 'date', 'item_id'], how='left')\n",
    "print('Total Context number:', flatten_clean_context_sdf.count())"
   ]
  },
  {
   "cell_type": "code",
   "execution_count": null,
   "id": "51044dc5",
   "metadata": {},
   "outputs": [],
   "source": [
    "context_sdf_train = flatten_clean_context_sdf.filter(col('date') <= train_end_date)\n",
    "context_sdf_test = flatten_clean_context_sdf.filter(col('date') == test_date)"
   ]
  },
  {
   "cell_type": "code",
   "execution_count": null,
   "id": "2be6db7e",
   "metadata": {},
   "outputs": [],
   "source": [
    "uniqueUsersObserved = context_sdf_train.select('cust_no').distinct().collect()"
   ]
  },
  {
   "cell_type": "code",
   "execution_count": null,
   "id": "bbe32bce",
   "metadata": {},
   "outputs": [],
   "source": [
    "unique_users_list = [each_user.__getitem__('cust_no') for each_user in uniqueUsersObserved]"
   ]
  },
  {
   "cell_type": "code",
   "execution_count": null,
   "id": "5927ca4b",
   "metadata": {},
   "outputs": [],
   "source": [
    "# unique_users_list"
   ]
  },
  {
   "cell_type": "code",
   "execution_count": 56,
   "id": "bdac2019",
   "metadata": {},
   "outputs": [],
   "source": [
    "## filter unobserved in test\n",
    "context_sdf_test = context_sdf_test.filter(context_sdf_test.cust_no.isin(unique_users_list))"
   ]
  },
  {
   "cell_type": "code",
   "execution_count": 57,
   "id": "cad68997",
   "metadata": {},
   "outputs": [
    {
     "name": "stderr",
     "output_type": "stream",
     "text": [
      "ERROR:root:Exception while sending command.\n",
      "Traceback (most recent call last):\n",
      "  File \"/usr/local/spark/python/lib/py4j-0.10.9-src.zip/py4j/java_gateway.py\", line 1207, in send_command\n",
      "    raise Py4JNetworkError(\"Answer from Java side is empty\")\n",
      "py4j.protocol.Py4JNetworkError: Answer from Java side is empty\n",
      "\n",
      "During handling of the above exception, another exception occurred:\n",
      "\n",
      "Traceback (most recent call last):\n",
      "  File \"/usr/local/spark/python/lib/py4j-0.10.9-src.zip/py4j/java_gateway.py\", line 1033, in send_command\n",
      "    response = connection.send_command(command)\n",
      "  File \"/usr/local/spark/python/lib/py4j-0.10.9-src.zip/py4j/java_gateway.py\", line 1212, in send_command\n",
      "    \"Error while receiving\", e, proto.ERROR_ON_RECEIVE)\n",
      "py4j.protocol.Py4JNetworkError: Error while receiving\n",
      "ERROR:py4j.java_gateway:An error occurred while trying to connect to the Java server (127.0.0.1:46523)\n",
      "Traceback (most recent call last):\n",
      "  File \"/usr/local/spark/python/pyspark/sql/dataframe.py\", line 596, in collect\n",
      "    sock_info = self._jdf.collectToPython()\n",
      "  File \"/usr/local/spark/python/lib/py4j-0.10.9-src.zip/py4j/java_gateway.py\", line 1305, in __call__\n",
      "    answer, self.gateway_client, self.target_id, self.name)\n",
      "  File \"/usr/local/spark/python/pyspark/sql/utils.py\", line 128, in deco\n",
      "    return f(*a, **kw)\n",
      "  File \"/usr/local/spark/python/lib/py4j-0.10.9-src.zip/py4j/protocol.py\", line 336, in get_return_value\n",
      "    format(target_id, \".\", name))\n",
      "py4j.protocol.Py4JError: An error occurred while calling o1248464.collectToPython\n",
      "\n",
      "During handling of the above exception, another exception occurred:\n",
      "\n",
      "Traceback (most recent call last):\n",
      "  File \"/usr/local/spark/python/lib/py4j-0.10.9-src.zip/py4j/java_gateway.py\", line 977, in _get_connection\n",
      "    connection = self.deque.pop()\n",
      "IndexError: pop from an empty deque\n",
      "\n",
      "During handling of the above exception, another exception occurred:\n",
      "\n",
      "Traceback (most recent call last):\n",
      "  File \"/usr/local/spark/python/lib/py4j-0.10.9-src.zip/py4j/java_gateway.py\", line 1115, in start\n",
      "    self.socket.connect((self.address, self.port))\n",
      "ConnectionRefusedError: [Errno 111] Connection refused\n"
     ]
    },
    {
     "ename": "Py4JNetworkError",
     "evalue": "An error occurred while trying to connect to the Java server (127.0.0.1:46523)",
     "output_type": "error",
     "traceback": [
      "\u001b[0;31m---------------------------------------------------------------------------\u001b[0m",
      "\u001b[0;31mPy4JError\u001b[0m                                 Traceback (most recent call last)",
      "\u001b[0;32m/usr/local/spark/python/pyspark/sql/dataframe.py\u001b[0m in \u001b[0;36mcollect\u001b[0;34m(self)\u001b[0m\n\u001b[1;32m    595\u001b[0m         \u001b[0;32mwith\u001b[0m \u001b[0mSCCallSiteSync\u001b[0m\u001b[0;34m(\u001b[0m\u001b[0mself\u001b[0m\u001b[0;34m.\u001b[0m\u001b[0m_sc\u001b[0m\u001b[0;34m)\u001b[0m \u001b[0;32mas\u001b[0m \u001b[0mcss\u001b[0m\u001b[0;34m:\u001b[0m\u001b[0;34m\u001b[0m\u001b[0;34m\u001b[0m\u001b[0m\n\u001b[0;32m--> 596\u001b[0;31m             \u001b[0msock_info\u001b[0m \u001b[0;34m=\u001b[0m \u001b[0mself\u001b[0m\u001b[0;34m.\u001b[0m\u001b[0m_jdf\u001b[0m\u001b[0;34m.\u001b[0m\u001b[0mcollectToPython\u001b[0m\u001b[0;34m(\u001b[0m\u001b[0;34m)\u001b[0m\u001b[0;34m\u001b[0m\u001b[0;34m\u001b[0m\u001b[0m\n\u001b[0m\u001b[1;32m    597\u001b[0m         \u001b[0;32mreturn\u001b[0m \u001b[0mlist\u001b[0m\u001b[0;34m(\u001b[0m\u001b[0m_load_from_socket\u001b[0m\u001b[0;34m(\u001b[0m\u001b[0msock_info\u001b[0m\u001b[0;34m,\u001b[0m \u001b[0mBatchedSerializer\u001b[0m\u001b[0;34m(\u001b[0m\u001b[0mPickleSerializer\u001b[0m\u001b[0;34m(\u001b[0m\u001b[0;34m)\u001b[0m\u001b[0;34m)\u001b[0m\u001b[0;34m)\u001b[0m\u001b[0;34m)\u001b[0m\u001b[0;34m\u001b[0m\u001b[0;34m\u001b[0m\u001b[0m\n",
      "\u001b[0;32m/usr/local/spark/python/lib/py4j-0.10.9-src.zip/py4j/java_gateway.py\u001b[0m in \u001b[0;36m__call__\u001b[0;34m(self, *args)\u001b[0m\n\u001b[1;32m   1304\u001b[0m         return_value = get_return_value(\n\u001b[0;32m-> 1305\u001b[0;31m             answer, self.gateway_client, self.target_id, self.name)\n\u001b[0m\u001b[1;32m   1306\u001b[0m \u001b[0;34m\u001b[0m\u001b[0m\n",
      "\u001b[0;32m/usr/local/spark/python/pyspark/sql/utils.py\u001b[0m in \u001b[0;36mdeco\u001b[0;34m(*a, **kw)\u001b[0m\n\u001b[1;32m    127\u001b[0m         \u001b[0;32mtry\u001b[0m\u001b[0;34m:\u001b[0m\u001b[0;34m\u001b[0m\u001b[0;34m\u001b[0m\u001b[0m\n\u001b[0;32m--> 128\u001b[0;31m             \u001b[0;32mreturn\u001b[0m \u001b[0mf\u001b[0m\u001b[0;34m(\u001b[0m\u001b[0;34m*\u001b[0m\u001b[0ma\u001b[0m\u001b[0;34m,\u001b[0m \u001b[0;34m**\u001b[0m\u001b[0mkw\u001b[0m\u001b[0;34m)\u001b[0m\u001b[0;34m\u001b[0m\u001b[0;34m\u001b[0m\u001b[0m\n\u001b[0m\u001b[1;32m    129\u001b[0m         \u001b[0;32mexcept\u001b[0m \u001b[0mpy4j\u001b[0m\u001b[0;34m.\u001b[0m\u001b[0mprotocol\u001b[0m\u001b[0;34m.\u001b[0m\u001b[0mPy4JJavaError\u001b[0m \u001b[0;32mas\u001b[0m \u001b[0me\u001b[0m\u001b[0;34m:\u001b[0m\u001b[0;34m\u001b[0m\u001b[0;34m\u001b[0m\u001b[0m\n",
      "\u001b[0;32m/usr/local/spark/python/lib/py4j-0.10.9-src.zip/py4j/protocol.py\u001b[0m in \u001b[0;36mget_return_value\u001b[0;34m(answer, gateway_client, target_id, name)\u001b[0m\n\u001b[1;32m    335\u001b[0m                 \u001b[0;34m\"An error occurred while calling {0}{1}{2}\"\u001b[0m\u001b[0;34m.\u001b[0m\u001b[0;34m\u001b[0m\u001b[0;34m\u001b[0m\u001b[0m\n\u001b[0;32m--> 336\u001b[0;31m                 format(target_id, \".\", name))\n\u001b[0m\u001b[1;32m    337\u001b[0m     \u001b[0;32melse\u001b[0m\u001b[0;34m:\u001b[0m\u001b[0;34m\u001b[0m\u001b[0;34m\u001b[0m\u001b[0m\n",
      "\u001b[0;31mPy4JError\u001b[0m: An error occurred while calling o1248464.collectToPython",
      "\nDuring handling of the above exception, another exception occurred:\n",
      "\u001b[0;31mIndexError\u001b[0m                                Traceback (most recent call last)",
      "\u001b[0;32m/usr/local/spark/python/lib/py4j-0.10.9-src.zip/py4j/java_gateway.py\u001b[0m in \u001b[0;36m_get_connection\u001b[0;34m(self)\u001b[0m\n\u001b[1;32m    976\u001b[0m         \u001b[0;32mtry\u001b[0m\u001b[0;34m:\u001b[0m\u001b[0;34m\u001b[0m\u001b[0;34m\u001b[0m\u001b[0m\n\u001b[0;32m--> 977\u001b[0;31m             \u001b[0mconnection\u001b[0m \u001b[0;34m=\u001b[0m \u001b[0mself\u001b[0m\u001b[0;34m.\u001b[0m\u001b[0mdeque\u001b[0m\u001b[0;34m.\u001b[0m\u001b[0mpop\u001b[0m\u001b[0;34m(\u001b[0m\u001b[0;34m)\u001b[0m\u001b[0;34m\u001b[0m\u001b[0;34m\u001b[0m\u001b[0m\n\u001b[0m\u001b[1;32m    978\u001b[0m         \u001b[0;32mexcept\u001b[0m \u001b[0mIndexError\u001b[0m\u001b[0;34m:\u001b[0m\u001b[0;34m\u001b[0m\u001b[0;34m\u001b[0m\u001b[0m\n",
      "\u001b[0;31mIndexError\u001b[0m: pop from an empty deque",
      "\nDuring handling of the above exception, another exception occurred:\n",
      "\u001b[0;31mConnectionRefusedError\u001b[0m                    Traceback (most recent call last)",
      "\u001b[0;32m/usr/local/spark/python/lib/py4j-0.10.9-src.zip/py4j/java_gateway.py\u001b[0m in \u001b[0;36mstart\u001b[0;34m(self)\u001b[0m\n\u001b[1;32m   1114\u001b[0m         \u001b[0;32mtry\u001b[0m\u001b[0;34m:\u001b[0m\u001b[0;34m\u001b[0m\u001b[0;34m\u001b[0m\u001b[0m\n\u001b[0;32m-> 1115\u001b[0;31m             \u001b[0mself\u001b[0m\u001b[0;34m.\u001b[0m\u001b[0msocket\u001b[0m\u001b[0;34m.\u001b[0m\u001b[0mconnect\u001b[0m\u001b[0;34m(\u001b[0m\u001b[0;34m(\u001b[0m\u001b[0mself\u001b[0m\u001b[0;34m.\u001b[0m\u001b[0maddress\u001b[0m\u001b[0;34m,\u001b[0m \u001b[0mself\u001b[0m\u001b[0;34m.\u001b[0m\u001b[0mport\u001b[0m\u001b[0;34m)\u001b[0m\u001b[0;34m)\u001b[0m\u001b[0;34m\u001b[0m\u001b[0;34m\u001b[0m\u001b[0m\n\u001b[0m\u001b[1;32m   1116\u001b[0m             \u001b[0mself\u001b[0m\u001b[0;34m.\u001b[0m\u001b[0mstream\u001b[0m \u001b[0;34m=\u001b[0m \u001b[0mself\u001b[0m\u001b[0;34m.\u001b[0m\u001b[0msocket\u001b[0m\u001b[0;34m.\u001b[0m\u001b[0mmakefile\u001b[0m\u001b[0;34m(\u001b[0m\u001b[0;34m\"rb\"\u001b[0m\u001b[0;34m)\u001b[0m\u001b[0;34m\u001b[0m\u001b[0;34m\u001b[0m\u001b[0m\n",
      "\u001b[0;31mConnectionRefusedError\u001b[0m: [Errno 111] Connection refused",
      "\nDuring handling of the above exception, another exception occurred:\n",
      "\u001b[0;31mPy4JNetworkError\u001b[0m                          Traceback (most recent call last)",
      "\u001b[0;32m<ipython-input-57-5a86b6de19f4>\u001b[0m in \u001b[0;36m<module>\u001b[0;34m\u001b[0m\n\u001b[1;32m      1\u001b[0m \u001b[0mcontext_df_train\u001b[0m \u001b[0;34m=\u001b[0m \u001b[0mcontext_sdf_train\u001b[0m\u001b[0;34m.\u001b[0m\u001b[0mtoPandas\u001b[0m\u001b[0;34m(\u001b[0m\u001b[0;34m)\u001b[0m\u001b[0;34m\u001b[0m\u001b[0;34m\u001b[0m\u001b[0m\n\u001b[0;32m----> 2\u001b[0;31m \u001b[0mcontext_df_test\u001b[0m \u001b[0;34m=\u001b[0m \u001b[0mcontext_sdf_test\u001b[0m\u001b[0;34m.\u001b[0m\u001b[0mtoPandas\u001b[0m\u001b[0;34m(\u001b[0m\u001b[0;34m)\u001b[0m\u001b[0;34m\u001b[0m\u001b[0;34m\u001b[0m\u001b[0m\n\u001b[0m",
      "\u001b[0;32m/usr/local/spark/python/pyspark/sql/pandas/conversion.py\u001b[0m in \u001b[0;36mtoPandas\u001b[0;34m(self)\u001b[0m\n\u001b[1;32m    136\u001b[0m \u001b[0;34m\u001b[0m\u001b[0m\n\u001b[1;32m    137\u001b[0m         \u001b[0;31m# Below is toPandas without Arrow optimization.\u001b[0m\u001b[0;34m\u001b[0m\u001b[0;34m\u001b[0m\u001b[0;34m\u001b[0m\u001b[0m\n\u001b[0;32m--> 138\u001b[0;31m         \u001b[0mpdf\u001b[0m \u001b[0;34m=\u001b[0m \u001b[0mpd\u001b[0m\u001b[0;34m.\u001b[0m\u001b[0mDataFrame\u001b[0m\u001b[0;34m.\u001b[0m\u001b[0mfrom_records\u001b[0m\u001b[0;34m(\u001b[0m\u001b[0mself\u001b[0m\u001b[0;34m.\u001b[0m\u001b[0mcollect\u001b[0m\u001b[0;34m(\u001b[0m\u001b[0;34m)\u001b[0m\u001b[0;34m,\u001b[0m \u001b[0mcolumns\u001b[0m\u001b[0;34m=\u001b[0m\u001b[0mself\u001b[0m\u001b[0;34m.\u001b[0m\u001b[0mcolumns\u001b[0m\u001b[0;34m)\u001b[0m\u001b[0;34m\u001b[0m\u001b[0;34m\u001b[0m\u001b[0m\n\u001b[0m\u001b[1;32m    139\u001b[0m         \u001b[0mcolumn_counter\u001b[0m \u001b[0;34m=\u001b[0m \u001b[0mCounter\u001b[0m\u001b[0;34m(\u001b[0m\u001b[0mself\u001b[0m\u001b[0;34m.\u001b[0m\u001b[0mcolumns\u001b[0m\u001b[0;34m)\u001b[0m\u001b[0;34m\u001b[0m\u001b[0;34m\u001b[0m\u001b[0m\n\u001b[1;32m    140\u001b[0m \u001b[0;34m\u001b[0m\u001b[0m\n",
      "\u001b[0;32m/usr/local/spark/python/pyspark/sql/dataframe.py\u001b[0m in \u001b[0;36mcollect\u001b[0;34m(self)\u001b[0m\n\u001b[1;32m    594\u001b[0m         \"\"\"\n\u001b[1;32m    595\u001b[0m         \u001b[0;32mwith\u001b[0m \u001b[0mSCCallSiteSync\u001b[0m\u001b[0;34m(\u001b[0m\u001b[0mself\u001b[0m\u001b[0;34m.\u001b[0m\u001b[0m_sc\u001b[0m\u001b[0;34m)\u001b[0m \u001b[0;32mas\u001b[0m \u001b[0mcss\u001b[0m\u001b[0;34m:\u001b[0m\u001b[0;34m\u001b[0m\u001b[0;34m\u001b[0m\u001b[0m\n\u001b[0;32m--> 596\u001b[0;31m             \u001b[0msock_info\u001b[0m \u001b[0;34m=\u001b[0m \u001b[0mself\u001b[0m\u001b[0;34m.\u001b[0m\u001b[0m_jdf\u001b[0m\u001b[0;34m.\u001b[0m\u001b[0mcollectToPython\u001b[0m\u001b[0;34m(\u001b[0m\u001b[0;34m)\u001b[0m\u001b[0;34m\u001b[0m\u001b[0;34m\u001b[0m\u001b[0m\n\u001b[0m\u001b[1;32m    597\u001b[0m         \u001b[0;32mreturn\u001b[0m \u001b[0mlist\u001b[0m\u001b[0;34m(\u001b[0m\u001b[0m_load_from_socket\u001b[0m\u001b[0;34m(\u001b[0m\u001b[0msock_info\u001b[0m\u001b[0;34m,\u001b[0m \u001b[0mBatchedSerializer\u001b[0m\u001b[0;34m(\u001b[0m\u001b[0mPickleSerializer\u001b[0m\u001b[0;34m(\u001b[0m\u001b[0;34m)\u001b[0m\u001b[0;34m)\u001b[0m\u001b[0;34m)\u001b[0m\u001b[0;34m)\u001b[0m\u001b[0;34m\u001b[0m\u001b[0;34m\u001b[0m\u001b[0m\n\u001b[1;32m    598\u001b[0m \u001b[0;34m\u001b[0m\u001b[0m\n",
      "\u001b[0;32m/usr/local/spark/python/pyspark/traceback_utils.py\u001b[0m in \u001b[0;36m__exit__\u001b[0;34m(self, type, value, tb)\u001b[0m\n\u001b[1;32m     76\u001b[0m         \u001b[0mSCCallSiteSync\u001b[0m\u001b[0;34m.\u001b[0m\u001b[0m_spark_stack_depth\u001b[0m \u001b[0;34m-=\u001b[0m \u001b[0;36m1\u001b[0m\u001b[0;34m\u001b[0m\u001b[0;34m\u001b[0m\u001b[0m\n\u001b[1;32m     77\u001b[0m         \u001b[0;32mif\u001b[0m \u001b[0mSCCallSiteSync\u001b[0m\u001b[0;34m.\u001b[0m\u001b[0m_spark_stack_depth\u001b[0m \u001b[0;34m==\u001b[0m \u001b[0;36m0\u001b[0m\u001b[0;34m:\u001b[0m\u001b[0;34m\u001b[0m\u001b[0;34m\u001b[0m\u001b[0m\n\u001b[0;32m---> 78\u001b[0;31m             \u001b[0mself\u001b[0m\u001b[0;34m.\u001b[0m\u001b[0m_context\u001b[0m\u001b[0;34m.\u001b[0m\u001b[0m_jsc\u001b[0m\u001b[0;34m.\u001b[0m\u001b[0msetCallSite\u001b[0m\u001b[0;34m(\u001b[0m\u001b[0;32mNone\u001b[0m\u001b[0;34m)\u001b[0m\u001b[0;34m\u001b[0m\u001b[0;34m\u001b[0m\u001b[0m\n\u001b[0m",
      "\u001b[0;32m/usr/local/spark/python/lib/py4j-0.10.9-src.zip/py4j/java_gateway.py\u001b[0m in \u001b[0;36m__call__\u001b[0;34m(self, *args)\u001b[0m\n\u001b[1;32m   1301\u001b[0m             \u001b[0mproto\u001b[0m\u001b[0;34m.\u001b[0m\u001b[0mEND_COMMAND_PART\u001b[0m\u001b[0;34m\u001b[0m\u001b[0;34m\u001b[0m\u001b[0m\n\u001b[1;32m   1302\u001b[0m \u001b[0;34m\u001b[0m\u001b[0m\n\u001b[0;32m-> 1303\u001b[0;31m         \u001b[0manswer\u001b[0m \u001b[0;34m=\u001b[0m \u001b[0mself\u001b[0m\u001b[0;34m.\u001b[0m\u001b[0mgateway_client\u001b[0m\u001b[0;34m.\u001b[0m\u001b[0msend_command\u001b[0m\u001b[0;34m(\u001b[0m\u001b[0mcommand\u001b[0m\u001b[0;34m)\u001b[0m\u001b[0;34m\u001b[0m\u001b[0;34m\u001b[0m\u001b[0m\n\u001b[0m\u001b[1;32m   1304\u001b[0m         return_value = get_return_value(\n\u001b[1;32m   1305\u001b[0m             answer, self.gateway_client, self.target_id, self.name)\n",
      "\u001b[0;32m/usr/local/spark/python/lib/py4j-0.10.9-src.zip/py4j/java_gateway.py\u001b[0m in \u001b[0;36msend_command\u001b[0;34m(self, command, retry, binary)\u001b[0m\n\u001b[1;32m   1029\u001b[0m          \u001b[0;32mif\u001b[0m\u001b[0;31m \u001b[0m\u001b[0;31m`\u001b[0m\u001b[0mbinary\u001b[0m\u001b[0;31m`\u001b[0m \u001b[0;32mis\u001b[0m\u001b[0;31m \u001b[0m\u001b[0;31m`\u001b[0m\u001b[0;32mTrue\u001b[0m\u001b[0;31m`\u001b[0m\u001b[0;34m.\u001b[0m\u001b[0;34m\u001b[0m\u001b[0;34m\u001b[0m\u001b[0m\n\u001b[1;32m   1030\u001b[0m         \"\"\"\n\u001b[0;32m-> 1031\u001b[0;31m         \u001b[0mconnection\u001b[0m \u001b[0;34m=\u001b[0m \u001b[0mself\u001b[0m\u001b[0;34m.\u001b[0m\u001b[0m_get_connection\u001b[0m\u001b[0;34m(\u001b[0m\u001b[0;34m)\u001b[0m\u001b[0;34m\u001b[0m\u001b[0;34m\u001b[0m\u001b[0m\n\u001b[0m\u001b[1;32m   1032\u001b[0m         \u001b[0;32mtry\u001b[0m\u001b[0;34m:\u001b[0m\u001b[0;34m\u001b[0m\u001b[0;34m\u001b[0m\u001b[0m\n\u001b[1;32m   1033\u001b[0m             \u001b[0mresponse\u001b[0m \u001b[0;34m=\u001b[0m \u001b[0mconnection\u001b[0m\u001b[0;34m.\u001b[0m\u001b[0msend_command\u001b[0m\u001b[0;34m(\u001b[0m\u001b[0mcommand\u001b[0m\u001b[0;34m)\u001b[0m\u001b[0;34m\u001b[0m\u001b[0;34m\u001b[0m\u001b[0m\n",
      "\u001b[0;32m/usr/local/spark/python/lib/py4j-0.10.9-src.zip/py4j/java_gateway.py\u001b[0m in \u001b[0;36m_get_connection\u001b[0;34m(self)\u001b[0m\n\u001b[1;32m    977\u001b[0m             \u001b[0mconnection\u001b[0m \u001b[0;34m=\u001b[0m \u001b[0mself\u001b[0m\u001b[0;34m.\u001b[0m\u001b[0mdeque\u001b[0m\u001b[0;34m.\u001b[0m\u001b[0mpop\u001b[0m\u001b[0;34m(\u001b[0m\u001b[0;34m)\u001b[0m\u001b[0;34m\u001b[0m\u001b[0;34m\u001b[0m\u001b[0m\n\u001b[1;32m    978\u001b[0m         \u001b[0;32mexcept\u001b[0m \u001b[0mIndexError\u001b[0m\u001b[0;34m:\u001b[0m\u001b[0;34m\u001b[0m\u001b[0;34m\u001b[0m\u001b[0m\n\u001b[0;32m--> 979\u001b[0;31m             \u001b[0mconnection\u001b[0m \u001b[0;34m=\u001b[0m \u001b[0mself\u001b[0m\u001b[0;34m.\u001b[0m\u001b[0m_create_connection\u001b[0m\u001b[0;34m(\u001b[0m\u001b[0;34m)\u001b[0m\u001b[0;34m\u001b[0m\u001b[0;34m\u001b[0m\u001b[0m\n\u001b[0m\u001b[1;32m    980\u001b[0m         \u001b[0;32mreturn\u001b[0m \u001b[0mconnection\u001b[0m\u001b[0;34m\u001b[0m\u001b[0;34m\u001b[0m\u001b[0m\n\u001b[1;32m    981\u001b[0m \u001b[0;34m\u001b[0m\u001b[0m\n",
      "\u001b[0;32m/usr/local/spark/python/lib/py4j-0.10.9-src.zip/py4j/java_gateway.py\u001b[0m in \u001b[0;36m_create_connection\u001b[0;34m(self)\u001b[0m\n\u001b[1;32m    983\u001b[0m         connection = GatewayConnection(\n\u001b[1;32m    984\u001b[0m             self.gateway_parameters, self.gateway_property)\n\u001b[0;32m--> 985\u001b[0;31m         \u001b[0mconnection\u001b[0m\u001b[0;34m.\u001b[0m\u001b[0mstart\u001b[0m\u001b[0;34m(\u001b[0m\u001b[0;34m)\u001b[0m\u001b[0;34m\u001b[0m\u001b[0;34m\u001b[0m\u001b[0m\n\u001b[0m\u001b[1;32m    986\u001b[0m         \u001b[0;32mreturn\u001b[0m \u001b[0mconnection\u001b[0m\u001b[0;34m\u001b[0m\u001b[0;34m\u001b[0m\u001b[0m\n\u001b[1;32m    987\u001b[0m \u001b[0;34m\u001b[0m\u001b[0m\n",
      "\u001b[0;32m/usr/local/spark/python/lib/py4j-0.10.9-src.zip/py4j/java_gateway.py\u001b[0m in \u001b[0;36mstart\u001b[0;34m(self)\u001b[0m\n\u001b[1;32m   1125\u001b[0m                 \u001b[0;34m\"server ({0}:{1})\"\u001b[0m\u001b[0;34m.\u001b[0m\u001b[0mformat\u001b[0m\u001b[0;34m(\u001b[0m\u001b[0mself\u001b[0m\u001b[0;34m.\u001b[0m\u001b[0maddress\u001b[0m\u001b[0;34m,\u001b[0m \u001b[0mself\u001b[0m\u001b[0;34m.\u001b[0m\u001b[0mport\u001b[0m\u001b[0;34m)\u001b[0m\u001b[0;34m\u001b[0m\u001b[0;34m\u001b[0m\u001b[0m\n\u001b[1;32m   1126\u001b[0m             \u001b[0mlogger\u001b[0m\u001b[0;34m.\u001b[0m\u001b[0mexception\u001b[0m\u001b[0;34m(\u001b[0m\u001b[0mmsg\u001b[0m\u001b[0;34m)\u001b[0m\u001b[0;34m\u001b[0m\u001b[0;34m\u001b[0m\u001b[0m\n\u001b[0;32m-> 1127\u001b[0;31m             \u001b[0;32mraise\u001b[0m \u001b[0mPy4JNetworkError\u001b[0m\u001b[0;34m(\u001b[0m\u001b[0mmsg\u001b[0m\u001b[0;34m,\u001b[0m \u001b[0me\u001b[0m\u001b[0;34m)\u001b[0m\u001b[0;34m\u001b[0m\u001b[0;34m\u001b[0m\u001b[0m\n\u001b[0m\u001b[1;32m   1128\u001b[0m \u001b[0;34m\u001b[0m\u001b[0m\n\u001b[1;32m   1129\u001b[0m     \u001b[0;32mdef\u001b[0m \u001b[0m_authenticate_connection\u001b[0m\u001b[0;34m(\u001b[0m\u001b[0mself\u001b[0m\u001b[0;34m)\u001b[0m\u001b[0;34m:\u001b[0m\u001b[0;34m\u001b[0m\u001b[0;34m\u001b[0m\u001b[0m\n",
      "\u001b[0;31mPy4JNetworkError\u001b[0m: An error occurred while trying to connect to the Java server (127.0.0.1:46523)"
     ]
    }
   ],
   "source": [
    "context_df_train = context_sdf_train.toPandas()\n",
    "context_df_test = context_sdf_test.toPandas()"
   ]
  },
  {
   "cell_type": "code",
   "execution_count": null,
   "id": "2122ffc4",
   "metadata": {},
   "outputs": [],
   "source": [
    "export_file(context_df_train, test_date, 'context_train.csv')\n",
    "export_file(context_df_test, test_date, 'context_test.csv')"
   ]
  },
  {
   "cell_type": "markdown",
   "id": "afc70476",
   "metadata": {},
   "source": [
    "## 3. user-subtag (user)"
   ]
  },
  {
   "cell_type": "code",
   "execution_count": 9,
   "id": "78ae5e79",
   "metadata": {
    "ExecuteTime": {
     "end_time": "2022-02-16T10:21:09.325986Z",
     "start_time": "2022-02-16T10:20:53.418343Z"
    },
    "hidden": true
   },
   "outputs": [
    {
     "name": "stdout",
     "output_type": "stream",
     "text": [
      "User Sdf數目: 19735882\n"
     ]
    }
   ],
   "source": [
    "user_sdf = (\n",
    "    spark.read.parquet(\n",
    "        \"s3a://df-smart-channel/recsys-dataset/beta_v4/layer1/user\"\n",
    "    ).where(\n",
    "        (col(\"date\")>=train_end_date) & (col(\"date\")<=test_date)\n",
    "        #col(\"date\") == train_end_date | col(\"date\") == test_date\n",
    "    )\n",
    ")\n",
    "user_sdf = user_sdf.drop('click', 'show')\n",
    "user_sdf = user_sdf.select([\n",
    "    'cust_no', 'date', 'mobile_login_90', 'dd_my', 'dd_md', 'onlymd_ind', 'onlycc_ind', 'efingo_card_ind',  'cl_cpa_amt', 'fc_ind'\n",
    "])\n",
    "# .filter(user_sdf.date.isin(uniqueUsersInContext))\n",
    "print('User Sdf數目:', user_sdf.count())"
   ]
  },
  {
   "cell_type": "code",
   "execution_count": 10,
   "id": "5345b671",
   "metadata": {},
   "outputs": [
    {
     "ename": "NameError",
     "evalue": "name 'uniqueUsersObserved' is not defined",
     "output_type": "error",
     "traceback": [
      "\u001b[0;31m---------------------------------------------------------------------------\u001b[0m",
      "\u001b[0;31mNameError\u001b[0m                                 Traceback (most recent call last)",
      "\u001b[0;32m<ipython-input-10-d85461821a2b>\u001b[0m in \u001b[0;36m<module>\u001b[0;34m\u001b[0m\n\u001b[0;32m----> 1\u001b[0;31m \u001b[0munique_users_list\u001b[0m \u001b[0;34m=\u001b[0m \u001b[0;34m[\u001b[0m\u001b[0meach_user\u001b[0m\u001b[0;34m.\u001b[0m\u001b[0m__getitem__\u001b[0m\u001b[0;34m(\u001b[0m\u001b[0;34m'cust_no'\u001b[0m\u001b[0;34m)\u001b[0m \u001b[0;32mfor\u001b[0m \u001b[0meach_user\u001b[0m \u001b[0;32min\u001b[0m \u001b[0muniqueUsersObserved\u001b[0m\u001b[0;34m]\u001b[0m\u001b[0;34m\u001b[0m\u001b[0;34m\u001b[0m\u001b[0m\n\u001b[0m",
      "\u001b[0;31mNameError\u001b[0m: name 'uniqueUsersObserved' is not defined"
     ]
    }
   ],
   "source": [
    "unique_users_list = [each_user.__getitem__('cust_no') for each_user in uniqueUsersObserved]"
   ]
  },
  {
   "cell_type": "code",
   "execution_count": null,
   "id": "acb68280",
   "metadata": {},
   "outputs": [],
   "source": [
    "user_sdf_sub = user_sdf.filter(user_sdf.cust_no.isin(unique_users_list))"
   ]
  },
  {
   "cell_type": "code",
   "execution_count": null,
   "id": "6bb65a0b",
   "metadata": {},
   "outputs": [],
   "source": [
    "user_sdf_sub.show(5)"
   ]
  },
  {
   "cell_type": "code",
   "execution_count": null,
   "id": "0b94247f",
   "metadata": {},
   "outputs": [],
   "source": [
    "# user_df_train = user_sdf.filter(user_sdf.date == train_end_date).toPandas()\n",
    "user_df_test = user_sdf_sub.filter(user_sdf_sub.date == test_date).toPandas()"
   ]
  },
  {
   "cell_type": "code",
   "execution_count": null,
   "id": "a5d9f07c",
   "metadata": {},
   "outputs": [],
   "source": [
    "export_file(user_df_test, test_date, 'user_subtag.csv')"
   ]
  },
  {
   "cell_type": "code",
   "execution_count": null,
   "id": "310452aa",
   "metadata": {},
   "outputs": [],
   "source": []
  },
  {
   "cell_type": "code",
   "execution_count": null,
   "id": "855b3b60",
   "metadata": {},
   "outputs": [],
   "source": []
  }
 ],
 "metadata": {
  "kernelspec": {
   "display_name": "Python 3",
   "language": "python",
   "name": "python3"
  },
  "language_info": {
   "codemirror_mode": {
    "name": "ipython",
    "version": 3
   },
   "file_extension": ".py",
   "mimetype": "text/x-python",
   "name": "python",
   "nbconvert_exporter": "python",
   "pygments_lexer": "ipython3",
   "version": "3.7.10"
  }
 },
 "nbformat": 4,
 "nbformat_minor": 5
}
