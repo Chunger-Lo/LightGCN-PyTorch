{
 "cells": [
  {
   "cell_type": "code",
   "execution_count": 1,
   "id": "eb12487d",
   "metadata": {
    "ExecuteTime": {
     "end_time": "2022-02-16T10:20:49.479046Z",
     "start_time": "2022-02-16T10:20:48.207819Z"
    }
   },
   "outputs": [],
   "source": [
    "import numpy as np\n",
    "import pandas as pd\n",
    "from mlaas_tools2.db_tool import DatabaseConnections\n",
    "from mlaas_tools2.config_info import ConfigPass\n",
    "from pyspark import SparkContext, SparkConf\n",
    "from pyspark.sql import SparkSession\n",
    "from pyspark.sql import Row\n",
    "from pyspark.sql.functions import col\n",
    "import pyspark.sql.functions as F\n",
    "from pyspark.sql.window import Window\n",
    "from pyspark.sql.types import DateType, StructType, StructField, StringType, LongType, DoubleType\n",
    "from pyspark.sql.functions import create_map, lit\n",
    "from pyspark.sql.functions import expr\n",
    "from pyspark.ml.feature import StringIndexer\n",
    "from sklearn.model_selection import train_test_split\n",
    "from sklearn.preprocessing import LabelEncoder\n",
    "from datetime import datetime,  timedelta\n",
    "import os"
   ]
  },
  {
   "cell_type": "markdown",
   "id": "1e1e3a6d",
   "metadata": {
    "heading_collapsed": true
   },
   "source": [
    "# DB連線"
   ]
  },
  {
   "cell_type": "code",
   "execution_count": 2,
   "id": "2c807aef",
   "metadata": {},
   "outputs": [],
   "source": [
    "# from mlaas_tools.config_build import config_set\n",
    "# from mlaas_tools.config_info import ConfigPass\n",
    "# from mlaas_tools.db_tool import DatabaseConnections\n",
    "# # config_set()\n",
    "# configs = ConfigPass()._configsection\n",
    "# conns = DatabaseConnections(configs)\n",
    "# # rawdata_conn = conns.get_rawdata_db_conn()\n",
    "# # feature_conn = conns.get_feature_db_conn()\n",
    "# raw_conn = conns.get_rawdata_db_conn()\n",
    "# raw_cur = raw_conn.cursor()\n",
    "# ftr_conn = conns.get_feature_db_conn()\n",
    "# ftr_cur = ftr_conn.cursor()"
   ]
  },
  {
   "cell_type": "markdown",
   "id": "238c2806",
   "metadata": {
    "heading_collapsed": true
   },
   "source": [
    "# Spark 連線"
   ]
  },
  {
   "cell_type": "code",
   "execution_count": 2,
   "id": "d7d9f50c",
   "metadata": {
    "ExecuteTime": {
     "end_time": "2022-02-16T10:20:53.413498Z",
     "start_time": "2022-02-16T10:20:49.605534Z"
    },
    "hidden": true
   },
   "outputs": [
    {
     "data": {
      "text/html": [
       "\n",
       "            <div>\n",
       "                <p><b>SparkSession - in-memory</b></p>\n",
       "                \n",
       "        <div>\n",
       "            <p><b>SparkContext</b></p>\n",
       "\n",
       "            <p><a href=\"http://jupyter-esb22046:4041\">Spark UI</a></p>\n",
       "\n",
       "            <dl>\n",
       "              <dt>Version</dt>\n",
       "                <dd><code>v3.0.1</code></dd>\n",
       "              <dt>Master</dt>\n",
       "                <dd><code>local[*]</code></dd>\n",
       "              <dt>AppName</dt>\n",
       "                <dd><code>T</code></dd>\n",
       "            </dl>\n",
       "        </div>\n",
       "        \n",
       "            </div>\n",
       "        "
      ],
      "text/plain": [
       "<pyspark.sql.session.SparkSession at 0x7f1b1e145a90>"
      ]
     },
     "execution_count": 2,
     "metadata": {},
     "output_type": "execute_result"
    }
   ],
   "source": [
    "default = {\"spark.driver.memory\":'16g',\n",
    "           \"fs.s3a.access.key\": \"smartchannel\",\n",
    "           \"fs.s3a.secret.key\": \"smartchannel\",\n",
    "           \"fs.s3a.endpoint\": \"http://10.240.205.23:9000\",\n",
    "           \"fs.s3a.connection.ssl.enabled\": False,\n",
    "           \"fs.s3a.path.style.access\": True,} \n",
    "\n",
    "spark = SparkSession.builder.config(\n",
    "    conf = (SparkConf().setAppName(\"T\").setAll(default.items()))).getOrCreate()\n",
    "\n",
    "spark"
   ]
  },
  {
   "cell_type": "markdown",
   "id": "273e6175",
   "metadata": {
    "heading_collapsed": true
   },
   "source": [
    "# 從feature group 以及 layer1 讀資料"
   ]
  },
  {
   "cell_type": "code",
   "execution_count": 4,
   "id": "fafd22a4",
   "metadata": {},
   "outputs": [],
   "source": [
    "train_start_date = '20211224'\n",
    "train_end_date = '20211225'\n",
    "test_date = '20211226'\n",
    "# test_date = '20220131'"
   ]
  },
  {
   "cell_type": "code",
   "execution_count": 4,
   "id": "35ffba2c",
   "metadata": {},
   "outputs": [],
   "source": [
    "train_start_date = '20211217'\n",
    "train_end_date = '20211226'\n",
    "test_date = '20211227'\n",
    "# test_date = '20220131'"
   ]
  },
  {
   "cell_type": "code",
   "execution_count": 26,
   "id": "84018122",
   "metadata": {},
   "outputs": [],
   "source": [
    "train_start_date = '20220227'\n",
    "train_end_date = '20220227'\n",
    "test_date = '20220228'\n",
    "# test_date = '20220131'"
   ]
  },
  {
   "cell_type": "markdown",
   "id": "88d4fdeb",
   "metadata": {},
   "source": [
    "## 1. item-subtag (sc_item)"
   ]
  },
  {
   "cell_type": "code",
   "execution_count": 9,
   "id": "a720af37",
   "metadata": {},
   "outputs": [],
   "source": [
    "item_sdf = (\n",
    "    spark.read.parquet(\n",
    "        \"s3a://df-smart-channel/recsys-dataset/beta_v2/layer1/sc_item\"\n",
    "    ).where(col('service')=='smart_channel').\n",
    "    where(\n",
    "        (col(\"date\")>=train_start_date) & (col(\"date\")<=train_end_date)\n",
    "    )\n",
    "    # .select(['item_id', 'date','subtag_list'])\n",
    ")"
   ]
  },
  {
   "cell_type": "code",
   "execution_count": 10,
   "id": "ee4857df",
   "metadata": {},
   "outputs": [],
   "source": [
    "item_subtag_exploded = item_sdf.select(item_sdf.item_id, item_sdf.date,  F.explode(item_sdf.subtag_list))"
   ]
  },
  {
   "cell_type": "code",
   "execution_count": 30,
   "id": "9d04c9d3",
   "metadata": {},
   "outputs": [],
   "source": [
    "item_subtag_details = item_subtag_exploded.select(['item_id', 'date', 'col.subtag' ,'col.subtag_chinese_desc','col.subtag_eng_desc']).filter(item_subtag_exploded['col.subtag_chinese_desc'].startswith('03_'))\n",
    "item_subtag_sdf = item_subtag_details.select(['item_id', 'date', 'subtag_eng_desc'])"
   ]
  },
  {
   "cell_type": "code",
   "execution_count": 31,
   "id": "d9a0cd95",
   "metadata": {},
   "outputs": [
    {
     "name": "stdout",
     "output_type": "stream",
     "text": [
      "+--------------------+--------+------------------+\n",
      "|             item_id|    date|   subtag_eng_desc|\n",
      "+--------------------+--------+------------------+\n",
      "|8236E47D-EC12-4B4...|20211226|03_wealth_view_ind|\n",
      "|8236E47D-EC12-4B4...|20211226| 03_investment_ind|\n",
      "+--------------------+--------+------------------+\n",
      "only showing top 2 rows\n",
      "\n"
     ]
    }
   ],
   "source": [
    "item_subtag_net.show(2)"
   ]
  },
  {
   "cell_type": "code",
   "execution_count": 32,
   "id": "653d0d2e",
   "metadata": {},
   "outputs": [],
   "source": [
    "item_subtag_sdf_train = item_subtag_sdf.filter(item_subtag_net.date == train_end_date)\n",
    "# item_subtag_net_test = item_subtag_net.filter(item_subtag_net.date == test_date)"
   ]
  },
  {
   "cell_type": "code",
   "execution_count": 33,
   "id": "f835f499",
   "metadata": {},
   "outputs": [
    {
     "name": "stdout",
     "output_type": "stream",
     "text": [
      "+--------------------+--------+------------------+\n",
      "|             item_id|    date|   subtag_eng_desc|\n",
      "+--------------------+--------+------------------+\n",
      "|8236E47D-EC12-4B4...|20211225|03_wealth_view_ind|\n",
      "|8236E47D-EC12-4B4...|20211225| 03_investment_ind|\n",
      "+--------------------+--------+------------------+\n",
      "only showing top 2 rows\n",
      "\n"
     ]
    }
   ],
   "source": [
    "item_subtag_sdf_train.show(2)"
   ]
  },
  {
   "cell_type": "markdown",
   "id": "f67be837",
   "metadata": {},
   "source": [
    "### 2.user-item (context)"
   ]
  },
  {
   "cell_type": "code",
   "execution_count": 23,
   "id": "6bd58aa5",
   "metadata": {},
   "outputs": [],
   "source": [
    "context_sdf = (\n",
    "    spark.read.parquet(\n",
    "        \"s3a://df-smart-channel/recsys-dataset/beta_v2/layer1/context\"\n",
    "    ).where(\n",
    "        (col(\"date\")>=train_start_date) & (col(\"date\")<=train_end_date)\n",
    "    )\n",
    ")"
   ]
  },
  {
   "cell_type": "code",
   "execution_count": 26,
   "id": "f9aab41c",
   "metadata": {},
   "outputs": [
    {
     "name": "stdout",
     "output_type": "stream",
     "text": [
      "去除沒有點擊紀錄後context的數目: 294509\n",
      "展開item後context的數目: 629533\n",
      "選 df_smart_channel後context的數目: 485314\n",
      "過濾掉公版後context的數目: 485314\n",
      "Total Context number: 485314\n"
     ]
    }
   ],
   "source": [
    "# 去除沒有點擊紀錄的\n",
    "clean_context_sdf = context_sdf.where(col('item_click_list').isNotNull())\n",
    "print('去除沒有點擊紀錄後context的數目:', clean_context_sdf.count())\n",
    "# 將item_click_list展開\n",
    "clean_context_sdf = clean_context_sdf.select(clean_context_sdf.cust_no, \n",
    "                                             clean_context_sdf.date,\n",
    "                                             F.explode(clean_context_sdf.item_click_list))\n",
    "# 選出欄位\n",
    "flatten_clean_context_sdf = clean_context_sdf.select(F.col('cust_no'), F.col('date'), F.col('col.*'))\n",
    "print('展開item後context的數目:', flatten_clean_context_sdf.count())\n",
    "# 選 df_smart_channel\n",
    "flatten_clean_context_sdf = flatten_clean_context_sdf.where(col('hits_eventinfo_eventcategory')=='smart_channel')\n",
    "print('選 df_smart_channel後context的數目:', flatten_clean_context_sdf.count())\n",
    "#和item sdf合併\n",
    "flatten_clean_context_sdf = flatten_clean_context_sdf.join(item_sdf.drop('click', 'show'), on=['item_id', 'date'], how='left')\n",
    "# 過濾掉公版\n",
    "# flatten_clean_context_sdf = flatten_clean_context_sdf.where(col('service')!='public_content')\n",
    "print('過濾掉公版後context的數目:', flatten_clean_context_sdf.count())\n",
    "flatten_clean_context_sdf = flatten_clean_context_sdf.select(F.col('item_id'), F.col('cust_no'), F.col('date'),\n",
    "                               F.col('visitdatetime'), F.col('eventdatetime'), F.col('click'), F.col('show')\n",
    "                              )\n",
    "# 找出最先點擊或最先曝光(一天可能點同一個item多次)\n",
    "flatten_clean_context_sdf = flatten_clean_context_sdf.withColumn(\"day_order\", F.row_number().over(Window.partitionBy(['cust_no', 'date', 'item_id']).orderBy(flatten_clean_context_sdf['eventdatetime'])))\n",
    "# 計算該顧客在當天點同一個item的點擊和曝光總數\n",
    "cust_click_bydate = flatten_clean_context_sdf.groupby(['cust_no', 'date', 'item_id']).sum('click').withColumnRenamed('sum(click)', 'click')\n",
    "cust_show_bydate = flatten_clean_context_sdf.groupby(['cust_no', 'date', 'item_id']).sum('show').withColumnRenamed('sum(show)', 'show')\n",
    "# 選最先點擊的item\n",
    "flatten_clean_context_sdf = flatten_clean_context_sdf.where(col('day_order')==1).drop('click', 'show', 'day_order')\n",
    "flatten_clean_context_sdf = flatten_clean_context_sdf.join(cust_click_bydate, on=['cust_no', 'date', 'item_id'], how='left')\n",
    "flatten_clean_context_sdf = flatten_clean_context_sdf.join(cust_show_bydate, on=['cust_no', 'date', 'item_id'], how='left')\n",
    "# 計算點擊排名。挑出有點擊的人做排名 15674人有點擊 rank最多為2\n",
    "click_sdf = flatten_clean_context_sdf.where(col('click')>0)\n",
    "click_sdf = click_sdf.withColumn(\"rank\", F.row_number().over(Window.partitionBy(['cust_no', 'date']).orderBy(click_sdf['eventdatetime'])))\n",
    "flatten_clean_context_sdf = flatten_clean_context_sdf.join(click_sdf.select('click', 'cust_no', 'date', 'item_id', 'rank'), on=['click', 'cust_no', 'date', 'item_id'], how='left')\n",
    "print('Total Context number:', flatten_clean_context_sdf.count())"
   ]
  },
  {
   "cell_type": "code",
   "execution_count": 27,
   "id": "3944aabf",
   "metadata": {},
   "outputs": [],
   "source": [
    "context_sdf_train = flatten_clean_context_sdf.filter(col('date') <= train_end_date)\n",
    "# context_sdf_test = flatten_clean_context_sdf.filter(col('date') == test_date)"
   ]
  },
  {
   "cell_type": "code",
   "execution_count": 28,
   "id": "8edc5431",
   "metadata": {},
   "outputs": [],
   "source": [
    "uniqueUsersObserved = context_sdf_train.select('cust_no').distinct().collect()"
   ]
  },
  {
   "cell_type": "code",
   "execution_count": 29,
   "id": "d4f4f832",
   "metadata": {},
   "outputs": [],
   "source": [
    "unique_users_list = [each_user.__getitem__('cust_no') for each_user in uniqueUsersObserved]"
   ]
  },
  {
   "cell_type": "code",
   "execution_count": null,
   "id": "d87fa533",
   "metadata": {},
   "outputs": [],
   "source": [
    "# unique_users_list"
   ]
  },
  {
   "cell_type": "code",
   "execution_count": 56,
   "id": "71b580d0",
   "metadata": {},
   "outputs": [],
   "source": [
    "## filter unobserved in test\n",
    "# context_sdf_test = context_sdf_test.filter(context_sdf_test.cust_no.isin(unique_users_list))"
   ]
  },
  {
   "cell_type": "markdown",
   "id": "04871b7a",
   "metadata": {},
   "source": [
    "## 3. user-subtag (user)"
   ]
  },
  {
   "cell_type": "code",
   "execution_count": 34,
   "id": "c5840425",
   "metadata": {
    "ExecuteTime": {
     "end_time": "2022-02-16T10:21:09.325986Z",
     "start_time": "2022-02-16T10:20:53.418343Z"
    },
    "hidden": true
   },
   "outputs": [
    {
     "name": "stdout",
     "output_type": "stream",
     "text": [
      "User Sdf數目: 249725\n"
     ]
    }
   ],
   "source": [
    "user_sdf = (\n",
    "    spark.read.parquet(\n",
    "        \"s3a://df-smart-channel/recsys-dataset/beta_v2/layer1/user\"\n",
    "    ).where(\n",
    "        col(\"date\") == train_end_date\n",
    "        #(col(\"date\")>=train_end_date) & (col(\"date\")<=train_end_date\n",
    "    )\n",
    ")\n",
    "user_sdf = user_sdf.drop('click', 'show')\n",
    "user_sdf = user_sdf.select([\n",
    "    'cust_no', 'date', 'mobile_login_90', 'dd_my', 'dd_md', 'onlymd_ind', 'onlycc_ind', 'efingo_card_ind',  'cl_cpa_amt', 'fc_ind'\n",
    "]).filter(user_sdf.cust_no.isin(unique_users_list))\n",
    "print('User Sdf數目:', user_sdf.count())"
   ]
  },
  {
   "cell_type": "code",
   "execution_count": 108,
   "id": "207c7adf",
   "metadata": {},
   "outputs": [],
   "source": [
    "user_sdf_sub = user_sdf.filter(user_sdf.cust_no.isin(unique_users_list))"
   ]
  },
  {
   "cell_type": "code",
   "execution_count": null,
   "id": "5e30d7d1",
   "metadata": {},
   "outputs": [],
   "source": [
    "# user_df_train = user_sdf.filter(user_sdf.date == train_end_date).toPandas()\n",
    "# user_df_test = user_sdf_sub.filter(user_sdf_sub.date == test_date).toPandas()"
   ]
  },
  {
   "cell_type": "code",
   "execution_count": null,
   "id": "e1488ac0",
   "metadata": {},
   "outputs": [],
   "source": [
    "# export_file(user_df_test, test_date, 'user_subtag.csv')"
   ]
  },
  {
   "cell_type": "code",
   "execution_count": null,
   "id": "9de1166d",
   "metadata": {},
   "outputs": [],
   "source": []
  },
  {
   "cell_type": "markdown",
   "id": "0ee56c94",
   "metadata": {},
   "source": [
    "## phase2"
   ]
  },
  {
   "cell_type": "code",
   "execution_count": null,
   "id": "2d132737",
   "metadata": {},
   "outputs": [],
   "source": [
    "item_subtag_sdf.columns"
   ]
  },
  {
   "cell_type": "code",
   "execution_count": null,
   "id": "8c630481",
   "metadata": {},
   "outputs": [],
   "source": [
    "context_sdf_train.columns"
   ]
  },
  {
   "cell_type": "code",
   "execution_count": null,
   "id": "63dde111",
   "metadata": {},
   "outputs": [],
   "source": [
    "user_sdf.columns"
   ]
  },
  {
   "cell_type": "code",
   "execution_count": 110,
   "id": "436145cf",
   "metadata": {},
   "outputs": [],
   "source": [
    "user_subtag = user_sdf_sub"
   ]
  },
  {
   "cell_type": "markdown",
   "id": "47165c45",
   "metadata": {},
   "source": [
    "### get user-item"
   ]
  },
  {
   "cell_type": "code",
   "execution_count": null,
   "id": "be4624b2",
   "metadata": {},
   "outputs": [],
   "source": [
    "from pyspark.ml.feature import StringIndexer"
   ]
  },
  {
   "cell_type": "code",
   "execution_count": null,
   "id": "e8b58197",
   "metadata": {},
   "outputs": [],
   "source": [
    "le_user = LabelEncoder()\n",
    "context_train.cust_no = le_user.fit_transform(context_train.cust_no)\n",
    "# context_test.cust_no = le_user.transform(context_test.cust_no)\n",
    "user_subtag['cust_no'] = le_user.transform(user_subtag['cust_no'])"
   ]
  },
  {
   "cell_type": "code",
   "execution_count": 54,
   "id": "91045336",
   "metadata": {},
   "outputs": [],
   "source": [
    "cust_indexer = StringIndexer(inputCol=\"cust_no\", outputCol=\"cust_id\") \n",
    "cust_transformer = cust_indexer.fit(context_sdf_train)"
   ]
  },
  {
   "cell_type": "code",
   "execution_count": 55,
   "id": "b2f596ed",
   "metadata": {},
   "outputs": [],
   "source": [
    "context_sdf_train_indexed = cust_transformer.transform(context_sdf_train) "
   ]
  },
  {
   "cell_type": "code",
   "execution_count": 56,
   "id": "8f175e4e",
   "metadata": {},
   "outputs": [],
   "source": [
    "item_indexer = StringIndexer(inputCol=\"item_id\", outputCol=\"item_ind\") \n",
    "item_transformer = item_indexer.fit(context_sdf_train)"
   ]
  },
  {
   "cell_type": "code",
   "execution_count": 57,
   "id": "813e8423",
   "metadata": {},
   "outputs": [],
   "source": [
    "context_sdf_train_indexed = item_transformer.transform(context_sdf_train) \n",
    "item_subtag_sdf_train_indexed = item_transformer.transform(item_subtag_sdf_train) "
   ]
  },
  {
   "cell_type": "code",
   "execution_count": null,
   "id": "903048a4",
   "metadata": {},
   "outputs": [],
   "source": [
    "# modelPath = temp_path + \"/string-indexer-model\"\n",
    "# model.save(modelPath)"
   ]
  },
  {
   "cell_type": "code",
   "execution_count": null,
   "id": "94dc2ae6",
   "metadata": {},
   "outputs": [],
   "source": [
    "# loadedTransformer = StringIndexerModel.load(modelPath)"
   ]
  },
  {
   "cell_type": "markdown",
   "id": "c6ae070e",
   "metadata": {},
   "source": [
    "### get user-subtag"
   ]
  },
  {
   "cell_type": "code",
   "execution_count": 111,
   "id": "9ceff944",
   "metadata": {},
   "outputs": [
    {
     "data": {
      "text/plain": [
       "249725"
      ]
     },
     "execution_count": 111,
     "metadata": {},
     "output_type": "execute_result"
    }
   ],
   "source": [
    "user_subtag.count()"
   ]
  },
  {
   "cell_type": "code",
   "execution_count": null,
   "id": "70bc228b",
   "metadata": {},
   "outputs": [],
   "source": [
    "# 行銀活躍用戶\n",
    "mobile_active = user_subtag.mobile_login_90\n",
    "# 有外幣帳戶\n",
    "forex_digital_account = user_subtag.dd_my\n",
    "# 存戶\n",
    "account = user_subtag.dd_md\n",
    "# 純存戶\n",
    "account_only = user_subtag.onlymd_ind\n",
    "# 純卡戶\n",
    "credit_card_only = user_subtag.onlycc_ind\n",
    "# 卡存戶有e.Fingo指定卡\n",
    "card_pi_only_ubear = user_subtag.efingo_card_ind\n",
    "# 有信貸者\n",
    "personal_loan_account_cust = user_subtag.cl_cpa_amt.notna()\n",
    "# 無理專顧客\n",
    "no_fc_cust = user_subtag.fc_ind == 0"
   ]
  },
  {
   "cell_type": "code",
   "execution_count": null,
   "id": "33f5782d",
   "metadata": {},
   "outputs": [],
   "source": [
    "user_subtag = user_subtag.sort_values('cust_no')"
   ]
  },
  {
   "cell_type": "code",
   "execution_count": null,
   "id": "b7e1f309",
   "metadata": {},
   "outputs": [],
   "source": [
    "user_subtag_dict = {}\n",
    "for i, ids in enumerate(user_subtag.cust_no):\n",
    "    subtags_list = []\n",
    "    if mobile_active[i]: subtags_list.append(0);\n",
    "    if forex_digital_account[i]: subtags_list.append(1);\n",
    "    if account[i]: subtags_list.append(2);\n",
    "    if account_only[i]: subtags_list.append(3);        \n",
    "    if credit_card_only[i]: subtags_list.append(4);\n",
    "    if card_pi_only_ubear[i]: subtags_list.append(5);\n",
    "    if personal_loan_account_cust[i]: subtags_list.append(6);\n",
    "    if no_fc_cust[i]: subtags_list.append(7);\n",
    "    user_subtag_dict[ids] = subtags_list"
   ]
  },
  {
   "cell_type": "markdown",
   "id": "5989fcf6",
   "metadata": {},
   "source": [
    "### get item-subtag"
   ]
  },
  {
   "cell_type": "code",
   "execution_count": 58,
   "id": "d5d7df33",
   "metadata": {},
   "outputs": [],
   "source": [
    "mapping_df = pd.read_excel('subtag_map.xlsx', sheet_name = 'mapping')"
   ]
  },
  {
   "cell_type": "code",
   "execution_count": 63,
   "id": "256517e9",
   "metadata": {},
   "outputs": [
    {
     "name": "stdout",
     "output_type": "stream",
     "text": [
      "+--------------------+--------+------------------+--------+\n",
      "|             item_id|    date|   subtag_eng_desc|item_ind|\n",
      "+--------------------+--------+------------------+--------+\n",
      "|8236E47D-EC12-4B4...|20211225|03_wealth_view_ind|     9.0|\n",
      "|8236E47D-EC12-4B4...|20211225| 03_investment_ind|     9.0|\n",
      "|8236E47D-EC12-4B4...|20211225|   03_account_only|     9.0|\n",
      "|0266753B-F0CD-460...|20211225|03_wealth_view_ind|    17.0|\n",
      "|0266753B-F0CD-460...|20211225|     03_no_fc_cust|    17.0|\n",
      "+--------------------+--------+------------------+--------+\n",
      "only showing top 5 rows\n",
      "\n"
     ]
    }
   ],
   "source": [
    "item_subtag_sdf_train_indexed.show(5)"
   ]
  },
  {
   "cell_type": "code",
   "execution_count": 71,
   "id": "e47f56e0",
   "metadata": {},
   "outputs": [],
   "source": [
    "def lstrip(column, n):\n",
    "    # should probably add error checking on inputs\n",
    "    return expr(\"substring(`{col}`, {n}+1, length(`{col}`)-{n})\".format(col=column, n=n))\n",
    "\n",
    "item_subtag_sdf_train_indexed = item_subtag_sdf_train_indexed.withColumn(\"subtag_eng_desc\", lstrip(column=\"subtag_eng_desc\", n=3))"
   ]
  },
  {
   "cell_type": "code",
   "execution_count": 73,
   "id": "9e40e1d6",
   "metadata": {},
   "outputs": [
    {
     "name": "stdout",
     "output_type": "stream",
     "text": [
      "+--------------------+--------+---------------+--------+-------------------+\n",
      "|             item_id|    date|subtag_eng_desc|item_ind|new_subtag_eng_desc|\n",
      "+--------------------+--------+---------------+--------+-------------------+\n",
      "|8236E47D-EC12-4B4...|20211225|wealth_view_ind|     9.0|    wealth_view_ind|\n",
      "|8236E47D-EC12-4B4...|20211225| investment_ind|     9.0|     investment_ind|\n",
      "+--------------------+--------+---------------+--------+-------------------+\n",
      "only showing top 2 rows\n",
      "\n"
     ]
    }
   ],
   "source": [
    "item_subtag_sdf_train_indexed.show(2)"
   ]
  },
  {
   "cell_type": "code",
   "execution_count": null,
   "id": "9016690b",
   "metadata": {},
   "outputs": [],
   "source": [
    "available_items = mapping_df.subtag_03.unique()\n",
    "item_subtag_sdf_train_indexed = item_subtag_sdf_train_indexed.withColumn(\"subtag_eng_desc\", lstrip(column=\"subtag_eng_desc\", n=3))\n",
    "item_subtag_sdf_train_indexed = item_subtag_sdf_train_indexed.filter(item_subtag_sdf_train_indexed.subtag_eng_desc.isin(list(available_items)))"
   ]
  },
  {
   "cell_type": "code",
   "execution_count": 85,
   "id": "e5494fee",
   "metadata": {},
   "outputs": [
    {
     "name": "stdout",
     "output_type": "stream",
     "text": [
      "+--------------------+--------+--------------------+--------+--------------------+\n",
      "|             item_id|    date|     subtag_eng_desc|item_ind| new_subtag_eng_desc|\n",
      "+--------------------+--------+--------------------+--------+--------------------+\n",
      "|8236E47D-EC12-4B4...|20211225|        account_only|     9.0|        account_only|\n",
      "|0266753B-F0CD-460...|20211225|          no_fc_cust|    17.0|          no_fc_cust|\n",
      "|0266753B-F0CD-460...|20211225|             account|    17.0|             account|\n",
      "|B105ECE3-B0EA-4F0...|20211225|       mobile_active|    18.0|       mobile_active|\n",
      "|B105ECE3-B0EA-4F0...|20211225|forex_digital_acc...|    18.0|forex_digital_acc...|\n",
      "+--------------------+--------+--------------------+--------+--------------------+\n",
      "only showing top 5 rows\n",
      "\n"
     ]
    }
   ],
   "source": [
    "item_subtag_sdf_train_indexed.show(5)"
   ]
  },
  {
   "cell_type": "code",
   "execution_count": 95,
   "id": "9ff63de9",
   "metadata": {},
   "outputs": [
    {
     "data": {
      "text/plain": [
       "DataFrame[item_id: string, date: int, subtag_eng_desc: string, item_ind: double, new_subtag_eng_desc: string]"
      ]
     },
     "execution_count": 95,
     "metadata": {},
     "output_type": "execute_result"
    }
   ],
   "source": [
    "mapping_sdf=spark.createDataFrame(mapping_df) "
   ]
  },
  {
   "cell_type": "code",
   "execution_count": 99,
   "id": "a50ede31",
   "metadata": {},
   "outputs": [],
   "source": [
    "item_subtags = item_subtag_sdf_train_indexed.join(mapping_sdf, item_subtag_sdf_train_indexed.subtag_eng_desc == mapping_sdf.subtag_03, 'left')"
   ]
  },
  {
   "cell_type": "code",
   "execution_count": 104,
   "id": "66135735",
   "metadata": {},
   "outputs": [],
   "source": [
    "item_subtags_df = item_subtags.toPandas()"
   ]
  },
  {
   "cell_type": "code",
   "execution_count": 105,
   "id": "ec0c7545",
   "metadata": {},
   "outputs": [],
   "source": [
    "# item_subtags = pd.merge(item_subtag, mapping_df, how = 'left', left_on = 'subtag_eng_desc', right_on = 'subtag_03', copy = False)\n",
    "subtags_by_item = item_subtags_df.groupby('item_ind')['code'].unique()\n",
    "item_subtag_dict = dict(subtags_by_item.apply(list))"
   ]
  },
  {
   "cell_type": "code",
   "execution_count": 106,
   "id": "4ccc0b12",
   "metadata": {},
   "outputs": [
    {
     "data": {
      "text/plain": [
       "{1.0: [2, 7],\n",
       " 2.0: [4],\n",
       " 3.0: [1],\n",
       " 4.0: [1],\n",
       " 5.0: [6, 0, 1],\n",
       " 6.0: [5, 4],\n",
       " 7.0: [2, 7],\n",
       " 8.0: [2, 7],\n",
       " 9.0: [3],\n",
       " 12.0: [2, 4],\n",
       " 13.0: [2],\n",
       " 14.0: [2, 3],\n",
       " 15.0: [5, 3],\n",
       " 16.0: [4, 3],\n",
       " 17.0: [2, 7],\n",
       " 18.0: [6, 0, 1],\n",
       " 19.0: [2, 4, 3],\n",
       " 20.0: [5, 4]}"
      ]
     },
     "execution_count": 106,
     "metadata": {},
     "output_type": "execute_result"
    }
   ],
   "source": [
    "item_subtag_dict"
   ]
  },
  {
   "cell_type": "code",
   "execution_count": null,
   "id": "f552454c",
   "metadata": {},
   "outputs": [],
   "source": [
    "# export_file(context_df_train, test_date, 'context_train.csv')\n",
    "# export_file(context_df_test, test_date, 'context_test.csv')"
   ]
  },
  {
   "cell_type": "code",
   "execution_count": null,
   "id": "1eb4755f",
   "metadata": {},
   "outputs": [],
   "source": []
  },
  {
   "cell_type": "code",
   "execution_count": null,
   "id": "ae616855",
   "metadata": {},
   "outputs": [],
   "source": []
  },
  {
   "cell_type": "code",
   "execution_count": null,
   "id": "672ac5c0",
   "metadata": {},
   "outputs": [],
   "source": []
  }
 ],
 "metadata": {
  "kernelspec": {
   "display_name": "Python 3",
   "language": "python",
   "name": "python3"
  },
  "language_info": {
   "codemirror_mode": {
    "name": "ipython",
    "version": 3
   },
   "file_extension": ".py",
   "mimetype": "text/x-python",
   "name": "python",
   "nbconvert_exporter": "python",
   "pygments_lexer": "ipython3",
   "version": "3.7.10"
  }
 },
 "nbformat": 4,
 "nbformat_minor": 5
}
