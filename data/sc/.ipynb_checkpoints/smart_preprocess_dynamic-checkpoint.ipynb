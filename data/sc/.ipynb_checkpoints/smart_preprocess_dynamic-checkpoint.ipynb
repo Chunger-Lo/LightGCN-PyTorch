{
 "cells": [
  {
   "cell_type": "code",
   "execution_count": 1,
   "id": "5e540ea7",
   "metadata": {},
   "outputs": [],
   "source": [
    "# import numpy as np\n",
    "import pandas as pd\n",
    "import math\n",
    "import os\n",
    "from sklearn.preprocessing import LabelEncoder\n",
    "pd.set_option('display.max_colwidth', 200)\n",
    "pd.set_option('display.max_rows', 200)"
   ]
  },
  {
   "cell_type": "code",
   "execution_count": 2,
   "id": "2c0fe4be",
   "metadata": {},
   "outputs": [],
   "source": [
    "# context = pd.read_csv('..//data/preprocessed//context_1217_1230.csv')\n",
    "context = pd.read_csv('/home/jovyan/df-smart-channel/graph/data/preprocessed/context_1217_0131.csv')"
   ]
  },
  {
   "cell_type": "code",
   "execution_count": 3,
   "id": "5feb5f48",
   "metadata": {},
   "outputs": [],
   "source": [
    "le = LabelEncoder()\n",
    "context.cust_no = le.fit_transform(context.cust_no)\n",
    "context.item_id = le.fit_transform(context.item_id)"
   ]
  },
  {
   "cell_type": "code",
   "execution_count": 4,
   "id": "c5540933",
   "metadata": {},
   "outputs": [],
   "source": [
    "user_list = context.cust_no.unique()\n",
    "item_list = context.item_id.unique()"
   ]
  },
  {
   "cell_type": "markdown",
   "id": "abbf1137",
   "metadata": {},
   "source": [
    "## Splitting"
   ]
  },
  {
   "cell_type": "code",
   "execution_count": 5,
   "id": "06bd2d3b",
   "metadata": {},
   "outputs": [],
   "source": [
    "train_start = 20211217\n",
    "train_end = 20211225\n",
    "test_end = 20211226"
   ]
  },
  {
   "cell_type": "code",
   "execution_count": 6,
   "id": "50abaec4",
   "metadata": {},
   "outputs": [],
   "source": [
    "def splitting(user_list, train_start, test_date):\n",
    "    context_train = context[(context.date >= train_start) & (context.date < test_date)][['cust_no', 'item_id', 'show', 'click']]\n",
    "    context_test = context[context.date == test_date][['cust_no', 'item_id', 'show', 'click']]\n",
    "    \n",
    "    cust_item_pair_train = context_train.groupby(['cust_no', 'item_id'])['click'].sum().reset_index()\n",
    "    cust_item_pair_test = context_test.groupby(['cust_no', 'item_id'])['click'].sum().reset_index()\n",
    "    \n",
    "    # cust_item_pair_train = cust_item_pair_train[cust_item_pair_train.click > 0]\n",
    "    # cust_item_pair_test = cust_item_pair_test[cust_item_pair_test.click > 0]\n",
    "    # init_df = pd.DataFrame({\"cust_no\": range(max(user_list)+1)})\n",
    "    # ## mapping\n",
    "    # cust_item_pair_train = pd.merge(init_df, cust_item_pair_train, on = 'cust_no', how = 'left')\n",
    "    # cust_item_pair_test = pd.merge(init_df, cust_item_pair_test, on = 'cust_no', how = 'left')\n",
    "    \n",
    "    # cust_item_pair_train.click = cust_item_pair_train.click.fillna(0)\n",
    "    # cust_item_pair_test.click = cust_item_pair_train.click.fillna(0)\n",
    "    \n",
    "    items_by_cust_train = cust_item_pair_train.groupby('cust_no')['item_id'].unique()\n",
    "    items_by_cust_test = cust_item_pair_test.groupby('cust_no')['item_id'].unique()\n",
    "    \n",
    "    cust_items_dict_train = dict(items_by_cust_train.apply(list))\n",
    "    cust_items_dict_test = dict(items_by_cust_test.apply(list))\n",
    "    return cust_items_dict_train, cust_items_dict_test"
   ]
  },
  {
   "cell_type": "code",
   "execution_count": 7,
   "id": "70f571f8",
   "metadata": {},
   "outputs": [],
   "source": [
    "def export_file(date, pairs_dict_train, pairs_dict_test):\n",
    "    dir_name = f'date={date}'\n",
    "    if not os.path.isdir(dir_name):\n",
    "        os.mkdir(dir_name)\n",
    "        \n",
    "    ## train\n",
    "    file_path = os.path.join(dir_name, 'train.txt')\n",
    "    file = open(file_path,\"w\")\n",
    "\n",
    "    for key,value in pairs_dict_train.items():\n",
    "        file.write('%s' % key)\n",
    "        # for item in value:\n",
    "        #     file.write('%s ' % item)\n",
    "        for i, item in enumerate(value):\n",
    "            if math.isnan(item):\n",
    "                continue\n",
    "            else:\n",
    "                if i == (len(value)-1):\n",
    "                    file.write(' %s' % int(item))\n",
    "                else:\n",
    "                    file.write(' %s' % int(item))\n",
    "        file.write('\\n')\n",
    "    file.close()\n",
    "    ## test\n",
    "    file_path = os.path.join(dir_name, 'test.txt')\n",
    "    file = open(file_path,\"w\")\n",
    "\n",
    "    for key,value in pairs_dict_test.items():\n",
    "        file.write('%s' % key)\n",
    "        # for item in value:\n",
    "        #     file.write('%s ' % item)\n",
    "        for i, item in enumerate(value):\n",
    "            if math.isnan(item):\n",
    "                continue\n",
    "            else:\n",
    "                if i == (len(value)-1):\n",
    "                    file.write(' %s' % int(item))\n",
    "                else:\n",
    "                    file.write(' %s' % int(item))\n",
    "        file.write('\\n')\n",
    "    file.close()"
   ]
  },
  {
   "cell_type": "code",
   "execution_count": 8,
   "id": "c8539606",
   "metadata": {},
   "outputs": [],
   "source": [
    "for test_date in range(20211226, 20211231+1):\n",
    "    cust_items_dict_train, cust_items_dict_test = splitting(user_list = user_list, train_start = 20211217, test_date = test_date) \n",
    "    export_file(date = str(test_date), pairs_dict_train = cust_items_dict_train, pairs_dict_test = cust_items_dict_test )"
   ]
  },
  {
   "cell_type": "code",
   "execution_count": 14,
   "id": "d804e7ef",
   "metadata": {},
   "outputs": [
    {
     "data": {
      "text/plain": [
       "14486"
      ]
     },
     "execution_count": 14,
     "metadata": {},
     "output_type": "execute_result"
    }
   ],
   "source": [
    "len(list(cust_items_dict_train.keys()))"
   ]
  },
  {
   "cell_type": "code",
   "execution_count": 15,
   "id": "5fa70786",
   "metadata": {},
   "outputs": [
    {
     "data": {
      "text/plain": [
       "524"
      ]
     },
     "execution_count": 15,
     "metadata": {},
     "output_type": "execute_result"
    }
   ],
   "source": [
    "len(list(cust_items_dict_test.keys()))"
   ]
  },
  {
   "cell_type": "code",
   "execution_count": 16,
   "id": "e728b597",
   "metadata": {},
   "outputs": [
    {
     "name": "stdout",
     "output_type": "stream",
     "text": [
      "8852\n",
      "804\n",
      "---\n",
      "9606\n",
      "1463\n",
      "---\n",
      "10964\n",
      "1532\n",
      "---\n",
      "12372\n",
      "1435\n",
      "---\n",
      "13693\n",
      "857\n",
      "---\n",
      "14486\n",
      "524\n",
      "---\n"
     ]
    }
   ],
   "source": [
    "for test_date in range(20211226, 20211231+1):\n",
    "    cust_items_dict_train, cust_items_dict_test = splitting(user_list = user_list, train_start = 20211217, test_date = test_date) \n",
    "    len_tr = len(list(cust_items_dict_train.keys()))\n",
    "    len_te = len(list(cust_items_dict_test.keys()))\n",
    "    print(len_tr)\n",
    "    print(len_te)\n",
    "    print('---')\n"
   ]
  },
  {
   "cell_type": "code",
   "execution_count": null,
   "id": "677d792d",
   "metadata": {},
   "outputs": [],
   "source": []
  },
  {
   "cell_type": "code",
   "execution_count": null,
   "id": "97277d4c",
   "metadata": {},
   "outputs": [],
   "source": []
  }
 ],
 "metadata": {
  "kernelspec": {
   "display_name": "Python 3",
   "language": "python",
   "name": "python3"
  },
  "language_info": {
   "codemirror_mode": {
    "name": "ipython",
    "version": 3
   },
   "file_extension": ".py",
   "mimetype": "text/x-python",
   "name": "python",
   "nbconvert_exporter": "python",
   "pygments_lexer": "ipython3",
   "version": "3.7.10"
  }
 },
 "nbformat": 4,
 "nbformat_minor": 5
}
