{
 "cells": [
  {
   "cell_type": "code",
   "execution_count": 47,
   "id": "1ebb6997",
   "metadata": {},
   "outputs": [],
   "source": [
    "import numpy as np\n",
    "import pandas as pd\n",
    "import math\n",
    "import os\n",
    "from sklearn.preprocessing import LabelEncoder\n",
    "pd.set_option('display.max_colwidth', 200)\n",
    "pd.set_option('display.max_rows', 200)"
   ]
  },
  {
   "cell_type": "code",
   "execution_count": 2,
   "id": "9c26bb76",
   "metadata": {},
   "outputs": [],
   "source": [
    "# context = pd.read_csv('..//data/preprocessed//context_1217_1230.csv')\n",
    "context = pd.read_csv('/home/jovyan/df-smart-channel/graph/data/preprocessed/context_1217_0131.csv')"
   ]
  },
  {
   "cell_type": "code",
   "execution_count": 3,
   "id": "c144b858",
   "metadata": {},
   "outputs": [],
   "source": [
    "le = LabelEncoder()\n",
    "context.cust_no = le.fit_transform(context.cust_no)\n",
    "context.item_id = le.fit_transform(context.item_id)"
   ]
  },
  {
   "cell_type": "code",
   "execution_count": 4,
   "id": "d3719dd2",
   "metadata": {},
   "outputs": [],
   "source": [
    "user_list = context.cust_no.unique()\n",
    "item_list = context.item_id.unique()"
   ]
  },
  {
   "cell_type": "code",
   "execution_count": 5,
   "id": "c14d08d2",
   "metadata": {},
   "outputs": [
    {
     "data": {
      "text/plain": [
       "576702"
      ]
     },
     "execution_count": 5,
     "metadata": {},
     "output_type": "execute_result"
    }
   ],
   "source": [
    "len(user_list)"
   ]
  },
  {
   "cell_type": "markdown",
   "id": "09083fd1",
   "metadata": {},
   "source": [
    "## Splitting"
   ]
  },
  {
   "cell_type": "code",
   "execution_count": 6,
   "id": "6c16df7c",
   "metadata": {},
   "outputs": [],
   "source": [
    "train_start = 20211217\n",
    "train_end = 20211225\n",
    "test_end = 20211226\n",
    "test_date = test_end"
   ]
  },
  {
   "cell_type": "code",
   "execution_count": 7,
   "id": "1b5ce383",
   "metadata": {},
   "outputs": [],
   "source": [
    "## old version\n",
    "# def splitting(user_list, train_start, test_date):\n",
    "#     context_train = context_click[(context_click.date >= train_start) & (context_click.date < test_date)][['cust_no', 'item_id', 'show', 'click']]\n",
    "#     context_test = context_click[context_click.date == test_date][['cust_no', 'item_id', 'show', 'click']]\n",
    "    \n",
    "#     cust_item_pair_train = context_train.groupby(['cust_no', 'item_id'])['click'].sum().reset_index()\n",
    "#     cust_item_pair_test = context_test.groupby(['cust_no', 'item_id'])['click'].sum().reset_index()\n",
    "    \n",
    "#     # cust_item_pair_train = cust_item_pair_train[cust_item_pair_train.click > 0]\n",
    "#     # cust_item_pair_test = cust_item_pair_test[cust_item_pair_test.click > 0]\n",
    "    \n",
    "#     trainUniqueUsers = set(cust_item_pair_train.cust_no.unique())\n",
    "#     # testUniqueUsers = set(cust_item_pair_test.cust_no.unique())\n",
    "#     cust_item_pair_test = cust_item_pair_test[cust_item_pair_test.cust_no.isin(trainUniqueUsers)]\n",
    "    \n",
    "#     items_by_cust_train = cust_item_pair_train.groupby('cust_no')['item_id'].unique()\n",
    "#     items_by_cust_test = cust_item_pair_test.groupby('cust_no')['item_id'].unique()\n",
    "    \n",
    "#     cust_items_dict_train = dict(items_by_cust_train.apply(list))\n",
    "#     cust_items_dict_test = dict(items_by_cust_test.apply(list))\n",
    "#     return cust_items_dict_train, cust_items_dict_test"
   ]
  },
  {
   "cell_type": "code",
   "execution_count": null,
   "id": "95d9d510",
   "metadata": {},
   "outputs": [],
   "source": [
    "user_list = context\n",
    "train_start = 20211217\n",
    "test_date = 20211226"
   ]
  },
  {
   "cell_type": "code",
   "execution_count": 69,
   "id": "f96b20e2",
   "metadata": {},
   "outputs": [],
   "source": [
    "context_train = context[(context.date >= train_start) & (context.date < test_date)][['cust_no', 'item_id', 'show','click']]\n",
    "trainUniqueUsers = set(context_train.cust_no.unique())\n",
    "context_test = context[context.date == test_date][['cust_no', 'item_id','click']]\n",
    "context_test = context_test[context_test.cust_no.isin(trainUniqueUsers)]\n",
    "\n",
    "cust_item_pair_train = context_train.groupby(['cust_no', 'item_id'])['click'].sum().reset_index()\n",
    "cust_item_pair_test = context_test.groupby(['cust_no', 'item_id'])['click'].sum().reset_index()\n",
    "\n",
    "cust_no = context_train.cust_no.unique()\n",
    "init_df = pd.DataFrame({'cust_no': cust_no})\n",
    "combined_train = pd.merge(init_df, cust_item_pair_train, on = 'cust_no', how = 'left')[['cust_no', 'item_id']]\n",
    "# combined_train.item_id = combined_train.item_id.astype(int)\n",
    "\n",
    "combined_test = pd.merge(init_df, cust_item_pair_test, on = 'cust_no', how = 'left')[['cust_no', 'item_id']]\n",
    "combined_test.item_id = combined_test.item_id.replace(np.nan, -1)\n",
    "combined_test = combined_test[combined_test.item_id != -1]\n",
    "combined_test.item_id = combined_test.item_id.astype(int)"
   ]
  },
  {
   "cell_type": "code",
   "execution_count": null,
   "id": "4cce31fe",
   "metadata": {},
   "outputs": [],
   "source": []
  },
  {
   "cell_type": "code",
   "execution_count": 8,
   "id": "b093626d",
   "metadata": {},
   "outputs": [],
   "source": [
    "def splitting(user_list, train_start, test_date):\n",
    "    context_train = context[(context.date >= train_start) & (context.date < test_date)][['cust_no', 'item_id', 'show','click']]\n",
    "    trainUniqueUsers = set(context_train.cust_no.unique())\n",
    "    context_test = context[context.date == test_date][['cust_no', 'item_id','click']]\n",
    "    context_test = context_test[context_test.cust_no.isin(trainUniqueUsers)]\n",
    "\n",
    "    cust_item_pair_train = context_train.groupby(['cust_no', 'item_id'])['click'].sum().reset_index()\n",
    "    cust_item_pair_test = context_test.groupby(['cust_no', 'item_id'])['click'].sum().reset_index()\n",
    "\n",
    "    cust_no = context_train.cust_no.unique()\n",
    "    init_df = pd.DataFrame({'cust_no': cust_no})\n",
    "\n",
    "    combined_train = pd.merge(init_df, cust_item_pair_train, on = 'cust_no', how = 'left')[['cust_no', 'item_id']]\n",
    "    # combined_train.item_id = combined_train.item_id.astype(int)\n",
    "\n",
    "    combined_test = pd.merge(init_df, cust_item_pair_test, on = 'cust_no', how = 'left')[['cust_no', 'item_id']]\n",
    "    combined_test.item_id = combined_test.item_id.replace(np.nan, -1)\n",
    "    combined_test = combined_test[combined_test.item_id != -1]\n",
    "    combined_test.item_id = combined_test.item_id.astype(int)\n",
    "    \n",
    "    items_by_cust_train = combined_train.groupby('cust_no')['item_id'].unique()\n",
    "    items_by_cust_test = combined_test.groupby('cust_no')['item_id'].unique()\n",
    "\n",
    "    cust_items_dict_train = dict(items_by_cust_train.apply(list))\n",
    "    cust_items_dict_test = dict(items_by_cust_test.apply(list))\n",
    "    return cust_items_dict_train, cust_items_dict_test"
   ]
  },
  {
   "cell_type": "code",
   "execution_count": 9,
   "id": "a36dfdce",
   "metadata": {},
   "outputs": [],
   "source": [
    "def export_file(date, pairs_dict_train, pairs_dict_test):\n",
    "    dir_name = f'date={date}'\n",
    "    if not os.path.isdir(dir_name):\n",
    "        os.mkdir(dir_name)\n",
    "        \n",
    "    ## train\n",
    "    file_path = os.path.join(dir_name, 'train.txt')\n",
    "    file = open(file_path,\"w\")\n",
    "    print(f'write to file path: {file}')\n",
    "    counts = 0\n",
    "    for key,value in pairs_dict_train.items():\n",
    "        file.write('%s' % key)\n",
    "        # for item in value:\n",
    "        #     file.write('%s ' % item)\n",
    "        for i, item in enumerate(value):\n",
    "            if math.isnan(item):\n",
    "                continue\n",
    "            else:\n",
    "                if i == (len(value)-1):\n",
    "                    file.write(' %s' % int(item))\n",
    "                else:\n",
    "                    file.write(' %s' % int(item))\n",
    "        file.write('\\n')\n",
    "        counts += 1\n",
    "    print(counts)\n",
    "    file.close()\n",
    "    ## test\n",
    "    file_path = os.path.join(dir_name, 'test.txt')\n",
    "    file = open(file_path,\"w\")\n",
    "    counts = 0\n",
    "    print(f'write to file path: {file}')\n",
    "    \n",
    "    for key,value in pairs_dict_test.items():\n",
    "        file.write('%s' % key)\n",
    "        # for item in value:\n",
    "        #     file.write('%s ' % item)\n",
    "        for i, item in enumerate(value):\n",
    "            if math.isnan(item):\n",
    "                continue\n",
    "            else:\n",
    "                if i == (len(value)-1):\n",
    "                    file.write(' %s' % int(item))\n",
    "                    file.write('\\n')\n",
    "                else:\n",
    "                    file.write(' %s' % int(item))\n",
    "        counts += 1\n",
    "    print(counts)\n",
    "    file.close()"
   ]
  },
  {
   "cell_type": "code",
   "execution_count": null,
   "id": "c76ee72d",
   "metadata": {},
   "outputs": [],
   "source": [
    "for test_date in range(20211226, 20211231+1):\n",
    "    cust_items_dict_train, cust_items_dict_test = splitting(user_list = user_list, train_start = 20211217, test_date = test_date) \n",
    "    export_file(date = str(test_date), pairs_dict_train = cust_items_dict_train, pairs_dict_test = cust_items_dict_test )"
   ]
  },
  {
   "cell_type": "code",
   "execution_count": 11,
   "id": "f2088a78",
   "metadata": {},
   "outputs": [
    {
     "ename": "KeyboardInterrupt",
     "evalue": "",
     "output_type": "error",
     "traceback": [
      "\u001b[0;31m---------------------------------------------------------------------------\u001b[0m",
      "\u001b[0;31mKeyboardInterrupt\u001b[0m                         Traceback (most recent call last)",
      "\u001b[0;32m<ipython-input-11-2f02fe8c2d63>\u001b[0m in \u001b[0;36m<module>\u001b[0;34m\u001b[0m\n\u001b[1;32m      1\u001b[0m \u001b[0mtest_date\u001b[0m \u001b[0;34m=\u001b[0m \u001b[0;36m20211226\u001b[0m\u001b[0;34m\u001b[0m\u001b[0;34m\u001b[0m\u001b[0m\n\u001b[0;32m----> 2\u001b[0;31m \u001b[0mcust_items_dict_train\u001b[0m\u001b[0;34m,\u001b[0m \u001b[0mcust_items_dict_test\u001b[0m \u001b[0;34m=\u001b[0m \u001b[0msplitting\u001b[0m\u001b[0;34m(\u001b[0m\u001b[0muser_list\u001b[0m \u001b[0;34m=\u001b[0m \u001b[0muser_list\u001b[0m\u001b[0;34m,\u001b[0m \u001b[0mtrain_start\u001b[0m \u001b[0;34m=\u001b[0m \u001b[0;36m20211217\u001b[0m\u001b[0;34m,\u001b[0m \u001b[0mtest_date\u001b[0m \u001b[0;34m=\u001b[0m \u001b[0mtest_date\u001b[0m\u001b[0;34m)\u001b[0m\u001b[0;34m\u001b[0m\u001b[0;34m\u001b[0m\u001b[0m\n\u001b[0m\u001b[1;32m      3\u001b[0m \u001b[0;31m# export_file(date = str(test_date), pairs_dict_train = cust_items_dict_train, pairs_dict_test = cust_items_dict_test )\u001b[0m\u001b[0;34m\u001b[0m\u001b[0;34m\u001b[0m\u001b[0;34m\u001b[0m\u001b[0m\n\u001b[1;32m      4\u001b[0m \u001b[0mlen_tr\u001b[0m \u001b[0;34m=\u001b[0m \u001b[0mlen\u001b[0m\u001b[0;34m(\u001b[0m\u001b[0mlist\u001b[0m\u001b[0;34m(\u001b[0m\u001b[0mcust_items_dict_train\u001b[0m\u001b[0;34m.\u001b[0m\u001b[0mkeys\u001b[0m\u001b[0;34m(\u001b[0m\u001b[0;34m)\u001b[0m\u001b[0;34m)\u001b[0m\u001b[0;34m)\u001b[0m\u001b[0;34m\u001b[0m\u001b[0;34m\u001b[0m\u001b[0m\n\u001b[1;32m      5\u001b[0m \u001b[0mlen_te\u001b[0m \u001b[0;34m=\u001b[0m \u001b[0mlen\u001b[0m\u001b[0;34m(\u001b[0m\u001b[0mlist\u001b[0m\u001b[0;34m(\u001b[0m\u001b[0mcust_items_dict_test\u001b[0m\u001b[0;34m.\u001b[0m\u001b[0mkeys\u001b[0m\u001b[0;34m(\u001b[0m\u001b[0;34m)\u001b[0m\u001b[0;34m)\u001b[0m\u001b[0;34m)\u001b[0m\u001b[0;34m\u001b[0m\u001b[0;34m\u001b[0m\u001b[0m\n",
      "\u001b[0;32m<ipython-input-8-0768afbc7eae>\u001b[0m in \u001b[0;36msplitting\u001b[0;34m(user_list, train_start, test_date)\u001b[0m\n\u001b[1;32m     25\u001b[0m \u001b[0;34m\u001b[0m\u001b[0m\n\u001b[1;32m     26\u001b[0m     \u001b[0mcust_items_dict_train\u001b[0m \u001b[0;34m=\u001b[0m \u001b[0mdict\u001b[0m\u001b[0;34m(\u001b[0m\u001b[0mitems_by_cust_train\u001b[0m\u001b[0;34m.\u001b[0m\u001b[0mapply\u001b[0m\u001b[0;34m(\u001b[0m\u001b[0mlist\u001b[0m\u001b[0;34m)\u001b[0m\u001b[0;34m)\u001b[0m\u001b[0;34m\u001b[0m\u001b[0;34m\u001b[0m\u001b[0m\n\u001b[0;32m---> 27\u001b[0;31m     \u001b[0mcust_items_dict_test\u001b[0m \u001b[0;34m=\u001b[0m \u001b[0mdict\u001b[0m\u001b[0;34m(\u001b[0m\u001b[0mitems_by_cust_test\u001b[0m\u001b[0;34m.\u001b[0m\u001b[0mapply\u001b[0m\u001b[0;34m(\u001b[0m\u001b[0mlist\u001b[0m\u001b[0;34m)\u001b[0m\u001b[0;34m)\u001b[0m\u001b[0;34m\u001b[0m\u001b[0;34m\u001b[0m\u001b[0m\n\u001b[0m\u001b[1;32m     28\u001b[0m     \u001b[0;32mreturn\u001b[0m \u001b[0mcust_items_dict_train\u001b[0m\u001b[0;34m,\u001b[0m \u001b[0mcust_items_dict_test\u001b[0m\u001b[0;34m\u001b[0m\u001b[0;34m\u001b[0m\u001b[0m\n",
      "\u001b[0;32m/opt/conda/lib/python3.7/site-packages/pandas/core/series.py\u001b[0m in \u001b[0;36m__getitem__\u001b[0;34m(self, key)\u001b[0m\n\u001b[1;32m    877\u001b[0m                     \u001b[0;31m# otherwise have inline ndarray/lists\u001b[0m\u001b[0;34m\u001b[0m\u001b[0;34m\u001b[0m\u001b[0;34m\u001b[0m\u001b[0m\n\u001b[1;32m    878\u001b[0m                     \u001b[0;32mtry\u001b[0m\u001b[0;34m:\u001b[0m\u001b[0;34m\u001b[0m\u001b[0;34m\u001b[0m\u001b[0m\n\u001b[0;32m--> 879\u001b[0;31m                         \u001b[0;32mif\u001b[0m \u001b[0;32mnot\u001b[0m \u001b[0mis_scalar\u001b[0m\u001b[0;34m(\u001b[0m\u001b[0mself\u001b[0m\u001b[0;34m.\u001b[0m\u001b[0mindex\u001b[0m\u001b[0;34m.\u001b[0m\u001b[0mget_loc\u001b[0m\u001b[0;34m(\u001b[0m\u001b[0mkey\u001b[0m\u001b[0;34m)\u001b[0m\u001b[0;34m)\u001b[0m\u001b[0;34m:\u001b[0m\u001b[0;34m\u001b[0m\u001b[0;34m\u001b[0m\u001b[0m\n\u001b[0m\u001b[1;32m    880\u001b[0m                             result = self._constructor(\n\u001b[1;32m    881\u001b[0m                                 \u001b[0mresult\u001b[0m\u001b[0;34m,\u001b[0m \u001b[0mindex\u001b[0m\u001b[0;34m=\u001b[0m\u001b[0;34m[\u001b[0m\u001b[0mkey\u001b[0m\u001b[0;34m]\u001b[0m \u001b[0;34m*\u001b[0m \u001b[0mlen\u001b[0m\u001b[0;34m(\u001b[0m\u001b[0mresult\u001b[0m\u001b[0;34m)\u001b[0m\u001b[0;34m,\u001b[0m \u001b[0mdtype\u001b[0m\u001b[0;34m=\u001b[0m\u001b[0mself\u001b[0m\u001b[0;34m.\u001b[0m\u001b[0mdtype\u001b[0m\u001b[0;34m\u001b[0m\u001b[0;34m\u001b[0m\u001b[0m\n",
      "\u001b[0;32m/opt/conda/lib/python3.7/site-packages/pandas/core/indexes/base.py\u001b[0m in \u001b[0;36mget_loc\u001b[0;34m(self, key, method, tolerance)\u001b[0m\n\u001b[1;32m   2644\u001b[0m                 )\n\u001b[1;32m   2645\u001b[0m             \u001b[0;32mtry\u001b[0m\u001b[0;34m:\u001b[0m\u001b[0;34m\u001b[0m\u001b[0;34m\u001b[0m\u001b[0m\n\u001b[0;32m-> 2646\u001b[0;31m                 \u001b[0;32mreturn\u001b[0m \u001b[0mself\u001b[0m\u001b[0;34m.\u001b[0m\u001b[0m_engine\u001b[0m\u001b[0;34m.\u001b[0m\u001b[0mget_loc\u001b[0m\u001b[0;34m(\u001b[0m\u001b[0mkey\u001b[0m\u001b[0;34m)\u001b[0m\u001b[0;34m\u001b[0m\u001b[0;34m\u001b[0m\u001b[0m\n\u001b[0m\u001b[1;32m   2647\u001b[0m             \u001b[0;32mexcept\u001b[0m \u001b[0mKeyError\u001b[0m\u001b[0;34m:\u001b[0m\u001b[0;34m\u001b[0m\u001b[0;34m\u001b[0m\u001b[0m\n\u001b[1;32m   2648\u001b[0m                 \u001b[0;32mreturn\u001b[0m \u001b[0mself\u001b[0m\u001b[0;34m.\u001b[0m\u001b[0m_engine\u001b[0m\u001b[0;34m.\u001b[0m\u001b[0mget_loc\u001b[0m\u001b[0;34m(\u001b[0m\u001b[0mself\u001b[0m\u001b[0;34m.\u001b[0m\u001b[0m_maybe_cast_indexer\u001b[0m\u001b[0;34m(\u001b[0m\u001b[0mkey\u001b[0m\u001b[0;34m)\u001b[0m\u001b[0;34m)\u001b[0m\u001b[0;34m\u001b[0m\u001b[0;34m\u001b[0m\u001b[0m\n",
      "\u001b[0;31mKeyboardInterrupt\u001b[0m: "
     ]
    }
   ],
   "source": [
    "test_date = 20211226\n",
    "cust_items_dict_train, cust_items_dict_test = splitting(user_list = user_list, train_start = 20211217, test_date = test_date) \n",
    "# export_file(date = str(test_date), pairs_dict_train = cust_items_dict_train, pairs_dict_test = cust_items_dict_test )\n",
    "len_tr = len(list(cust_items_dict_train.keys()))\n",
    "len_te = len(list(cust_items_dict_test.keys()))\n",
    "print(len_tr)\n",
    "print(len_te)\n",
    "print('---')"
   ]
  },
  {
   "cell_type": "code",
   "execution_count": null,
   "id": "4affe351",
   "metadata": {},
   "outputs": [],
   "source": []
  },
  {
   "cell_type": "code",
   "execution_count": 20,
   "id": "b20c534f",
   "metadata": {},
   "outputs": [
    {
     "name": "stdout",
     "output_type": "stream",
     "text": [
      "write to file path: <_io.TextIOWrapper name='date=20211226/train.txt' mode='w' encoding='UTF-8'>\n",
      "450820\n",
      "write to file path: <_io.TextIOWrapper name='date=20211226/test.txt' mode='w' encoding='UTF-8'>\n",
      "450820\n",
      "450820\n",
      "450820\n",
      "---\n",
      "write to file path: <_io.TextIOWrapper name='date=20211227/train.txt' mode='w' encoding='UTF-8'>\n",
      "471569\n",
      "write to file path: <_io.TextIOWrapper name='date=20211227/test.txt' mode='w' encoding='UTF-8'>\n",
      "471569\n",
      "471569\n",
      "471569\n",
      "---\n",
      "write to file path: <_io.TextIOWrapper name='date=20211228/train.txt' mode='w' encoding='UTF-8'>\n",
      "499850\n",
      "write to file path: <_io.TextIOWrapper name='date=20211228/test.txt' mode='w' encoding='UTF-8'>\n",
      "499850\n",
      "499850\n",
      "499850\n",
      "---\n",
      "write to file path: <_io.TextIOWrapper name='date=20211229/train.txt' mode='w' encoding='UTF-8'>\n",
      "528515\n",
      "write to file path: <_io.TextIOWrapper name='date=20211229/test.txt' mode='w' encoding='UTF-8'>\n",
      "528515\n",
      "528515\n",
      "528515\n",
      "---\n",
      "write to file path: <_io.TextIOWrapper name='date=20211230/train.txt' mode='w' encoding='UTF-8'>\n",
      "553810\n",
      "write to file path: <_io.TextIOWrapper name='date=20211230/test.txt' mode='w' encoding='UTF-8'>\n",
      "553810\n",
      "553810\n",
      "553810\n",
      "---\n",
      "write to file path: <_io.TextIOWrapper name='date=20211231/train.txt' mode='w' encoding='UTF-8'>\n",
      "568892\n",
      "write to file path: <_io.TextIOWrapper name='date=20211231/test.txt' mode='w' encoding='UTF-8'>\n",
      "568892\n",
      "568892\n",
      "568892\n",
      "---\n"
     ]
    }
   ],
   "source": [
    "for test_date in range(20211226, 20211231+1):\n",
    "    cust_items_dict_train, cust_items_dict_test = splitting(user_list = user_list, train_start = 20211217, test_date = test_date) \n",
    "    export_file(date = str(test_date), pairs_dict_train = cust_items_dict_train, pairs_dict_test = cust_items_dict_test )\n",
    "    len_tr = len(list(cust_items_dict_train.keys()))\n",
    "    len_te = len(list(cust_items_dict_test.keys()))\n",
    "    print(len_tr)\n",
    "    print(len_te)\n",
    "    print('---')"
   ]
  },
  {
   "cell_type": "code",
   "execution_count": 12,
   "id": "a164b732",
   "metadata": {},
   "outputs": [
    {
     "name": "stdout",
     "output_type": "stream",
     "text": [
      "8852\n",
      "50\n",
      "---\n",
      "9606\n",
      "105\n",
      "---\n",
      "10964\n",
      "124\n",
      "---\n",
      "12372\n",
      "114\n",
      "---\n",
      "13693\n",
      "64\n",
      "---\n",
      "14486\n",
      "47\n",
      "---\n"
     ]
    }
   ],
   "source": [
    "# for test_date in range(20211226, 20211231+1):\n",
    "#     cust_items_dict_train, cust_items_dict_test = splitting(user_list = user_list, train_start = 20211217, test_date = test_date) \n",
    "#     len_tr = len(list(cust_items_dict_train.keys()))\n",
    "#     len_te = len(list(cust_items_dict_test.keys()))\n",
    "#     print(len_tr)\n",
    "#     print(len_te)\n",
    "#     print('---')"
   ]
  },
  {
   "cell_type": "code",
   "execution_count": null,
   "id": "d88f1252",
   "metadata": {},
   "outputs": [],
   "source": []
  },
  {
   "cell_type": "code",
   "execution_count": null,
   "id": "bf66e119",
   "metadata": {},
   "outputs": [],
   "source": []
  }
 ],
 "metadata": {
  "kernelspec": {
   "display_name": "Python 3",
   "language": "python",
   "name": "python3"
  },
  "language_info": {
   "codemirror_mode": {
    "name": "ipython",
    "version": 3
   },
   "file_extension": ".py",
   "mimetype": "text/x-python",
   "name": "python",
   "nbconvert_exporter": "python",
   "pygments_lexer": "ipython3",
   "version": "3.7.10"
  }
 },
 "nbformat": 4,
 "nbformat_minor": 5
}
