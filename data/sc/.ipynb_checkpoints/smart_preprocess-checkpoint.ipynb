{
 "cells": [
  {
   "cell_type": "code",
   "execution_count": null,
   "id": "64ee87e8",
   "metadata": {},
   "outputs": [],
   "source": [
    "import numpy as np\n",
    "import pandas as pd\n",
    "from sklearn.preprocessing import LabelEncoder"
   ]
  },
  {
   "cell_type": "code",
   "execution_count": null,
   "id": "8afa23b5",
   "metadata": {},
   "outputs": [],
   "source": [
    "# context = pd.read_csv('..//data/preprocessed//context_1217_1230.csv')\n",
    "context = pd.read_csv('/home/jovyan/df-smart-channel/graph/data/preprocessed/context_1217_0131.csv')"
   ]
  },
  {
   "cell_type": "code",
   "execution_count": null,
   "id": "c4f86bf4",
   "metadata": {},
   "outputs": [],
   "source": [
    "le = LabelEncoder()\n",
    "context.cust_no = le.fit_transform(context.cust_no)\n",
    "context.item_id = le.fit_transform(context.item_id)"
   ]
  },
  {
   "cell_type": "code",
   "execution_count": null,
   "id": "aa117f2b",
   "metadata": {},
   "outputs": [],
   "source": [
    "user_list = context.cust_no.unique()\n",
    "item_list = context.item_id.unique()"
   ]
  },
  {
   "cell_type": "code",
   "execution_count": null,
   "id": "05988ae8",
   "metadata": {},
   "outputs": [],
   "source": [
    "train_start = 20211217\n",
    "train_end = 20211225\n",
    "test_start = 20211226\n",
    "test_end = 20211231"
   ]
  },
  {
   "cell_type": "code",
   "execution_count": null,
   "id": "a0aba0f1",
   "metadata": {},
   "outputs": [],
   "source": [
    "context_train = context[(context.date >= train_start) & (context.date <= train_end)][['cust_no', 'item_id', 'show', 'click']]\n",
    "context_test = context[(context.date >= test_start) & (context.date <= test_end)][['cust_no', 'item_id', 'show', 'click']]"
   ]
  },
  {
   "cell_type": "code",
   "execution_count": null,
   "id": "dbe0315e",
   "metadata": {},
   "outputs": [],
   "source": [
    "cust_item_pair_train = context_train.groupby(['cust_no', 'item_id'])['show', 'click'].sum().reset_index()\n",
    "cust_item_pair_test = context_test.groupby(['cust_no', 'item_id'])['show', 'click'].sum().reset_index()"
   ]
  },
  {
   "cell_type": "code",
   "execution_count": null,
   "id": "7ec4e4d3",
   "metadata": {},
   "outputs": [],
   "source": [
    "## note\n",
    "cust_item_pair_train = cust_item_pair_train[cust_item_pair_train.click > 0]\n",
    "cust_item_pair_test = cust_item_pair_test[cust_item_pair_test.click > 0]"
   ]
  },
  {
   "cell_type": "code",
   "execution_count": null,
   "id": "acbb5c93",
   "metadata": {},
   "outputs": [],
   "source": [
    "items_by_cust_train = cust_item_pair_train.groupby('cust_no')['item_id'].unique()\n",
    "items_by_cust_test = cust_item_pair_test.groupby('cust_no')['item_id'].unique()"
   ]
  },
  {
   "cell_type": "code",
   "execution_count": null,
   "id": "db243647",
   "metadata": {},
   "outputs": [],
   "source": [
    "cust_items_dict_train = dict(items_by_cust_train.apply(list))\n",
    "cust_items_dict_test = dict(items_by_cust_test.apply(list))"
   ]
  },
  {
   "cell_type": "code",
   "execution_count": null,
   "id": "0ccd8762",
   "metadata": {},
   "outputs": [],
   "source": [
    "# sparsity = sum(cust_item_pair.click >0) / (max(user_list)+1) / (max(item_list)+1)\n",
    "# sparsity"
   ]
  },
  {
   "cell_type": "code",
   "execution_count": null,
   "id": "b898a6b4",
   "metadata": {},
   "outputs": [],
   "source": [
    "def export_file(file_path, pairs_dict):\n",
    "    file = open(file_path,\"w\")\n",
    "\n",
    "    for key,value in pairs_dict.items():\n",
    "        file.write('%s ' % key)\n",
    "        # for item in value:\n",
    "        #     file.write('%s ' % item)\n",
    "        for i, item in enumerate(value):\n",
    "            if i == (len(value)-1):\n",
    "                file.write('%s' % item)\n",
    "            else:\n",
    "                file.write('%s ' % item)\n",
    "        file.write('\\n')\n",
    "        # file.write('%s %s\\n' % (key, value))\n",
    "    file.close()"
   ]
  },
  {
   "cell_type": "code",
   "execution_count": 11,
   "id": "4d747405",
   "metadata": {},
   "outputs": [],
   "source": [
    "export_file(file_path = 'train.txt', pairs_dict = cust_items_dict_train )\n",
    "export_file(file_path = 'test.txt', pairs_dict = cust_items_dict_test )"
   ]
  },
  {
   "cell_type": "code",
   "execution_count": null,
   "id": "bdb656c9",
   "metadata": {},
   "outputs": [],
   "source": [
    "cust_items_dict_train"
   ]
  },
  {
   "cell_type": "code",
   "execution_count": null,
   "id": "edd432b0",
   "metadata": {},
   "outputs": [],
   "source": [
    "cust_items_dict_train.keys()"
   ]
  },
  {
   "cell_type": "code",
   "execution_count": null,
   "id": "916403a2",
   "metadata": {},
   "outputs": [],
   "source": [
    "len(list(cust_items_dict_train.keys()))"
   ]
  },
  {
   "cell_type": "code",
   "execution_count": null,
   "id": "6335fac9",
   "metadata": {},
   "outputs": [],
   "source": [
    "len(list(cust_items_dict_test.keys()))"
   ]
  }
 ],
 "metadata": {
  "kernelspec": {
   "display_name": "Python 3",
   "language": "python",
   "name": "python3"
  },
  "language_info": {
   "codemirror_mode": {
    "name": "ipython",
    "version": 3
   },
   "file_extension": ".py",
   "mimetype": "text/x-python",
   "name": "python",
   "nbconvert_exporter": "python",
   "pygments_lexer": "ipython3",
   "version": "3.7.10"
  }
 },
 "nbformat": 4,
 "nbformat_minor": 5
}
