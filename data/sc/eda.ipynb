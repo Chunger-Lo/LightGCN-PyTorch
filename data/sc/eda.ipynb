{
 "cells": [
  {
   "cell_type": "code",
   "execution_count": 1,
   "id": "efb28897",
   "metadata": {},
   "outputs": [],
   "source": [
    "import numpy as np\n",
    "import pandas as pd\n",
    "import math\n",
    "import os\n",
    "import matplotlib.pyplot as plt\n",
    "from sklearn.preprocessing import LabelEncoder\n",
    "pd.set_option('display.max_colwidth', 200)\n",
    "pd.set_option('display.max_rows', 200)"
   ]
  },
  {
   "cell_type": "code",
   "execution_count": 2,
   "id": "9b5daa33",
   "metadata": {},
   "outputs": [],
   "source": [
    "# context = pd.read_csv('..//data/preprocessed//context_1217_1230.csv')\n",
    "context = pd.read_csv('/home/jovyan/df-smart-channel/graph/data/preprocessed/context_1217_0131.csv')"
   ]
  },
  {
   "cell_type": "code",
   "execution_count": 3,
   "id": "a60da485",
   "metadata": {},
   "outputs": [],
   "source": [
    "le = LabelEncoder()\n",
    "context.cust_no = le.fit_transform(context.cust_no)\n",
    "context.item_id = le.fit_transform(context.item_id)"
   ]
  },
  {
   "cell_type": "code",
   "execution_count": 4,
   "id": "4c86db29",
   "metadata": {},
   "outputs": [],
   "source": [
    "user_list = context.cust_no.unique()\n",
    "item_list = context.item_id.unique()"
   ]
  },
  {
   "cell_type": "code",
   "execution_count": 5,
   "id": "cf32e52b",
   "metadata": {},
   "outputs": [
    {
     "data": {
      "text/plain": [
       "576702"
      ]
     },
     "execution_count": 5,
     "metadata": {},
     "output_type": "execute_result"
    }
   ],
   "source": [
    "len(user_list)"
   ]
  },
  {
   "cell_type": "markdown",
   "id": "85b3fa38",
   "metadata": {},
   "source": [
    "## Splitting"
   ]
  },
  {
   "cell_type": "code",
   "execution_count": 6,
   "id": "05101c1e",
   "metadata": {},
   "outputs": [],
   "source": [
    "train_start = 20211217\n",
    "train_end = 20211225\n",
    "test_end = 20211226\n",
    "test_date = test_end"
   ]
  },
  {
   "cell_type": "code",
   "execution_count": 7,
   "id": "2dcfcc97",
   "metadata": {},
   "outputs": [],
   "source": [
    "## old version\n",
    "# def splitting(user_list, train_start, test_date):\n",
    "#     context_train = context_click[(context_click.date >= train_start) & (context_click.date < test_date)][['cust_no', 'item_id', 'show', 'click']]\n",
    "#     context_test = context_click[context_click.date == test_date][['cust_no', 'item_id', 'show', 'click']]\n",
    "    \n",
    "#     cust_item_pair_train = context_train.groupby(['cust_no', 'item_id'])['click'].sum().reset_index()\n",
    "#     cust_item_pair_test = context_test.groupby(['cust_no', 'item_id'])['click'].sum().reset_index()\n",
    "    \n",
    "#     # cust_item_pair_train = cust_item_pair_train[cust_item_pair_train.click > 0]\n",
    "#     # cust_item_pair_test = cust_item_pair_test[cust_item_pair_test.click > 0]\n",
    "    \n",
    "#     trainUniqueUsers = set(cust_item_pair_train.cust_no.unique())\n",
    "#     # testUniqueUsers = set(cust_item_pair_test.cust_no.unique())\n",
    "#     cust_item_pair_test = cust_item_pair_test[cust_item_pair_test.cust_no.isin(trainUniqueUsers)]\n",
    "    \n",
    "#     items_by_cust_train = cust_item_pair_train.groupby('cust_no')['item_id'].unique()\n",
    "#     items_by_cust_test = cust_item_pair_test.groupby('cust_no')['item_id'].unique()\n",
    "    \n",
    "#     cust_items_dict_train = dict(items_by_cust_train.apply(list))\n",
    "#     cust_items_dict_test = dict(items_by_cust_test.apply(list))\n",
    "#     return cust_items_dict_train, cust_items_dict_test"
   ]
  },
  {
   "cell_type": "code",
   "execution_count": 7,
   "id": "c0902aab",
   "metadata": {},
   "outputs": [],
   "source": [
    "context_train = context[(context.date >= train_start) & (context.date < test_date)][['cust_no', 'item_id', 'show','click']]\n",
    "trainUniqueUsers = set(context_train.cust_no.unique())\n",
    "context_test = context[context.date == test_date][['cust_no', 'item_id','click']]\n",
    "context_test['is_in_train'] = context_test.cust_no.isin(trainUniqueUsers)\n",
    "# cust_item_pair_train = context_train.groupby(['cust_no', 'item_id'])['click'].sum().reset_index()\n",
    "# cust_item_pair_test = context_test.groupby(['cust_no', 'item_id'])['click'].sum().reset_index()\n",
    "\n",
    "# cust_no = context_test.cust_no.unique()\n",
    "# init_df = pd.DataFrame({'cust_no': cust_no})\n",
    "\n",
    "# combined_test = pd.merge(init_df, cust_item_pair_train, on = 'cust_no', how = 'left')[['cust_no', 'item_id']]\n",
    "# combined_test.item_id = combined_test.item_id.replace(np.nan, -1)"
   ]
  },
  {
   "cell_type": "code",
   "execution_count": 9,
   "id": "e4c04b81",
   "metadata": {},
   "outputs": [
    {
     "data": {
      "text/html": [
       "<div>\n",
       "<style scoped>\n",
       "    .dataframe tbody tr th:only-of-type {\n",
       "        vertical-align: middle;\n",
       "    }\n",
       "\n",
       "    .dataframe tbody tr th {\n",
       "        vertical-align: top;\n",
       "    }\n",
       "\n",
       "    .dataframe thead th {\n",
       "        text-align: right;\n",
       "    }\n",
       "</style>\n",
       "<table border=\"1\" class=\"dataframe\">\n",
       "  <thead>\n",
       "    <tr style=\"text-align: right;\">\n",
       "      <th></th>\n",
       "      <th>cust_no</th>\n",
       "      <th>item_id</th>\n",
       "      <th>click</th>\n",
       "      <th>is_in_train</th>\n",
       "    </tr>\n",
       "  </thead>\n",
       "  <tbody>\n",
       "    <tr>\n",
       "      <th>70</th>\n",
       "      <td>5255</td>\n",
       "      <td>19</td>\n",
       "      <td>0</td>\n",
       "      <td>True</td>\n",
       "    </tr>\n",
       "    <tr>\n",
       "      <th>73</th>\n",
       "      <td>5544</td>\n",
       "      <td>19</td>\n",
       "      <td>0</td>\n",
       "      <td>True</td>\n",
       "    </tr>\n",
       "    <tr>\n",
       "      <th>84</th>\n",
       "      <td>6330</td>\n",
       "      <td>14</td>\n",
       "      <td>0</td>\n",
       "      <td>True</td>\n",
       "    </tr>\n",
       "    <tr>\n",
       "      <th>91</th>\n",
       "      <td>7036</td>\n",
       "      <td>8</td>\n",
       "      <td>0</td>\n",
       "      <td>True</td>\n",
       "    </tr>\n",
       "    <tr>\n",
       "      <th>100</th>\n",
       "      <td>7436</td>\n",
       "      <td>14</td>\n",
       "      <td>0</td>\n",
       "      <td>True</td>\n",
       "    </tr>\n",
       "    <tr>\n",
       "      <th>...</th>\n",
       "      <td>...</td>\n",
       "      <td>...</td>\n",
       "      <td>...</td>\n",
       "      <td>...</td>\n",
       "    </tr>\n",
       "    <tr>\n",
       "      <th>1546474</th>\n",
       "      <td>575491</td>\n",
       "      <td>3</td>\n",
       "      <td>0</td>\n",
       "      <td>True</td>\n",
       "    </tr>\n",
       "    <tr>\n",
       "      <th>1546509</th>\n",
       "      <td>120816</td>\n",
       "      <td>10</td>\n",
       "      <td>1</td>\n",
       "      <td>False</td>\n",
       "    </tr>\n",
       "    <tr>\n",
       "      <th>1546520</th>\n",
       "      <td>205332</td>\n",
       "      <td>8</td>\n",
       "      <td>1</td>\n",
       "      <td>False</td>\n",
       "    </tr>\n",
       "    <tr>\n",
       "      <th>1546529</th>\n",
       "      <td>226528</td>\n",
       "      <td>3</td>\n",
       "      <td>1</td>\n",
       "      <td>True</td>\n",
       "    </tr>\n",
       "    <tr>\n",
       "      <th>1546551</th>\n",
       "      <td>390248</td>\n",
       "      <td>4</td>\n",
       "      <td>1</td>\n",
       "      <td>True</td>\n",
       "    </tr>\n",
       "  </tbody>\n",
       "</table>\n",
       "<p>78309 rows × 4 columns</p>\n",
       "</div>"
      ],
      "text/plain": [
       "         cust_no  item_id  click  is_in_train\n",
       "70          5255       19      0         True\n",
       "73          5544       19      0         True\n",
       "84          6330       14      0         True\n",
       "91          7036        8      0         True\n",
       "100         7436       14      0         True\n",
       "...          ...      ...    ...          ...\n",
       "1546474   575491        3      0         True\n",
       "1546509   120816       10      1        False\n",
       "1546520   205332        8      1        False\n",
       "1546529   226528        3      1         True\n",
       "1546551   390248        4      1         True\n",
       "\n",
       "[78309 rows x 4 columns]"
      ]
     },
     "execution_count": 9,
     "metadata": {},
     "output_type": "execute_result"
    }
   ],
   "source": [
    "context_test"
   ]
  },
  {
   "cell_type": "code",
   "execution_count": 8,
   "id": "1b35b783",
   "metadata": {},
   "outputs": [
    {
     "data": {
      "text/plain": [
       "True     54045\n",
       "False    20749\n",
       "Name: is_in_train, dtype: int64"
      ]
     },
     "execution_count": 8,
     "metadata": {},
     "output_type": "execute_result"
    }
   ],
   "source": [
    "grouped = context_test.groupby('cust_no')['is_in_train'].mean()\n",
    "grouped.value_counts()"
   ]
  },
  {
   "cell_type": "code",
   "execution_count": 116,
   "id": "f503e6f9",
   "metadata": {},
   "outputs": [],
   "source": [
    "del res"
   ]
  },
  {
   "cell_type": "code",
   "execution_count": 12,
   "id": "57ccb5c9",
   "metadata": {},
   "outputs": [],
   "source": [
    "def splitting(user_list, train_start, test_date):\n",
    "    context_train = context[(context.date >= train_start) & (context.date < test_date)][['cust_no', 'item_id', 'show','click']]\n",
    "    trainUniqueUsers = set(context_train.cust_no.unique())\n",
    "    context_test = context[context.date == test_date][['cust_no', 'item_id','click']]\n",
    "    context_test['is_in_train'] = context_test.cust_no.isin(trainUniqueUsers)\n",
    "    grouped = context_test.groupby('cust_no')['is_in_train'].mean()\n",
    "    res = grouped.value_counts()\n",
    "    return res"
   ]
  },
  {
   "cell_type": "code",
   "execution_count": 15,
   "id": "e32de82d",
   "metadata": {},
   "outputs": [],
   "source": [
    "res_dict = {}\n",
    "res_dict['test_date'] = []\n",
    "res_dict['ncust_in_train'] = []\n",
    "res_dict['ncust_in_test'] = []\n",
    "for test_date in range(20211226, 20211231+1):\n",
    "    res = splitting(user_list = user_list, train_start = 20211217, test_date = test_date)\n",
    "    res_dict['test_date'].append(test_date)\n",
    "    res_dict['ncust_in_train'].append(res[1])\n",
    "    res_dict['ncust_in_test'].append(res[0])\n",
    "res_df = pd.DataFrame.from_dict(res_dict)\n",
    "res_df['ncust_total'] = res_df['ncust_in_train'] + res_df['ncust_in_test'] \n",
    "res_df['trans_prop'] = res_df['ncust_in_train'] / res_df['ncust_total'] \n",
    "    # export_file(date = str(test_date), pairs_dict_train = cust_items_dict_train, pairs_dict_test = cust_items_dict_test )"
   ]
  },
  {
   "cell_type": "code",
   "execution_count": 16,
   "id": "f945d0f6",
   "metadata": {},
   "outputs": [
    {
     "data": {
      "text/html": [
       "<div>\n",
       "<style scoped>\n",
       "    .dataframe tbody tr th:only-of-type {\n",
       "        vertical-align: middle;\n",
       "    }\n",
       "\n",
       "    .dataframe tbody tr th {\n",
       "        vertical-align: top;\n",
       "    }\n",
       "\n",
       "    .dataframe thead th {\n",
       "        text-align: right;\n",
       "    }\n",
       "</style>\n",
       "<table border=\"1\" class=\"dataframe\">\n",
       "  <thead>\n",
       "    <tr style=\"text-align: right;\">\n",
       "      <th></th>\n",
       "      <th>test_date</th>\n",
       "      <th>ncust_in_train</th>\n",
       "      <th>ncust_in_test</th>\n",
       "      <th>ncust_total</th>\n",
       "      <th>trans_prop</th>\n",
       "    </tr>\n",
       "  </thead>\n",
       "  <tbody>\n",
       "    <tr>\n",
       "      <th>0</th>\n",
       "      <td>20211226</td>\n",
       "      <td>54045</td>\n",
       "      <td>20749</td>\n",
       "      <td>74794</td>\n",
       "      <td>0.722585</td>\n",
       "    </tr>\n",
       "    <tr>\n",
       "      <th>1</th>\n",
       "      <td>20211227</td>\n",
       "      <td>89054</td>\n",
       "      <td>28281</td>\n",
       "      <td>117335</td>\n",
       "      <td>0.758972</td>\n",
       "    </tr>\n",
       "    <tr>\n",
       "      <th>2</th>\n",
       "      <td>20211228</td>\n",
       "      <td>99623</td>\n",
       "      <td>28665</td>\n",
       "      <td>128288</td>\n",
       "      <td>0.776557</td>\n",
       "    </tr>\n",
       "    <tr>\n",
       "      <th>3</th>\n",
       "      <td>20211229</td>\n",
       "      <td>98595</td>\n",
       "      <td>25295</td>\n",
       "      <td>123890</td>\n",
       "      <td>0.795827</td>\n",
       "    </tr>\n",
       "    <tr>\n",
       "      <th>4</th>\n",
       "      <td>20211230</td>\n",
       "      <td>67880</td>\n",
       "      <td>15082</td>\n",
       "      <td>82962</td>\n",
       "      <td>0.818206</td>\n",
       "    </tr>\n",
       "    <tr>\n",
       "      <th>5</th>\n",
       "      <td>20211231</td>\n",
       "      <td>39022</td>\n",
       "      <td>7810</td>\n",
       "      <td>46832</td>\n",
       "      <td>0.833234</td>\n",
       "    </tr>\n",
       "  </tbody>\n",
       "</table>\n",
       "</div>"
      ],
      "text/plain": [
       "   test_date  ncust_in_train  ncust_in_test  ncust_total  trans_prop\n",
       "0   20211226           54045          20749        74794    0.722585\n",
       "1   20211227           89054          28281       117335    0.758972\n",
       "2   20211228           99623          28665       128288    0.776557\n",
       "3   20211229           98595          25295       123890    0.795827\n",
       "4   20211230           67880          15082        82962    0.818206\n",
       "5   20211231           39022           7810        46832    0.833234"
      ]
     },
     "execution_count": 16,
     "metadata": {},
     "output_type": "execute_result"
    }
   ],
   "source": [
    "res_df"
   ]
  },
  {
   "cell_type": "code",
   "execution_count": 17,
   "id": "ddfb85ac",
   "metadata": {},
   "outputs": [
    {
     "data": {
      "image/png": "[encoded data removed]",
      "text/plain": [
       "<Figure size 432x288 with 1 Axes>"
      ]
     },
     "metadata": {
      "needs_background": "light"
     },
     "output_type": "display_data"
    }
   ],
   "source": [
    "fig, ax = plt.subplots()\n",
    "width = 0.35\n",
    "ax.bar(res_df.test_date, res_df.ncust_in_train, width, label='not in train')\n",
    "ax.bar(res_df.test_date, res_df.ncust_in_test, width, bottom=res_df.ncust_in_train,label='in train')\n",
    "\n",
    "ax.set_ylabel('Scores')\n",
    "ax.set_title('Scores by group and gender')\n",
    "ax.legend()\n",
    "\n",
    "plt.show()"
   ]
  },
  {
   "cell_type": "code",
   "execution_count": null,
   "id": "ca051d87",
   "metadata": {},
   "outputs": [],
   "source": []
  },
  {
   "cell_type": "code",
   "execution_count": 65,
   "id": "d1b9f779",
   "metadata": {},
   "outputs": [],
   "source": [
    "def splitting(user_list, train_start, test_date):\n",
    "    context_train = context[(context.date >= train_start) & (context.date < test_date)][['cust_no', 'item_id', 'show','click']]\n",
    "    trainUniqueUsers = set(context_train.cust_no.unique())\n",
    "    context_test = context[context.date == test_date][['cust_no', 'item_id','click']]\n",
    "    context_test = context_test[context_test.cust_no.isin(trainUniqueUsers)]\n",
    "\n",
    "    cust_item_pair_train = context_train.groupby(['cust_no', 'item_id'])['click'].sum().reset_index()\n",
    "    cust_item_pair_test = context_test.groupby(['cust_no', 'item_id'])['click'].sum().reset_index()\n",
    "\n",
    "    cust_no = context_train.cust_no.unique()\n",
    "    init_df = pd.DataFrame({'cust_no': cust_no})\n",
    "\n",
    "    combined_train = pd.merge(init_df, cust_item_pair_train, on = 'cust_no', how = 'left')[['cust_no', 'item_id']]\n",
    "    # combined_train.item_id = combined_train.item_id.astype(int)\n",
    "    combined_test = pd.merge(init_df, cust_item_pair_test, on = 'cust_no', how = 'left')[['cust_no', 'item_id']]\n",
    "    combined_test.item_id = combined_test.item_id.replace(np.nan, -1)\n",
    "    \n",
    "    combined_test['not_in_train'] = combined_test.item_id == -1\n",
    "    grouped = combined_test.groupby('cust_no')['not_in_train'].mean()\n",
    "    res = grouped.value_counts()\n",
    "    return res"
   ]
  },
  {
   "cell_type": "code",
   "execution_count": 73,
   "id": "1d5495aa",
   "metadata": {},
   "outputs": [],
   "source": [
    "res_dict = {}\n",
    "res_dict['test_date'] = []\n",
    "res_dict['ncust_in_train'] = []\n",
    "res_dict['ncust_in_test'] = []\n",
    "for test_date in range(20211226, 20211231+1):\n",
    "    res = splitting(user_list = user_list, train_start = 20211217, test_date = test_date)\n",
    "    res_dict['test_date'].append(test_date)\n",
    "    res_dict['ncust_in_train'].append(res[0])\n",
    "    res_dict['ncust_in_test'].append(res[1])\n",
    "res_df = pd.DataFrame.from_dict(res_dict)\n",
    "    # export_file(date = str(test_date), pairs_dict_train = cust_items_dict_train, pairs_dict_test = cust_items_dict_test )"
   ]
  },
  {
   "cell_type": "code",
   "execution_count": 78,
   "id": "154388a1",
   "metadata": {},
   "outputs": [
    {
     "data": {
      "text/html": [
       "<div>\n",
       "<style scoped>\n",
       "    .dataframe tbody tr th:only-of-type {\n",
       "        vertical-align: middle;\n",
       "    }\n",
       "\n",
       "    .dataframe tbody tr th {\n",
       "        vertical-align: top;\n",
       "    }\n",
       "\n",
       "    .dataframe thead th {\n",
       "        text-align: right;\n",
       "    }\n",
       "</style>\n",
       "<table border=\"1\" class=\"dataframe\">\n",
       "  <thead>\n",
       "    <tr style=\"text-align: right;\">\n",
       "      <th></th>\n",
       "      <th>test_date</th>\n",
       "      <th>ncust_in_train</th>\n",
       "      <th>ncust_in_test</th>\n",
       "    </tr>\n",
       "  </thead>\n",
       "  <tbody>\n",
       "    <tr>\n",
       "      <th>0</th>\n",
       "      <td>20211226</td>\n",
       "      <td>54045</td>\n",
       "      <td>396775</td>\n",
       "    </tr>\n",
       "    <tr>\n",
       "      <th>1</th>\n",
       "      <td>20211227</td>\n",
       "      <td>89054</td>\n",
       "      <td>382515</td>\n",
       "    </tr>\n",
       "    <tr>\n",
       "      <th>2</th>\n",
       "      <td>20211228</td>\n",
       "      <td>99623</td>\n",
       "      <td>400227</td>\n",
       "    </tr>\n",
       "    <tr>\n",
       "      <th>3</th>\n",
       "      <td>20211229</td>\n",
       "      <td>98595</td>\n",
       "      <td>429920</td>\n",
       "    </tr>\n",
       "    <tr>\n",
       "      <th>4</th>\n",
       "      <td>20211230</td>\n",
       "      <td>67880</td>\n",
       "      <td>485930</td>\n",
       "    </tr>\n",
       "    <tr>\n",
       "      <th>5</th>\n",
       "      <td>20211231</td>\n",
       "      <td>39022</td>\n",
       "      <td>529870</td>\n",
       "    </tr>\n",
       "  </tbody>\n",
       "</table>\n",
       "</div>"
      ],
      "text/plain": [
       "   test_date  ncust_in_train  ncust_in_test\n",
       "0   20211226           54045         396775\n",
       "1   20211227           89054         382515\n",
       "2   20211228           99623         400227\n",
       "3   20211229           98595         429920\n",
       "4   20211230           67880         485930\n",
       "5   20211231           39022         529870"
      ]
     },
     "execution_count": 78,
     "metadata": {},
     "output_type": "execute_result"
    }
   ],
   "source": [
    "res_df"
   ]
  },
  {
   "cell_type": "code",
   "execution_count": 107,
   "id": "0b4e8736",
   "metadata": {},
   "outputs": [
    {
     "data": {
      "text/html": [
       "<div>\n",
       "<style scoped>\n",
       "    .dataframe tbody tr th:only-of-type {\n",
       "        vertical-align: middle;\n",
       "    }\n",
       "\n",
       "    .dataframe tbody tr th {\n",
       "        vertical-align: top;\n",
       "    }\n",
       "\n",
       "    .dataframe thead th {\n",
       "        text-align: right;\n",
       "    }\n",
       "</style>\n",
       "<table border=\"1\" class=\"dataframe\">\n",
       "  <thead>\n",
       "    <tr style=\"text-align: right;\">\n",
       "      <th></th>\n",
       "      <th>test_date</th>\n",
       "      <th>ncust_in_train</th>\n",
       "      <th>ncust_in_test</th>\n",
       "    </tr>\n",
       "  </thead>\n",
       "  <tbody>\n",
       "    <tr>\n",
       "      <th>0</th>\n",
       "      <td>20211226</td>\n",
       "      <td>20749</td>\n",
       "      <td>54045</td>\n",
       "    </tr>\n",
       "    <tr>\n",
       "      <th>1</th>\n",
       "      <td>20211227</td>\n",
       "      <td>28281</td>\n",
       "      <td>89054</td>\n",
       "    </tr>\n",
       "    <tr>\n",
       "      <th>2</th>\n",
       "      <td>20211228</td>\n",
       "      <td>28665</td>\n",
       "      <td>99623</td>\n",
       "    </tr>\n",
       "    <tr>\n",
       "      <th>3</th>\n",
       "      <td>20211229</td>\n",
       "      <td>25295</td>\n",
       "      <td>98595</td>\n",
       "    </tr>\n",
       "    <tr>\n",
       "      <th>4</th>\n",
       "      <td>20211230</td>\n",
       "      <td>15082</td>\n",
       "      <td>67880</td>\n",
       "    </tr>\n",
       "    <tr>\n",
       "      <th>5</th>\n",
       "      <td>20211231</td>\n",
       "      <td>7810</td>\n",
       "      <td>39022</td>\n",
       "    </tr>\n",
       "  </tbody>\n",
       "</table>\n",
       "</div>"
      ],
      "text/plain": [
       "   test_date  ncust_in_train  ncust_in_test\n",
       "0   20211226           20749          54045\n",
       "1   20211227           28281          89054\n",
       "2   20211228           28665          99623\n",
       "3   20211229           25295          98595\n",
       "4   20211230           15082          67880\n",
       "5   20211231            7810          39022"
      ]
     },
     "execution_count": 107,
     "metadata": {},
     "output_type": "execute_result"
    }
   ],
   "source": [
    "res_df"
   ]
  },
  {
   "cell_type": "code",
   "execution_count": 106,
   "id": "b82c0063",
   "metadata": {},
   "outputs": [
    {
     "data": {
      "image/png": "[encoded data removed]",
      "text/plain": [
       "<Figure size 432x288 with 1 Axes>"
      ]
     },
     "metadata": {
      "needs_background": "light"
     },
     "output_type": "display_data"
    }
   ],
   "source": [
    "fig, ax = plt.subplots()\n",
    "width = 0.35\n",
    "ax.bar(res_df.test_date, res_df.ncust_in_train, width, label='not in train')\n",
    "ax.bar(res_df.test_date, res_df.ncust_in_test, width, bottom=res_df.ncust_in_train,label='in train')\n",
    "\n",
    "ax.set_ylabel('Scores')\n",
    "ax.set_title('Scores by group and gender')\n",
    "ax.legend()\n",
    "\n",
    "plt.show()"
   ]
  },
  {
   "cell_type": "code",
   "execution_count": 11,
   "id": "d14e15a4",
   "metadata": {},
   "outputs": [
    {
     "name": "stdout",
     "output_type": "stream",
     "text": [
      "450820\n",
      "54045\n",
      "---\n"
     ]
    }
   ],
   "source": [
    "test_date = 20211226\n",
    "cust_items_dict_train, cust_items_dict_test = splitting(user_list = user_list, train_start = 20211217, test_date = test_date) \n",
    "# export_file(date = str(test_date), pairs_dict_train = cust_items_dict_train, pairs_dict_test = cust_items_dict_test )\n",
    "len_tr = len(list(cust_items_dict_train.keys()))\n",
    "len_te = len(list(cust_items_dict_test.keys()))\n",
    "print(len_tr)\n",
    "print(len_te)\n",
    "print('---')"
   ]
  },
  {
   "cell_type": "code",
   "execution_count": null,
   "id": "04632ca3",
   "metadata": {},
   "outputs": [],
   "source": []
  },
  {
   "cell_type": "code",
   "execution_count": 9,
   "id": "532d112b",
   "metadata": {},
   "outputs": [
    {
     "name": "stdout",
     "output_type": "stream",
     "text": [
      "write to file path: <_io.TextIOWrapper name='date=20211226/train.txt' mode='w' encoding='UTF-8'>\n",
      "450820\n",
      "write to file path: <_io.TextIOWrapper name='date=20211226/test.txt' mode='w' encoding='UTF-8'>\n",
      "54045\n",
      "450820\n",
      "54045\n",
      "---\n",
      "write to file path: <_io.TextIOWrapper name='date=20211227/train.txt' mode='w' encoding='UTF-8'>\n",
      "471569\n",
      "write to file path: <_io.TextIOWrapper name='date=20211227/test.txt' mode='w' encoding='UTF-8'>\n",
      "89054\n",
      "471569\n",
      "89054\n",
      "---\n",
      "write to file path: <_io.TextIOWrapper name='date=20211228/train.txt' mode='w' encoding='UTF-8'>\n",
      "499850\n",
      "write to file path: <_io.TextIOWrapper name='date=20211228/test.txt' mode='w' encoding='UTF-8'>\n",
      "99623\n",
      "499850\n",
      "99623\n",
      "---\n",
      "write to file path: <_io.TextIOWrapper name='date=20211229/train.txt' mode='w' encoding='UTF-8'>\n",
      "528515\n",
      "write to file path: <_io.TextIOWrapper name='date=20211229/test.txt' mode='w' encoding='UTF-8'>\n",
      "98595\n",
      "528515\n",
      "98595\n",
      "---\n",
      "write to file path: <_io.TextIOWrapper name='date=20211230/train.txt' mode='w' encoding='UTF-8'>\n",
      "553810\n",
      "write to file path: <_io.TextIOWrapper name='date=20211230/test.txt' mode='w' encoding='UTF-8'>\n",
      "67880\n",
      "553810\n",
      "67880\n",
      "---\n",
      "write to file path: <_io.TextIOWrapper name='date=20211231/train.txt' mode='w' encoding='UTF-8'>\n",
      "568892\n",
      "write to file path: <_io.TextIOWrapper name='date=20211231/test.txt' mode='w' encoding='UTF-8'>\n",
      "39022\n",
      "568892\n",
      "39022\n",
      "---\n"
     ]
    }
   ],
   "source": [
    "for test_date in range(20211226, 20211231+1):\n",
    "    cust_items_dict_train, cust_items_dict_test = splitting(user_list = user_list, train_start = 20211217, test_date = test_date) \n",
    "    export_file(date = str(test_date), pairs_dict_train = cust_items_dict_train, pairs_dict_test = cust_items_dict_test )\n",
    "    len_tr = len(list(cust_items_dict_train.keys()))\n",
    "    len_te = len(list(cust_items_dict_test.keys()))\n",
    "    print(len_tr)\n",
    "    print(len_te)\n",
    "    print('---')"
   ]
  },
  {
   "cell_type": "code",
   "execution_count": 12,
   "id": "f8174ee7",
   "metadata": {},
   "outputs": [
    {
     "name": "stdout",
     "output_type": "stream",
     "text": [
      "8852\n",
      "50\n",
      "---\n",
      "9606\n",
      "105\n",
      "---\n",
      "10964\n",
      "124\n",
      "---\n",
      "12372\n",
      "114\n",
      "---\n",
      "13693\n",
      "64\n",
      "---\n",
      "14486\n",
      "47\n",
      "---\n"
     ]
    }
   ],
   "source": [
    "# for test_date in range(20211226, 20211231+1):\n",
    "#     cust_items_dict_train, cust_items_dict_test = splitting(user_list = user_list, train_start = 20211217, test_date = test_date) \n",
    "#     len_tr = len(list(cust_items_dict_train.keys()))\n",
    "#     len_te = len(list(cust_items_dict_test.keys()))\n",
    "#     print(len_tr)\n",
    "#     print(len_te)\n",
    "#     print('---')"
   ]
  },
  {
   "cell_type": "code",
   "execution_count": null,
   "id": "613a88c9",
   "metadata": {},
   "outputs": [],
   "source": []
  },
  {
   "cell_type": "code",
   "execution_count": null,
   "id": "f6aefcea",
   "metadata": {},
   "outputs": [],
   "source": []
  }
 ],
 "metadata": {
  "kernelspec": {
   "display_name": "Python 3",
   "language": "python",
   "name": "python3"
  },
  "language_info": {
   "codemirror_mode": {
    "name": "ipython",
    "version": 3
   },
   "file_extension": ".py",
   "mimetype": "text/x-python",
   "name": "python",
   "nbconvert_exporter": "python",
   "pygments_lexer": "ipython3",
   "version": "3.7.10"
  }
 },
 "nbformat": 4,
 "nbformat_minor": 5
}
