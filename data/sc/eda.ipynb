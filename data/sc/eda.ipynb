{
 "cells": [
  {
   "cell_type": "code",
   "execution_count": 1,
   "id": "588db8c5",
   "metadata": {},
   "outputs": [],
   "source": [
    "import numpy as np\n",
    "import pandas as pd\n",
    "import math\n",
    "import os\n",
    "import matplotlib.pyplot as plt\n",
    "from sklearn.preprocessing import LabelEncoder\n",
    "pd.set_option('display.max_colwidth', 200)\n",
    "pd.set_option('display.max_rows', 200)"
   ]
  },
  {
   "cell_type": "code",
   "execution_count": 2,
   "id": "359b7c34",
   "metadata": {},
   "outputs": [],
   "source": [
    "# context = pd.read_csv('..//data/preprocessed//context_1217_1230.csv')\n",
    "context = pd.read_csv('/home/jovyan/df-smart-channel/graph/data/preprocessed/context_1217_0131.csv')"
   ]
  },
  {
   "cell_type": "code",
   "execution_count": 3,
   "id": "0d7e5397",
   "metadata": {},
   "outputs": [],
   "source": [
    "le = LabelEncoder()\n",
    "context.cust_no = le.fit_transform(context.cust_no)\n",
    "context.item_id = le.fit_transform(context.item_id)"
   ]
  },
  {
   "cell_type": "code",
   "execution_count": 4,
   "id": "66f6362c",
   "metadata": {},
   "outputs": [],
   "source": [
    "user_list = context.cust_no.unique()\n",
    "item_list = context.item_id.unique()"
   ]
  },
  {
   "cell_type": "code",
   "execution_count": 20,
   "id": "8566d6b2",
   "metadata": {},
   "outputs": [
    {
     "data": {
      "text/plain": [
       "576702"
      ]
     },
     "execution_count": 20,
     "metadata": {},
     "output_type": "execute_result"
    }
   ],
   "source": [
    "len(user_list)"
   ]
  },
  {
   "cell_type": "markdown",
   "id": "c393401b",
   "metadata": {},
   "source": [
    "## Check proportion"
   ]
  },
  {
   "cell_type": "code",
   "execution_count": 6,
   "id": "f22f483c",
   "metadata": {},
   "outputs": [],
   "source": [
    "train_start = 20211217; train_end = 20211225; test_end = 20211226\n",
    "test_date = test_end"
   ]
  },
  {
   "cell_type": "code",
   "execution_count": 7,
   "id": "44419e77",
   "metadata": {},
   "outputs": [],
   "source": [
    "context_train = context[(context.date >= train_start) & (context.date < test_date)][['cust_no', 'item_id', 'show','click']]\n",
    "trainUniqueUsers = set(context_train.cust_no.unique())\n",
    "context_test = context[context.date == test_date][['cust_no', 'item_id','click']]\n",
    "context_test['is_in_train'] = context_test.cust_no.isin(trainUniqueUsers)\n",
    "# grouped = context_test.groupby('cust_no')['is_in_train'].mean()"
   ]
  },
  {
   "cell_type": "code",
   "execution_count": 8,
   "id": "f24ae3d6",
   "metadata": {},
   "outputs": [],
   "source": [
    "cust_category_train = context_train.groupby('cust_no')['click'].sum().reset_index()"
   ]
  },
  {
   "cell_type": "code",
   "execution_count": 9,
   "id": "d57acffb",
   "metadata": {},
   "outputs": [],
   "source": [
    "cust_category_train['show_and_click'] = cust_category_train.click > 0"
   ]
  },
  {
   "cell_type": "code",
   "execution_count": 10,
   "id": "83467237",
   "metadata": {},
   "outputs": [
    {
     "data": {
      "text/plain": [
       "False    441968\n",
       "True       8852\n",
       "Name: show_and_click, dtype: int64"
      ]
     },
     "execution_count": 10,
     "metadata": {},
     "output_type": "execute_result"
    }
   ],
   "source": [
    "cust_category_train.show_and_click.value_counts()"
   ]
  },
  {
   "cell_type": "code",
   "execution_count": 11,
   "id": "c4e02d1f",
   "metadata": {},
   "outputs": [
    {
     "data": {
      "text/plain": [
       "450820"
      ]
     },
     "execution_count": 11,
     "metadata": {},
     "output_type": "execute_result"
    }
   ],
   "source": [
    "441968+8852"
   ]
  },
  {
   "cell_type": "code",
   "execution_count": 12,
   "id": "391a7725",
   "metadata": {},
   "outputs": [
    {
     "data": {
      "text/plain": [
       "74794"
      ]
     },
     "execution_count": 12,
     "metadata": {},
     "output_type": "execute_result"
    }
   ],
   "source": [
    "context_test.cust_no.nunique()"
   ]
  },
  {
   "cell_type": "code",
   "execution_count": 13,
   "id": "02e9d559",
   "metadata": {},
   "outputs": [],
   "source": [
    "# test\n",
    "context_test = context[context.date == test_date][['cust_no', 'item_id','click']]\n",
    "context_test['is_in_train'] = context_test.cust_no.isin(trainUniqueUsers)\n",
    "cust_category_test = context_test.groupby('cust_no')['is_in_train'].mean().reset_index()"
   ]
  },
  {
   "cell_type": "code",
   "execution_count": 28,
   "id": "02bc1ae4",
   "metadata": {},
   "outputs": [
    {
     "name": "stderr",
     "output_type": "stream",
     "text": [
      "/opt/conda/lib/python3.7/site-packages/ipykernel_launcher.py:2: SettingWithCopyWarning: \n",
      "A value is trying to be set on a copy of a slice from a DataFrame.\n",
      "Try using .loc[row_indexer,col_indexer] = value instead\n",
      "\n",
      "See the caveats in the documentation: https://pandas.pydata.org/pandas-docs/stable/user_guide/indexing.html#returning-a-view-versus-a-copy\n",
      "  \n"
     ]
    }
   ],
   "source": [
    "can_be_transducted = context_test[context_test.is_in_train]\n",
    "can_be_transducted['if_click'] = can_be_transducted.click > 0"
   ]
  },
  {
   "cell_type": "code",
   "execution_count": 38,
   "id": "7cd5da95",
   "metadata": {},
   "outputs": [],
   "source": [
    "can_be_transducted_w_click = can_be_transducted.groupby('cust_no')['if_click'].mean().reset_index()"
   ]
  },
  {
   "cell_type": "code",
   "execution_count": 39,
   "id": "20042ddc",
   "metadata": {},
   "outputs": [
    {
     "data": {
      "text/plain": [
       "0.0    53494\n",
       "1.0      481\n",
       "0.5       70\n",
       "Name: if_click, dtype: int64"
      ]
     },
     "execution_count": 39,
     "metadata": {},
     "output_type": "execute_result"
    }
   ],
   "source": [
    "can_be_transducted_w_click.if_click.value_counts()"
   ]
  },
  {
   "cell_type": "code",
   "execution_count": 40,
   "id": "3ba18424",
   "metadata": {},
   "outputs": [
    {
     "data": {
      "text/plain": [
       "54045"
      ]
     },
     "execution_count": 40,
     "metadata": {},
     "output_type": "execute_result"
    }
   ],
   "source": [
    "53494+481+70"
   ]
  },
  {
   "cell_type": "code",
   "execution_count": 14,
   "id": "3c7bd98f",
   "metadata": {},
   "outputs": [
    {
     "data": {
      "text/plain": [
       "True     54045\n",
       "False    20749\n",
       "Name: is_in_train, dtype: int64"
      ]
     },
     "execution_count": 14,
     "metadata": {},
     "output_type": "execute_result"
    }
   ],
   "source": [
    "cust_category_test.is_in_train.value_counts()"
   ]
  },
  {
   "cell_type": "code",
   "execution_count": 16,
   "id": "75f5c6b0",
   "metadata": {},
   "outputs": [
    {
     "data": {
      "text/plain": [
       "74794"
      ]
     },
     "execution_count": 16,
     "metadata": {},
     "output_type": "execute_result"
    }
   ],
   "source": [
    "54045+20749"
   ]
  },
  {
   "cell_type": "code",
   "execution_count": 24,
   "id": "cb8f4afb",
   "metadata": {},
   "outputs": [
    {
     "data": {
      "text/html": [
       "<div>\n",
       "<style scoped>\n",
       "    .dataframe tbody tr th:only-of-type {\n",
       "        vertical-align: middle;\n",
       "    }\n",
       "\n",
       "    .dataframe tbody tr th {\n",
       "        vertical-align: top;\n",
       "    }\n",
       "\n",
       "    .dataframe thead th {\n",
       "        text-align: right;\n",
       "    }\n",
       "</style>\n",
       "<table border=\"1\" class=\"dataframe\">\n",
       "  <thead>\n",
       "    <tr style=\"text-align: right;\">\n",
       "      <th></th>\n",
       "      <th>cust_no</th>\n",
       "      <th>is_in_train</th>\n",
       "    </tr>\n",
       "  </thead>\n",
       "  <tbody>\n",
       "    <tr>\n",
       "      <th>0</th>\n",
       "      <td>0</td>\n",
       "      <td>True</td>\n",
       "    </tr>\n",
       "    <tr>\n",
       "      <th>1</th>\n",
       "      <td>21</td>\n",
       "      <td>False</td>\n",
       "    </tr>\n",
       "    <tr>\n",
       "      <th>2</th>\n",
       "      <td>35</td>\n",
       "      <td>True</td>\n",
       "    </tr>\n",
       "    <tr>\n",
       "      <th>3</th>\n",
       "      <td>45</td>\n",
       "      <td>False</td>\n",
       "    </tr>\n",
       "    <tr>\n",
       "      <th>4</th>\n",
       "      <td>63</td>\n",
       "      <td>True</td>\n",
       "    </tr>\n",
       "    <tr>\n",
       "      <th>...</th>\n",
       "      <td>...</td>\n",
       "      <td>...</td>\n",
       "    </tr>\n",
       "    <tr>\n",
       "      <th>74789</th>\n",
       "      <td>576669</td>\n",
       "      <td>False</td>\n",
       "    </tr>\n",
       "    <tr>\n",
       "      <th>74790</th>\n",
       "      <td>576687</td>\n",
       "      <td>False</td>\n",
       "    </tr>\n",
       "    <tr>\n",
       "      <th>74791</th>\n",
       "      <td>576689</td>\n",
       "      <td>True</td>\n",
       "    </tr>\n",
       "    <tr>\n",
       "      <th>74792</th>\n",
       "      <td>576691</td>\n",
       "      <td>True</td>\n",
       "    </tr>\n",
       "    <tr>\n",
       "      <th>74793</th>\n",
       "      <td>576692</td>\n",
       "      <td>True</td>\n",
       "    </tr>\n",
       "  </tbody>\n",
       "</table>\n",
       "<p>74794 rows × 2 columns</p>\n",
       "</div>"
      ],
      "text/plain": [
       "       cust_no  is_in_train\n",
       "0            0         True\n",
       "1           21        False\n",
       "2           35         True\n",
       "3           45        False\n",
       "4           63         True\n",
       "...        ...          ...\n",
       "74789   576669        False\n",
       "74790   576687        False\n",
       "74791   576689         True\n",
       "74792   576691         True\n",
       "74793   576692         True\n",
       "\n",
       "[74794 rows x 2 columns]"
      ]
     },
     "execution_count": 24,
     "metadata": {},
     "output_type": "execute_result"
    }
   ],
   "source": [
    "cust_category_test"
   ]
  },
  {
   "cell_type": "code",
   "execution_count": 17,
   "id": "78e238ca",
   "metadata": {},
   "outputs": [],
   "source": [
    "can_transducted = cust_category_test[cust_category_test['is_in_train']]"
   ]
  },
  {
   "cell_type": "code",
   "execution_count": 18,
   "id": "798e5b75",
   "metadata": {},
   "outputs": [
    {
     "data": {
      "text/html": [
       "<div>\n",
       "<style scoped>\n",
       "    .dataframe tbody tr th:only-of-type {\n",
       "        vertical-align: middle;\n",
       "    }\n",
       "\n",
       "    .dataframe tbody tr th {\n",
       "        vertical-align: top;\n",
       "    }\n",
       "\n",
       "    .dataframe thead th {\n",
       "        text-align: right;\n",
       "    }\n",
       "</style>\n",
       "<table border=\"1\" class=\"dataframe\">\n",
       "  <thead>\n",
       "    <tr style=\"text-align: right;\">\n",
       "      <th></th>\n",
       "      <th>cust_no</th>\n",
       "      <th>is_in_train</th>\n",
       "    </tr>\n",
       "  </thead>\n",
       "  <tbody>\n",
       "    <tr>\n",
       "      <th>0</th>\n",
       "      <td>0</td>\n",
       "      <td>True</td>\n",
       "    </tr>\n",
       "    <tr>\n",
       "      <th>2</th>\n",
       "      <td>35</td>\n",
       "      <td>True</td>\n",
       "    </tr>\n",
       "    <tr>\n",
       "      <th>4</th>\n",
       "      <td>63</td>\n",
       "      <td>True</td>\n",
       "    </tr>\n",
       "    <tr>\n",
       "      <th>5</th>\n",
       "      <td>69</td>\n",
       "      <td>True</td>\n",
       "    </tr>\n",
       "    <tr>\n",
       "      <th>6</th>\n",
       "      <td>73</td>\n",
       "      <td>True</td>\n",
       "    </tr>\n",
       "  </tbody>\n",
       "</table>\n",
       "</div>"
      ],
      "text/plain": [
       "   cust_no  is_in_train\n",
       "0        0         True\n",
       "2       35         True\n",
       "4       63         True\n",
       "5       69         True\n",
       "6       73         True"
      ]
     },
     "execution_count": 18,
     "metadata": {},
     "output_type": "execute_result"
    }
   ],
   "source": [
    "can_transducted.head()"
   ]
  },
  {
   "cell_type": "code",
   "execution_count": 21,
   "id": "313f5d05",
   "metadata": {},
   "outputs": [
    {
     "name": "stderr",
     "output_type": "stream",
     "text": [
      "/opt/conda/lib/python3.7/site-packages/ipykernel_launcher.py:1: SettingWithCopyWarning: \n",
      "A value is trying to be set on a copy of a slice from a DataFrame.\n",
      "Try using .loc[row_indexer,col_indexer] = value instead\n",
      "\n",
      "See the caveats in the documentation: https://pandas.pydata.org/pandas-docs/stable/user_guide/indexing.html#returning-a-view-versus-a-copy\n",
      "  \"\"\"Entry point for launching an IPython kernel.\n"
     ]
    }
   ],
   "source": [
    "can_transducted['if_click'] = can_transducted.is_in_train > 0"
   ]
  },
  {
   "cell_type": "code",
   "execution_count": 22,
   "id": "a8f6c583",
   "metadata": {},
   "outputs": [
    {
     "data": {
      "text/plain": [
       "True    54045\n",
       "Name: if_click, dtype: int64"
      ]
     },
     "execution_count": 22,
     "metadata": {},
     "output_type": "execute_result"
    }
   ],
   "source": [
    "can_transducted.if_click.value_counts()"
   ]
  },
  {
   "cell_type": "markdown",
   "id": "3ebbafaa",
   "metadata": {},
   "source": [
    "## Check rough baseline"
   ]
  },
  {
   "cell_type": "code",
   "execution_count": 6,
   "id": "7d09d438",
   "metadata": {},
   "outputs": [],
   "source": [
    "train_start = 20211217; train_end = 20211225; test_end = 20211226\n",
    "test_date = test_end"
   ]
  },
  {
   "cell_type": "code",
   "execution_count": 7,
   "id": "516185b8",
   "metadata": {},
   "outputs": [],
   "source": [
    "context_train = context[(context.date >= train_start) & (context.date < test_date)][['cust_no', 'item_id', 'show','click']]\n",
    "trainUniqueUsers = set(context_train.cust_no.unique())\n",
    "context_test = context[context.date == test_date][['cust_no', 'item_id','click']]\n",
    "context_test['if_click'] = context_test.click > 0\n",
    "# context_test['is_in_train'] = context_test.cust_no.isin(trainUniqueUsers)\n",
    "# grouped = context_test.groupby('cust_no')['is_in_train'].mean()"
   ]
  },
  {
   "cell_type": "code",
   "execution_count": 9,
   "id": "3c36e2d5",
   "metadata": {},
   "outputs": [],
   "source": [
    "grouped = context_test.groupby('cust_no')['if_click'].mean()"
   ]
  },
  {
   "cell_type": "code",
   "execution_count": 17,
   "id": "5167fa22",
   "metadata": {},
   "outputs": [
    {
     "data": {
      "text/plain": [
       "0.0    73990\n",
       "1.0      728\n",
       "0.5       76\n",
       "Name: if_click, dtype: int64"
      ]
     },
     "execution_count": 17,
     "metadata": {},
     "output_type": "execute_result"
    }
   ],
   "source": [
    "grouped.value_counts()"
   ]
  },
  {
   "cell_type": "code",
   "execution_count": null,
   "id": "3630c601",
   "metadata": {},
   "outputs": [],
   "source": []
  },
  {
   "cell_type": "code",
   "execution_count": 19,
   "id": "ac012210",
   "metadata": {},
   "outputs": [
    {
     "data": {
      "text/plain": [
       "74794"
      ]
     },
     "execution_count": 19,
     "metadata": {},
     "output_type": "execute_result"
    }
   ],
   "source": [
    "54045+20749"
   ]
  },
  {
   "cell_type": "code",
   "execution_count": 18,
   "id": "36a0fae3",
   "metadata": {},
   "outputs": [
    {
     "data": {
      "text/plain": [
       "74794"
      ]
     },
     "execution_count": 18,
     "metadata": {},
     "output_type": "execute_result"
    }
   ],
   "source": [
    "73990+728+76"
   ]
  },
  {
   "cell_type": "markdown",
   "id": "92483ecb",
   "metadata": {},
   "source": [
    "## Splitting"
   ]
  },
  {
   "cell_type": "code",
   "execution_count": 6,
   "id": "85b8c8ce",
   "metadata": {},
   "outputs": [],
   "source": [
    "train_start = 20211217\n",
    "train_end = 20211225\n",
    "test_end = 20211226\n",
    "test_date = test_end"
   ]
  },
  {
   "cell_type": "code",
   "execution_count": 7,
   "id": "e4c8db16",
   "metadata": {},
   "outputs": [],
   "source": [
    "## old version\n",
    "# def splitting(user_list, train_start, test_date):\n",
    "#     context_train = context_click[(context_click.date >= train_start) & (context_click.date < test_date)][['cust_no', 'item_id', 'show', 'click']]\n",
    "#     context_test = context_click[context_click.date == test_date][['cust_no', 'item_id', 'show', 'click']]\n",
    "    \n",
    "#     cust_item_pair_train = context_train.groupby(['cust_no', 'item_id'])['click'].sum().reset_index()\n",
    "#     cust_item_pair_test = context_test.groupby(['cust_no', 'item_id'])['click'].sum().reset_index()\n",
    "    \n",
    "#     # cust_item_pair_train = cust_item_pair_train[cust_item_pair_train.click > 0]\n",
    "#     # cust_item_pair_test = cust_item_pair_test[cust_item_pair_test.click > 0]\n",
    "    \n",
    "#     trainUniqueUsers = set(cust_item_pair_train.cust_no.unique())\n",
    "#     # testUniqueUsers = set(cust_item_pair_test.cust_no.unique())\n",
    "#     cust_item_pair_test = cust_item_pair_test[cust_item_pair_test.cust_no.isin(trainUniqueUsers)]\n",
    "    \n",
    "#     items_by_cust_train = cust_item_pair_train.groupby('cust_no')['item_id'].unique()\n",
    "#     items_by_cust_test = cust_item_pair_test.groupby('cust_no')['item_id'].unique()\n",
    "    \n",
    "#     cust_items_dict_train = dict(items_by_cust_train.apply(list))\n",
    "#     cust_items_dict_test = dict(items_by_cust_test.apply(list))\n",
    "#     return cust_items_dict_train, cust_items_dict_test"
   ]
  },
  {
   "cell_type": "code",
   "execution_count": 8,
   "id": "1ad2e0ed",
   "metadata": {},
   "outputs": [],
   "source": [
    "context_train = context[(context.date >= train_start) & (context.date < test_date)][['cust_no', 'item_id', 'show','click']]\n",
    "trainUniqueUsers = set(context_train.cust_no.unique())\n",
    "context_test = context[context.date == test_date][['cust_no', 'item_id','click']]\n",
    "context_test['is_in_train'] = context_test.cust_no.isin(trainUniqueUsers)\n",
    "# cust_item_pair_train = context_train.groupby(['cust_no', 'item_id'])['click'].sum().reset_index()\n",
    "# cust_item_pair_test = context_test.groupby(['cust_no', 'item_id'])['click'].sum().reset_index()\n",
    "\n",
    "# cust_no = context_test.cust_no.unique()\n",
    "# init_df = pd.DataFrame({'cust_no': cust_no})\n",
    "\n",
    "# combined_test = pd.merge(init_df, cust_item_pair_train, on = 'cust_no', how = 'left')[['cust_no', 'item_id']]\n",
    "# combined_test.item_id = combined_test.item_id.replace(np.nan, -1)"
   ]
  },
  {
   "cell_type": "code",
   "execution_count": 9,
   "id": "0eccbbe2",
   "metadata": {},
   "outputs": [
    {
     "data": {
      "text/html": [
       "<div>\n",
       "<style scoped>\n",
       "    .dataframe tbody tr th:only-of-type {\n",
       "        vertical-align: middle;\n",
       "    }\n",
       "\n",
       "    .dataframe tbody tr th {\n",
       "        vertical-align: top;\n",
       "    }\n",
       "\n",
       "    .dataframe thead th {\n",
       "        text-align: right;\n",
       "    }\n",
       "</style>\n",
       "<table border=\"1\" class=\"dataframe\">\n",
       "  <thead>\n",
       "    <tr style=\"text-align: right;\">\n",
       "      <th></th>\n",
       "      <th>cust_no</th>\n",
       "      <th>item_id</th>\n",
       "      <th>click</th>\n",
       "      <th>is_in_train</th>\n",
       "    </tr>\n",
       "  </thead>\n",
       "  <tbody>\n",
       "    <tr>\n",
       "      <th>70</th>\n",
       "      <td>5255</td>\n",
       "      <td>19</td>\n",
       "      <td>0</td>\n",
       "      <td>True</td>\n",
       "    </tr>\n",
       "    <tr>\n",
       "      <th>73</th>\n",
       "      <td>5544</td>\n",
       "      <td>19</td>\n",
       "      <td>0</td>\n",
       "      <td>True</td>\n",
       "    </tr>\n",
       "    <tr>\n",
       "      <th>84</th>\n",
       "      <td>6330</td>\n",
       "      <td>14</td>\n",
       "      <td>0</td>\n",
       "      <td>True</td>\n",
       "    </tr>\n",
       "    <tr>\n",
       "      <th>91</th>\n",
       "      <td>7036</td>\n",
       "      <td>8</td>\n",
       "      <td>0</td>\n",
       "      <td>True</td>\n",
       "    </tr>\n",
       "    <tr>\n",
       "      <th>100</th>\n",
       "      <td>7436</td>\n",
       "      <td>14</td>\n",
       "      <td>0</td>\n",
       "      <td>True</td>\n",
       "    </tr>\n",
       "    <tr>\n",
       "      <th>...</th>\n",
       "      <td>...</td>\n",
       "      <td>...</td>\n",
       "      <td>...</td>\n",
       "      <td>...</td>\n",
       "    </tr>\n",
       "    <tr>\n",
       "      <th>1546474</th>\n",
       "      <td>575491</td>\n",
       "      <td>3</td>\n",
       "      <td>0</td>\n",
       "      <td>True</td>\n",
       "    </tr>\n",
       "    <tr>\n",
       "      <th>1546509</th>\n",
       "      <td>120816</td>\n",
       "      <td>10</td>\n",
       "      <td>1</td>\n",
       "      <td>False</td>\n",
       "    </tr>\n",
       "    <tr>\n",
       "      <th>1546520</th>\n",
       "      <td>205332</td>\n",
       "      <td>8</td>\n",
       "      <td>1</td>\n",
       "      <td>False</td>\n",
       "    </tr>\n",
       "    <tr>\n",
       "      <th>1546529</th>\n",
       "      <td>226528</td>\n",
       "      <td>3</td>\n",
       "      <td>1</td>\n",
       "      <td>True</td>\n",
       "    </tr>\n",
       "    <tr>\n",
       "      <th>1546551</th>\n",
       "      <td>390248</td>\n",
       "      <td>4</td>\n",
       "      <td>1</td>\n",
       "      <td>True</td>\n",
       "    </tr>\n",
       "  </tbody>\n",
       "</table>\n",
       "<p>78309 rows × 4 columns</p>\n",
       "</div>"
      ],
      "text/plain": [
       "         cust_no  item_id  click  is_in_train\n",
       "70          5255       19      0         True\n",
       "73          5544       19      0         True\n",
       "84          6330       14      0         True\n",
       "91          7036        8      0         True\n",
       "100         7436       14      0         True\n",
       "...          ...      ...    ...          ...\n",
       "1546474   575491        3      0         True\n",
       "1546509   120816       10      1        False\n",
       "1546520   205332        8      1        False\n",
       "1546529   226528        3      1         True\n",
       "1546551   390248        4      1         True\n",
       "\n",
       "[78309 rows x 4 columns]"
      ]
     },
     "execution_count": 9,
     "metadata": {},
     "output_type": "execute_result"
    }
   ],
   "source": [
    "context_test"
   ]
  },
  {
   "cell_type": "code",
   "execution_count": 10,
   "id": "8427c9b1",
   "metadata": {},
   "outputs": [
    {
     "data": {
      "text/plain": [
       "True     54045\n",
       "False    20749\n",
       "Name: is_in_train, dtype: int64"
      ]
     },
     "execution_count": 10,
     "metadata": {},
     "output_type": "execute_result"
    }
   ],
   "source": [
    "grouped = context_test.groupby('cust_no')['is_in_train'].mean()\n",
    "grouped.value_counts()"
   ]
  },
  {
   "cell_type": "code",
   "execution_count": 116,
   "id": "3ca3edba",
   "metadata": {},
   "outputs": [],
   "source": [
    "del res"
   ]
  },
  {
   "cell_type": "code",
   "execution_count": 24,
   "id": "722a2eea",
   "metadata": {},
   "outputs": [],
   "source": [
    "context_train = context[(context.date >= train_start) & (context.date < test_date)][['cust_no', 'item_id', 'show','click']]\n",
    "trainUniqueUsers = set(context_train.cust_no.unique())\n",
    "context_test = context[context.date == test_date][['cust_no', 'item_id','click']]\n",
    "context_test['is_in_train'] = context_test.cust_no.isin(trainUniqueUsers)\n",
    "grouped = context_test.groupby('cust_no')['is_in_train'].mean()\n",
    "res = grouped.value_counts()"
   ]
  },
  {
   "cell_type": "code",
   "execution_count": 25,
   "id": "334bea27",
   "metadata": {},
   "outputs": [
    {
     "data": {
      "text/plain": [
       "True     54045\n",
       "False    20749\n",
       "Name: is_in_train, dtype: int64"
      ]
     },
     "execution_count": 25,
     "metadata": {},
     "output_type": "execute_result"
    }
   ],
   "source": [
    "res"
   ]
  },
  {
   "cell_type": "code",
   "execution_count": 41,
   "id": "35e394ca",
   "metadata": {},
   "outputs": [],
   "source": [
    "def splitting(user_list, train_start, test_date):\n",
    "    context_train = context[(context.date >= train_start) & (context.date < test_date)][['cust_no', 'item_id', 'show','click']]\n",
    "    trainUniqueUsers = set(context_train.cust_no.unique())\n",
    "    context_test = context[context.date == test_date][['cust_no', 'item_id','click']]\n",
    "    context_test['is_in_train'] = context_test.cust_no.isin(trainUniqueUsers)\n",
    "    grouped = context_test.groupby('cust_no')['is_in_train'].mean()\n",
    "    res = grouped.value_counts()\n",
    "    return res"
   ]
  },
  {
   "cell_type": "code",
   "execution_count": 42,
   "id": "3309bbb4",
   "metadata": {},
   "outputs": [],
   "source": [
    "res_dict = {}\n",
    "res_dict['test_date'] = []\n",
    "res_dict['ncust_in_train'] = []\n",
    "res_dict['ncust_in_test'] = []\n",
    "for test_date in range(20211226, 20211231+1):\n",
    "    res = splitting(user_list = user_list, train_start = test_date-9, test_date = test_date)\n",
    "    res_dict['test_date'].append(test_date)\n",
    "    res_dict['ncust_in_train'].append(res[1])\n",
    "    res_dict['ncust_in_test'].append(res[0])\n",
    "res_df = pd.DataFrame.from_dict(res_dict)\n",
    "res_df['ncust_total'] = res_df['ncust_in_train'] + res_df['ncust_in_test'] \n",
    "res_df['trans_prop'] = res_df['ncust_in_train'] / res_df['ncust_total'] \n",
    "    # export_file(date = str(test_date), pairs_dict_train = cust_items_dict_train, pairs_dict_test = cust_items_dict_test )"
   ]
  },
  {
   "cell_type": "code",
   "execution_count": 43,
   "id": "1906123f",
   "metadata": {},
   "outputs": [
    {
     "data": {
      "text/html": [
       "<div>\n",
       "<style scoped>\n",
       "    .dataframe tbody tr th:only-of-type {\n",
       "        vertical-align: middle;\n",
       "    }\n",
       "\n",
       "    .dataframe tbody tr th {\n",
       "        vertical-align: top;\n",
       "    }\n",
       "\n",
       "    .dataframe thead th {\n",
       "        text-align: right;\n",
       "    }\n",
       "</style>\n",
       "<table border=\"1\" class=\"dataframe\">\n",
       "  <thead>\n",
       "    <tr style=\"text-align: right;\">\n",
       "      <th></th>\n",
       "      <th>test_date</th>\n",
       "      <th>ncust_in_train</th>\n",
       "      <th>ncust_in_test</th>\n",
       "      <th>ncust_total</th>\n",
       "      <th>trans_prop</th>\n",
       "    </tr>\n",
       "  </thead>\n",
       "  <tbody>\n",
       "    <tr>\n",
       "      <th>0</th>\n",
       "      <td>20211226</td>\n",
       "      <td>54045</td>\n",
       "      <td>20749</td>\n",
       "      <td>74794</td>\n",
       "      <td>0.722585</td>\n",
       "    </tr>\n",
       "    <tr>\n",
       "      <th>1</th>\n",
       "      <td>20211227</td>\n",
       "      <td>86832</td>\n",
       "      <td>30503</td>\n",
       "      <td>117335</td>\n",
       "      <td>0.740035</td>\n",
       "    </tr>\n",
       "    <tr>\n",
       "      <th>2</th>\n",
       "      <td>20211228</td>\n",
       "      <td>96309</td>\n",
       "      <td>31979</td>\n",
       "      <td>128288</td>\n",
       "      <td>0.750725</td>\n",
       "    </tr>\n",
       "    <tr>\n",
       "      <th>3</th>\n",
       "      <td>20211229</td>\n",
       "      <td>94460</td>\n",
       "      <td>29430</td>\n",
       "      <td>123890</td>\n",
       "      <td>0.762451</td>\n",
       "    </tr>\n",
       "    <tr>\n",
       "      <th>4</th>\n",
       "      <td>20211230</td>\n",
       "      <td>63635</td>\n",
       "      <td>19327</td>\n",
       "      <td>82962</td>\n",
       "      <td>0.767038</td>\n",
       "    </tr>\n",
       "    <tr>\n",
       "      <th>5</th>\n",
       "      <td>20211231</td>\n",
       "      <td>36016</td>\n",
       "      <td>10816</td>\n",
       "      <td>46832</td>\n",
       "      <td>0.769047</td>\n",
       "    </tr>\n",
       "  </tbody>\n",
       "</table>\n",
       "</div>"
      ],
      "text/plain": [
       "   test_date  ncust_in_train  ncust_in_test  ncust_total  trans_prop\n",
       "0   20211226           54045          20749        74794    0.722585\n",
       "1   20211227           86832          30503       117335    0.740035\n",
       "2   20211228           96309          31979       128288    0.750725\n",
       "3   20211229           94460          29430       123890    0.762451\n",
       "4   20211230           63635          19327        82962    0.767038\n",
       "5   20211231           36016          10816        46832    0.769047"
      ]
     },
     "execution_count": 43,
     "metadata": {},
     "output_type": "execute_result"
    }
   ],
   "source": [
    "res_df"
   ]
  },
  {
   "cell_type": "code",
   "execution_count": 13,
   "id": "37e35c48",
   "metadata": {},
   "outputs": [
    {
     "data": {
      "image/png": "[encoded data removed]",
      "text/plain": [
       "<Figure size 432x288 with 1 Axes>"
      ]
     },
     "metadata": {
      "needs_background": "light"
     },
     "output_type": "display_data"
    }
   ],
   "source": [
    "fig, ax = plt.subplots()\n",
    "width = 0.35\n",
    "ax.bar(res_df.test_date, res_df.ncust_in_train, width, label='in train')\n",
    "ax.bar(res_df.test_date, res_df.ncust_in_test, width, bottom=res_df.ncust_in_train,label='not in train')\n",
    "\n",
    "ax.set_ylabel('Scores')\n",
    "ax.set_title('Scores by group and gender')\n",
    "ax.legend()\n",
    "\n",
    "plt.show()"
   ]
  },
  {
   "cell_type": "code",
   "execution_count": null,
   "id": "ccd41e29",
   "metadata": {},
   "outputs": [],
   "source": []
  },
  {
   "cell_type": "code",
   "execution_count": 16,
   "id": "7d81e0f7",
   "metadata": {},
   "outputs": [],
   "source": [
    "def splitting(user_list, train_start, test_date):\n",
    "    context_train = context[(context.date >= train_start) & (context.date < test_date)][['cust_no', 'item_id', 'show','click']]\n",
    "    trainUniqueUsers = set(context_train.cust_no.unique())\n",
    "    context_test = context[context.date == test_date][['cust_no', 'item_id','click']]\n",
    "    context_test = context_test[context_test.cust_no.isin(trainUniqueUsers)]\n",
    "\n",
    "    cust_item_pair_train = context_train.groupby(['cust_no', 'item_id'])['click'].sum().reset_index()\n",
    "    cust_item_pair_test = context_test.groupby(['cust_no', 'item_id'])['click'].sum().reset_index()\n",
    "\n",
    "    cust_no = context_train.cust_no.unique()\n",
    "    init_df = pd.DataFrame({'cust_no': cust_no})\n",
    "\n",
    "    combined_train = pd.merge(init_df, cust_item_pair_train, on = 'cust_no', how = 'left')[['cust_no', 'item_id']]\n",
    "    # combined_train.item_id = combined_train.item_id.astype(int)\n",
    "    combined_test = pd.merge(init_df, cust_item_pair_test, on = 'cust_no', how = 'left')[['cust_no', 'item_id']]\n",
    "    combined_test.item_id = combined_test.item_id.replace(np.nan, -1)\n",
    "    \n",
    "    combined_test['not_in_train'] = combined_test.item_id == -1\n",
    "    grouped = combined_test.groupby('cust_no')['not_in_train'].mean()\n",
    "    res = grouped.value_counts()\n",
    "    return res"
   ]
  },
  {
   "cell_type": "code",
   "execution_count": null,
   "id": "9f029202",
   "metadata": {},
   "outputs": [],
   "source": [
    "res_df"
   ]
  },
  {
   "cell_type": "code",
   "execution_count": 17,
   "id": "74c68d9a",
   "metadata": {},
   "outputs": [],
   "source": [
    "res_dict = {}\n",
    "res_dict['test_date'] = []\n",
    "res_dict['ncust_in_train'] = []\n",
    "res_dict['ncust_in_test'] = []\n",
    "for test_date in range(20211226, 20211231+1):\n",
    "    res = splitting(user_list = user_list, train_start = 20211217, test_date = test_date)\n",
    "    res_dict['test_date'].append(test_date)\n",
    "    res_dict['ncust_in_train'].append(res[0])\n",
    "    res_dict['ncust_in_test'].append(res[1])\n",
    "res_df = pd.DataFrame.from_dict(res_dict)\n",
    "    # export_file(date = str(test_date), pairs_dict_train = cust_items_dict_train, pairs_dict_test = cust_items_dict_test )"
   ]
  },
  {
   "cell_type": "code",
   "execution_count": 106,
   "id": "1391bc12",
   "metadata": {},
   "outputs": [
    {
     "data": {
      "image/png": "[encoded data removed]",
      "text/plain": [
       "<Figure size 432x288 with 1 Axes>"
      ]
     },
     "metadata": {
      "needs_background": "light"
     },
     "output_type": "display_data"
    }
   ],
   "source": [
    "fig, ax = plt.subplots()\n",
    "width = 0.35\n",
    "ax.bar(res_df.test_date, res_df.ncust_in_train, width, label='not in train')\n",
    "ax.bar(res_df.test_date, res_df.ncust_in_test, width, bottom=res_df.ncust_in_train,label='in train')\n",
    "\n",
    "ax.set_ylabel('Scores')\n",
    "ax.set_title('Scores by group and gender')\n",
    "ax.legend()\n",
    "\n",
    "plt.show()"
   ]
  },
  {
   "cell_type": "code",
   "execution_count": 11,
   "id": "45804927",
   "metadata": {},
   "outputs": [
    {
     "name": "stdout",
     "output_type": "stream",
     "text": [
      "450820\n",
      "54045\n",
      "---\n"
     ]
    }
   ],
   "source": [
    "test_date = 20211226\n",
    "cust_items_dict_train, cust_items_dict_test = splitting(user_list = user_list, train_start = 20211217, test_date = test_date) \n",
    "# export_file(date = str(test_date), pairs_dict_train = cust_items_dict_train, pairs_dict_test = cust_items_dict_test )\n",
    "len_tr = len(list(cust_items_dict_train.keys()))\n",
    "len_te = len(list(cust_items_dict_test.keys()))\n",
    "print(len_tr)\n",
    "print(len_te)\n",
    "print('---')"
   ]
  },
  {
   "cell_type": "code",
   "execution_count": null,
   "id": "8811aee0",
   "metadata": {},
   "outputs": [],
   "source": []
  },
  {
   "cell_type": "code",
   "execution_count": 9,
   "id": "76f84afa",
   "metadata": {},
   "outputs": [
    {
     "name": "stdout",
     "output_type": "stream",
     "text": [
      "write to file path: <_io.TextIOWrapper name='date=20211226/train.txt' mode='w' encoding='UTF-8'>\n",
      "450820\n",
      "write to file path: <_io.TextIOWrapper name='date=20211226/test.txt' mode='w' encoding='UTF-8'>\n",
      "54045\n",
      "450820\n",
      "54045\n",
      "---\n",
      "write to file path: <_io.TextIOWrapper name='date=20211227/train.txt' mode='w' encoding='UTF-8'>\n",
      "471569\n",
      "write to file path: <_io.TextIOWrapper name='date=20211227/test.txt' mode='w' encoding='UTF-8'>\n",
      "89054\n",
      "471569\n",
      "89054\n",
      "---\n",
      "write to file path: <_io.TextIOWrapper name='date=20211228/train.txt' mode='w' encoding='UTF-8'>\n",
      "499850\n",
      "write to file path: <_io.TextIOWrapper name='date=20211228/test.txt' mode='w' encoding='UTF-8'>\n",
      "99623\n",
      "499850\n",
      "99623\n",
      "---\n",
      "write to file path: <_io.TextIOWrapper name='date=20211229/train.txt' mode='w' encoding='UTF-8'>\n",
      "528515\n",
      "write to file path: <_io.TextIOWrapper name='date=20211229/test.txt' mode='w' encoding='UTF-8'>\n",
      "98595\n",
      "528515\n",
      "98595\n",
      "---\n",
      "write to file path: <_io.TextIOWrapper name='date=20211230/train.txt' mode='w' encoding='UTF-8'>\n",
      "553810\n",
      "write to file path: <_io.TextIOWrapper name='date=20211230/test.txt' mode='w' encoding='UTF-8'>\n",
      "67880\n",
      "553810\n",
      "67880\n",
      "---\n",
      "write to file path: <_io.TextIOWrapper name='date=20211231/train.txt' mode='w' encoding='UTF-8'>\n",
      "568892\n",
      "write to file path: <_io.TextIOWrapper name='date=20211231/test.txt' mode='w' encoding='UTF-8'>\n",
      "39022\n",
      "568892\n",
      "39022\n",
      "---\n"
     ]
    }
   ],
   "source": [
    "for test_date in range(20211226, 20211231+1):\n",
    "    cust_items_dict_train, cust_items_dict_test = splitting(user_list = user_list, train_start = 20211217, test_date = test_date) \n",
    "    export_file(date = str(test_date), pairs_dict_train = cust_items_dict_train, pairs_dict_test = cust_items_dict_test )\n",
    "    len_tr = len(list(cust_items_dict_train.keys()))\n",
    "    len_te = len(list(cust_items_dict_test.keys()))\n",
    "    print(len_tr)\n",
    "    print(len_te)\n",
    "    print('---')"
   ]
  },
  {
   "cell_type": "code",
   "execution_count": 12,
   "id": "5b164058",
   "metadata": {},
   "outputs": [
    {
     "name": "stdout",
     "output_type": "stream",
     "text": [
      "8852\n",
      "50\n",
      "---\n",
      "9606\n",
      "105\n",
      "---\n",
      "10964\n",
      "124\n",
      "---\n",
      "12372\n",
      "114\n",
      "---\n",
      "13693\n",
      "64\n",
      "---\n",
      "14486\n",
      "47\n",
      "---\n"
     ]
    }
   ],
   "source": [
    "# for test_date in range(20211226, 20211231+1):\n",
    "#     cust_items_dict_train, cust_items_dict_test = splitting(user_list = user_list, train_start = 20211217, test_date = test_date) \n",
    "#     len_tr = len(list(cust_items_dict_train.keys()))\n",
    "#     len_te = len(list(cust_items_dict_test.keys()))\n",
    "#     print(len_tr)\n",
    "#     print(len_te)\n",
    "#     print('---')"
   ]
  },
  {
   "cell_type": "code",
   "execution_count": null,
   "id": "3c1c4de8",
   "metadata": {},
   "outputs": [],
   "source": []
  },
  {
   "cell_type": "code",
   "execution_count": null,
   "id": "24e2e4e5",
   "metadata": {},
   "outputs": [],
   "source": []
  }
 ],
 "metadata": {
  "kernelspec": {
   "display_name": "Python 3",
   "language": "python",
   "name": "python3"
  },
  "language_info": {
   "codemirror_mode": {
    "name": "ipython",
    "version": 3
   },
   "file_extension": ".py",
   "mimetype": "text/x-python",
   "name": "python",
   "nbconvert_exporter": "python",
   "pygments_lexer": "ipython3",
   "version": "3.7.10"
  }
 },
 "nbformat": 4,
 "nbformat_minor": 5
}
