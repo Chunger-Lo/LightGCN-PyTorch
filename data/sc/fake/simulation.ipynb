{
 "cells": [
  {
   "cell_type": "code",
   "execution_count": 20,
   "id": "34f81c79",
   "metadata": {},
   "outputs": [],
   "source": [
    "import numpy as np\n",
    "import pandas as pd\n",
    "import os\n",
    "import math"
   ]
  },
  {
   "cell_type": "code",
   "execution_count": 39,
   "id": "6270f55f",
   "metadata": {},
   "outputs": [],
   "source": [
    "users_list = [i for i in range(0,100)]\n",
    "items_list = [i for i in range(0,20)]\n",
    "subtags_list = [i for i in range(0,8)]\n",
    "users_list_test = [i for i in range(0,50)]"
   ]
  },
  {
   "cell_type": "code",
   "execution_count": 37,
   "id": "0fb71df1",
   "metadata": {},
   "outputs": [],
   "source": [
    "# user\n",
    "user_item_pair = {}\n",
    "user_subtag_pair = {}\n",
    "for i, user in enumerate(users_list):\n",
    "    item_res = np.random.choice([i for i in range(0, max(items_list)+1)], 3, replace=False).tolist()\n",
    "    subtags_res = np.random.choice([i for i in range(0,max(subtags_list)+1)], 3, replace=False).tolist()\n",
    "    item_res.sort()\n",
    "    subtags_res.sort()\n",
    "    user_item_pair[user] = item_res\n",
    "    user_subtag_pair[user] = subtags_res\n",
    "# user\n",
    "user_item_pair_test = {}\n",
    "user_subtag_pair_test = {}\n",
    "for i, user in enumerate(users_list_test):\n",
    "    item_res = np.random.choice([i for i in range(0, max(items_list)+1)], 3, replace=False).tolist()\n",
    "    subtags_res = np.random.choice([i for i in range(0,max(subtags_list)+1)], 3, replace=False).tolist()\n",
    "    item_res.sort()\n",
    "    subtags_res.sort()\n",
    "    user_item_pair_test[user] = item_res\n",
    "    user_subtag_pair_test[user] = subtags_res"
   ]
  },
  {
   "cell_type": "code",
   "execution_count": 46,
   "id": "8b186b15",
   "metadata": {},
   "outputs": [],
   "source": [
    "#item-subtag\n",
    "item_subtag_pair = {}\n",
    "for i, item in enumerate(items_list):\n",
    "    subtags_res = np.random.choice([i for i in range(0,max(subtags_list)+1)], 3, replace=False).tolist()\n",
    "    subtags_res.sort()\n",
    "    item_subtag_pair[item] = subtags_res"
   ]
  },
  {
   "cell_type": "code",
   "execution_count": 35,
   "id": "e48eccd5",
   "metadata": {},
   "outputs": [
    {
     "name": "stdout",
     "output_type": "stream",
     "text": [
      "write to file path: <_io.TextIOWrapper name='../fake/train_user_item.txt' mode='w' encoding='UTF-8'>\n",
      "100\n",
      "write to file path: <_io.TextIOWrapper name='../fake/test_user_item.txt' mode='w' encoding='UTF-8'>\n",
      "50\n",
      "write to file path: <_io.TextIOWrapper name='../fake/train_user_subtag.txt' mode='w' encoding='UTF-8'>\n",
      "100\n",
      "write to file path: <_io.TextIOWrapper name='../fake/test_user_subtag.txt' mode='w' encoding='UTF-8'>\n",
      "50\n",
      "write to file path: <_io.TextIOWrapper name='../fake/train_item_subtag.txt' mode='w' encoding='UTF-8'>\n",
      "0\n"
     ]
    }
   ],
   "source": [
    "export_file('train_user_item', user_item_pair)\n",
    "export_file('test_user_item', user_item_pair_test)\n",
    "export_file('train_user_subtag', user_subtag_pair)\n",
    "export_file('test_user_subtag', user_subtag_pair_test)\n",
    "export_file('train_item_subtag', item_subtag_pair)\n",
    "# export_file('test_item_subtag', item_subtag_pair)"
   ]
  },
  {
   "cell_type": "code",
   "execution_count": 16,
   "id": "e98927e0",
   "metadata": {},
   "outputs": [],
   "source": [
    "# write to txt file\n",
    "def export_file(file_name, pairs_dict_train):\n",
    "    dir_name = '../fake'\n",
    "    if not os.path.isdir(dir_name):\n",
    "        os.mkdir(dir_name)\n",
    "    ## train\n",
    "    file_path = os.path.join(dir_name, f'{file_name}.txt')\n",
    "    file = open(file_path,\"w\")\n",
    "    print(f'write to file path: {file}')\n",
    "    counts = 0\n",
    "    for key,value in pairs_dict_train.items():\n",
    "        file.write('%s' % key)\n",
    "\n",
    "        for i, item in enumerate(value):\n",
    "            if math.isnan(item):\n",
    "                continue\n",
    "            else:\n",
    "                if i == (len(value)-1):\n",
    "                    file.write(' %s' % int(item))\n",
    "                else:\n",
    "                    file.write(' %s' % int(item))\n",
    "        file.write('\\n')\n",
    "        counts += 1\n",
    "    print(counts)\n",
    "    file.close()"
   ]
  },
  {
   "cell_type": "code",
   "execution_count": null,
   "id": "3cd1bacd",
   "metadata": {},
   "outputs": [],
   "source": []
  }
 ],
 "metadata": {
  "kernelspec": {
   "display_name": "Python 3",
   "language": "python",
   "name": "python3"
  },
  "language_info": {
   "codemirror_mode": {
    "name": "ipython",
    "version": 3
   },
   "file_extension": ".py",
   "mimetype": "text/x-python",
   "name": "python",
   "nbconvert_exporter": "python",
   "pygments_lexer": "ipython3",
   "version": "3.7.10"
  }
 },
 "nbformat": 4,
 "nbformat_minor": 5
}
