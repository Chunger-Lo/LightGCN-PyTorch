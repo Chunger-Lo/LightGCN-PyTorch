{
 "cells": [
  {
   "cell_type": "code",
   "execution_count": 1,
   "id": "9de30400",
   "metadata": {},
   "outputs": [],
   "source": [
    "import numpy as np\n",
    "import pandas as pd\n",
    "import math\n",
    "import os\n",
    "from sklearn.preprocessing import LabelEncoder\n",
    "pd.set_option('display.max_colwidth', 200)\n",
    "pd.set_option('display.max_rows', 200)"
   ]
  },
  {
   "cell_type": "code",
   "execution_count": 2,
   "id": "5f494e7f",
   "metadata": {},
   "outputs": [],
   "source": [
    "user_subtag = pd.read_csv('/home/jovyan/df-smart-channel/graph/data/preprocessed/user_subtag.csv')"
   ]
  },
  {
   "cell_type": "code",
   "execution_count": 3,
   "id": "9df3be0e",
   "metadata": {},
   "outputs": [],
   "source": [
    "context = pd.read_csv('/home/jovyan/df-smart-channel/graph/data/preprocessed/context_1217_0131.csv')"
   ]
  },
  {
   "cell_type": "code",
   "execution_count": 4,
   "id": "a6bab3e5",
   "metadata": {},
   "outputs": [
    {
     "data": {
      "text/html": [
       "<div>\n",
       "<style scoped>\n",
       "    .dataframe tbody tr th:only-of-type {\n",
       "        vertical-align: middle;\n",
       "    }\n",
       "\n",
       "    .dataframe tbody tr th {\n",
       "        vertical-align: top;\n",
       "    }\n",
       "\n",
       "    .dataframe thead th {\n",
       "        text-align: right;\n",
       "    }\n",
       "</style>\n",
       "<table border=\"1\" class=\"dataframe\">\n",
       "  <thead>\n",
       "    <tr style=\"text-align: right;\">\n",
       "      <th></th>\n",
       "      <th>cust_no</th>\n",
       "      <th>date</th>\n",
       "      <th>mobile_login_90</th>\n",
       "      <th>dd_my</th>\n",
       "      <th>dd_md</th>\n",
       "      <th>onlymd_ind</th>\n",
       "      <th>onlycc_ind</th>\n",
       "      <th>efingo_card_ind</th>\n",
       "      <th>cl_cpa_amt</th>\n",
       "      <th>fc_ind</th>\n",
       "    </tr>\n",
       "  </thead>\n",
       "  <tbody>\n",
       "    <tr>\n",
       "      <th>0</th>\n",
       "      <td>++zmpPGNtNirTv2mCQb9mQ==</td>\n",
       "      <td>20211226</td>\n",
       "      <td>1.0</td>\n",
       "      <td>0.0</td>\n",
       "      <td>0.0</td>\n",
       "      <td>0.0</td>\n",
       "      <td>0.0</td>\n",
       "      <td>0.0</td>\n",
       "      <td>NaN</td>\n",
       "      <td>0</td>\n",
       "    </tr>\n",
       "    <tr>\n",
       "      <th>1</th>\n",
       "      <td>+2/rB1yYcMFVRjbETKUlkg==</td>\n",
       "      <td>20211226</td>\n",
       "      <td>1.0</td>\n",
       "      <td>0.0</td>\n",
       "      <td>0.0</td>\n",
       "      <td>0.0</td>\n",
       "      <td>1.0</td>\n",
       "      <td>0.0</td>\n",
       "      <td>NaN</td>\n",
       "      <td>0</td>\n",
       "    </tr>\n",
       "    <tr>\n",
       "      <th>2</th>\n",
       "      <td>+2csF6o9VzkGxSFb87i3UQ==</td>\n",
       "      <td>20211226</td>\n",
       "      <td>1.0</td>\n",
       "      <td>0.0</td>\n",
       "      <td>1.0</td>\n",
       "      <td>0.0</td>\n",
       "      <td>0.0</td>\n",
       "      <td>0.0</td>\n",
       "      <td>NaN</td>\n",
       "      <td>0</td>\n",
       "    </tr>\n",
       "    <tr>\n",
       "      <th>3</th>\n",
       "      <td>+4f4gQoJE9IF4i+hUbg5XA==</td>\n",
       "      <td>20211226</td>\n",
       "      <td>1.0</td>\n",
       "      <td>0.0</td>\n",
       "      <td>0.0</td>\n",
       "      <td>0.0</td>\n",
       "      <td>0.0</td>\n",
       "      <td>0.0</td>\n",
       "      <td>NaN</td>\n",
       "      <td>0</td>\n",
       "    </tr>\n",
       "    <tr>\n",
       "      <th>4</th>\n",
       "      <td>+5+nzD+wwki5IB/TVpaFZw==</td>\n",
       "      <td>20211226</td>\n",
       "      <td>1.0</td>\n",
       "      <td>0.0</td>\n",
       "      <td>0.0</td>\n",
       "      <td>0.0</td>\n",
       "      <td>0.0</td>\n",
       "      <td>0.0</td>\n",
       "      <td>0.0</td>\n",
       "      <td>0</td>\n",
       "    </tr>\n",
       "  </tbody>\n",
       "</table>\n",
       "</div>"
      ],
      "text/plain": [
       "                    cust_no      date  mobile_login_90  dd_my  dd_md  \\\n",
       "0  ++zmpPGNtNirTv2mCQb9mQ==  20211226              1.0    0.0    0.0   \n",
       "1  +2/rB1yYcMFVRjbETKUlkg==  20211226              1.0    0.0    0.0   \n",
       "2  +2csF6o9VzkGxSFb87i3UQ==  20211226              1.0    0.0    1.0   \n",
       "3  +4f4gQoJE9IF4i+hUbg5XA==  20211226              1.0    0.0    0.0   \n",
       "4  +5+nzD+wwki5IB/TVpaFZw==  20211226              1.0    0.0    0.0   \n",
       "\n",
       "   onlymd_ind  onlycc_ind  efingo_card_ind  cl_cpa_amt  fc_ind  \n",
       "0         0.0         0.0              0.0         NaN       0  \n",
       "1         0.0         1.0              0.0         NaN       0  \n",
       "2         0.0         0.0              0.0         NaN       0  \n",
       "3         0.0         0.0              0.0         NaN       0  \n",
       "4         0.0         0.0              0.0         0.0       0  "
      ]
     },
     "execution_count": 4,
     "metadata": {},
     "output_type": "execute_result"
    }
   ],
   "source": [
    "user_subtag.head()"
   ]
  },
  {
   "cell_type": "code",
   "execution_count": 5,
   "id": "ebcaa773",
   "metadata": {},
   "outputs": [],
   "source": [
    "# le = LabelEncoder()\n",
    "# context.cust_no = le.fit_transform(context.cust_no)"
   ]
  },
  {
   "cell_type": "code",
   "execution_count": 6,
   "id": "c15d365c",
   "metadata": {},
   "outputs": [],
   "source": [
    "# user_subtag.cust_no = le.transform(user_subtag.cust_no)"
   ]
  },
  {
   "cell_type": "code",
   "execution_count": 7,
   "id": "06002f41",
   "metadata": {},
   "outputs": [],
   "source": [
    "user_subtag['is_in_context'] = user_subtag.cust_no.isin(context.cust_no.unique())"
   ]
  },
  {
   "cell_type": "code",
   "execution_count": 8,
   "id": "c288c389",
   "metadata": {},
   "outputs": [
    {
     "data": {
      "text/plain": [
       "(874292, 11)"
      ]
     },
     "execution_count": 8,
     "metadata": {},
     "output_type": "execute_result"
    }
   ],
   "source": [
    "user_subtag.shape"
   ]
  },
  {
   "cell_type": "code",
   "execution_count": 9,
   "id": "7a51d615",
   "metadata": {},
   "outputs": [],
   "source": [
    "user_subtag = user_subtag[user_subtag.is_in_context]"
   ]
  },
  {
   "cell_type": "code",
   "execution_count": 10,
   "id": "72474887",
   "metadata": {},
   "outputs": [],
   "source": [
    "# train test\n",
    "train_date = 20211215\n",
    "test_date = 20211226"
   ]
  },
  {
   "cell_type": "code",
   "execution_count": 11,
   "id": "34d2902a",
   "metadata": {},
   "outputs": [
    {
     "data": {
      "text/plain": [
       "array([20211226])"
      ]
     },
     "execution_count": 11,
     "metadata": {},
     "output_type": "execute_result"
    }
   ],
   "source": [
    "user_subtag.date.unique()"
   ]
  },
  {
   "cell_type": "code",
   "execution_count": 12,
   "id": "be2823cb",
   "metadata": {},
   "outputs": [
    {
     "data": {
      "text/html": [
       "<div>\n",
       "<style scoped>\n",
       "    .dataframe tbody tr th:only-of-type {\n",
       "        vertical-align: middle;\n",
       "    }\n",
       "\n",
       "    .dataframe tbody tr th {\n",
       "        vertical-align: top;\n",
       "    }\n",
       "\n",
       "    .dataframe thead th {\n",
       "        text-align: right;\n",
       "    }\n",
       "</style>\n",
       "<table border=\"1\" class=\"dataframe\">\n",
       "  <thead>\n",
       "    <tr style=\"text-align: right;\">\n",
       "      <th></th>\n",
       "      <th>cust_no</th>\n",
       "      <th>date</th>\n",
       "      <th>mobile_login_90</th>\n",
       "      <th>dd_my</th>\n",
       "      <th>dd_md</th>\n",
       "      <th>onlymd_ind</th>\n",
       "      <th>onlycc_ind</th>\n",
       "      <th>efingo_card_ind</th>\n",
       "      <th>cl_cpa_amt</th>\n",
       "      <th>fc_ind</th>\n",
       "      <th>is_in_context</th>\n",
       "    </tr>\n",
       "  </thead>\n",
       "  <tbody>\n",
       "  </tbody>\n",
       "</table>\n",
       "</div>"
      ],
      "text/plain": [
       "Empty DataFrame\n",
       "Columns: [cust_no, date, mobile_login_90, dd_my, dd_md, onlymd_ind, onlycc_ind, efingo_card_ind, cl_cpa_amt, fc_ind, is_in_context]\n",
       "Index: []"
      ]
     },
     "execution_count": 12,
     "metadata": {},
     "output_type": "execute_result"
    }
   ],
   "source": [
    "user_subtag[user_subtag.date == 20211225]"
   ]
  },
  {
   "cell_type": "code",
   "execution_count": 13,
   "id": "eacc85b3",
   "metadata": {},
   "outputs": [],
   "source": [
    "user_subtag = user_subtag.reset_index()"
   ]
  },
  {
   "cell_type": "code",
   "execution_count": 14,
   "id": "433c87f8",
   "metadata": {},
   "outputs": [
    {
     "data": {
      "text/html": [
       "<div>\n",
       "<style scoped>\n",
       "    .dataframe tbody tr th:only-of-type {\n",
       "        vertical-align: middle;\n",
       "    }\n",
       "\n",
       "    .dataframe tbody tr th {\n",
       "        vertical-align: top;\n",
       "    }\n",
       "\n",
       "    .dataframe thead th {\n",
       "        text-align: right;\n",
       "    }\n",
       "</style>\n",
       "<table border=\"1\" class=\"dataframe\">\n",
       "  <thead>\n",
       "    <tr style=\"text-align: right;\">\n",
       "      <th></th>\n",
       "      <th>index</th>\n",
       "      <th>cust_no</th>\n",
       "      <th>date</th>\n",
       "      <th>mobile_login_90</th>\n",
       "      <th>dd_my</th>\n",
       "      <th>dd_md</th>\n",
       "      <th>onlymd_ind</th>\n",
       "      <th>onlycc_ind</th>\n",
       "      <th>efingo_card_ind</th>\n",
       "      <th>cl_cpa_amt</th>\n",
       "      <th>fc_ind</th>\n",
       "      <th>is_in_context</th>\n",
       "    </tr>\n",
       "  </thead>\n",
       "  <tbody>\n",
       "    <tr>\n",
       "      <th>0</th>\n",
       "      <td>0</td>\n",
       "      <td>++zmpPGNtNirTv2mCQb9mQ==</td>\n",
       "      <td>20211226</td>\n",
       "      <td>1.0</td>\n",
       "      <td>0.0</td>\n",
       "      <td>0.0</td>\n",
       "      <td>0.0</td>\n",
       "      <td>0.0</td>\n",
       "      <td>0.0</td>\n",
       "      <td>NaN</td>\n",
       "      <td>0</td>\n",
       "      <td>True</td>\n",
       "    </tr>\n",
       "    <tr>\n",
       "      <th>1</th>\n",
       "      <td>2</td>\n",
       "      <td>+2csF6o9VzkGxSFb87i3UQ==</td>\n",
       "      <td>20211226</td>\n",
       "      <td>1.0</td>\n",
       "      <td>0.0</td>\n",
       "      <td>1.0</td>\n",
       "      <td>0.0</td>\n",
       "      <td>0.0</td>\n",
       "      <td>0.0</td>\n",
       "      <td>NaN</td>\n",
       "      <td>0</td>\n",
       "      <td>True</td>\n",
       "    </tr>\n",
       "    <tr>\n",
       "      <th>2</th>\n",
       "      <td>3</td>\n",
       "      <td>+4f4gQoJE9IF4i+hUbg5XA==</td>\n",
       "      <td>20211226</td>\n",
       "      <td>1.0</td>\n",
       "      <td>0.0</td>\n",
       "      <td>0.0</td>\n",
       "      <td>0.0</td>\n",
       "      <td>0.0</td>\n",
       "      <td>0.0</td>\n",
       "      <td>NaN</td>\n",
       "      <td>0</td>\n",
       "      <td>True</td>\n",
       "    </tr>\n",
       "    <tr>\n",
       "      <th>3</th>\n",
       "      <td>5</td>\n",
       "      <td>+6TjjYio97pnzZ3tr1zSBw==</td>\n",
       "      <td>20211226</td>\n",
       "      <td>1.0</td>\n",
       "      <td>0.0</td>\n",
       "      <td>0.0</td>\n",
       "      <td>0.0</td>\n",
       "      <td>0.0</td>\n",
       "      <td>0.0</td>\n",
       "      <td>500000.0</td>\n",
       "      <td>0</td>\n",
       "      <td>True</td>\n",
       "    </tr>\n",
       "    <tr>\n",
       "      <th>4</th>\n",
       "      <td>6</td>\n",
       "      <td>+6sDXXep82BZEI6tTPZEEg==</td>\n",
       "      <td>20211226</td>\n",
       "      <td>1.0</td>\n",
       "      <td>0.0</td>\n",
       "      <td>0.0</td>\n",
       "      <td>0.0</td>\n",
       "      <td>1.0</td>\n",
       "      <td>0.0</td>\n",
       "      <td>NaN</td>\n",
       "      <td>0</td>\n",
       "      <td>True</td>\n",
       "    </tr>\n",
       "  </tbody>\n",
       "</table>\n",
       "</div>"
      ],
      "text/plain": [
       "   index                   cust_no      date  mobile_login_90  dd_my  dd_md  \\\n",
       "0      0  ++zmpPGNtNirTv2mCQb9mQ==  20211226              1.0    0.0    0.0   \n",
       "1      2  +2csF6o9VzkGxSFb87i3UQ==  20211226              1.0    0.0    1.0   \n",
       "2      3  +4f4gQoJE9IF4i+hUbg5XA==  20211226              1.0    0.0    0.0   \n",
       "3      5  +6TjjYio97pnzZ3tr1zSBw==  20211226              1.0    0.0    0.0   \n",
       "4      6  +6sDXXep82BZEI6tTPZEEg==  20211226              1.0    0.0    0.0   \n",
       "\n",
       "   onlymd_ind  onlycc_ind  efingo_card_ind  cl_cpa_amt  fc_ind  is_in_context  \n",
       "0         0.0         0.0              0.0         NaN       0           True  \n",
       "1         0.0         0.0              0.0         NaN       0           True  \n",
       "2         0.0         0.0              0.0         NaN       0           True  \n",
       "3         0.0         0.0              0.0    500000.0       0           True  \n",
       "4         0.0         1.0              0.0         NaN       0           True  "
      ]
     },
     "execution_count": 14,
     "metadata": {},
     "output_type": "execute_result"
    }
   ],
   "source": [
    "user_subtag.head()"
   ]
  },
  {
   "cell_type": "code",
   "execution_count": 15,
   "id": "b2c140eb",
   "metadata": {},
   "outputs": [],
   "source": [
    "le = LabelEncoder()\n",
    "context.cust_no = le.fit_transform(context.cust_no)"
   ]
  },
  {
   "cell_type": "code",
   "execution_count": 16,
   "id": "9ced7f88",
   "metadata": {},
   "outputs": [],
   "source": [
    "user_subtag.cust_no = le.transform(user_subtag.cust_no)"
   ]
  },
  {
   "cell_type": "code",
   "execution_count": 20,
   "id": "b0e4119c",
   "metadata": {},
   "outputs": [],
   "source": [
    "# 行銀活躍用戶\n",
    "mobile_active = user_subtag.mobile_login_90\n",
    "# 有外幣帳戶\n",
    "forex_digital_account = user_subtag.dd_my\n",
    "# 存戶\n",
    "account = user_subtag.dd_md\n",
    "# 純存戶\n",
    "account_only = user_subtag.onlymd_ind\n",
    "# 純卡戶\n",
    "credit_card_only = user_subtag.onlycc_ind\n",
    "# 卡存戶有e.Fingo指定卡\n",
    "card_pi_only_ubear = user_subtag.efingo_card_ind\n",
    "# 有信貸者\n",
    "personal_loan_account_cust = user_subtag.cl_cpa_amt.notna()\n",
    "# 無理專顧客\n",
    "no_fc_cust = user_subtag.fc_ind == 0"
   ]
  },
  {
   "cell_type": "code",
   "execution_count": 24,
   "id": "0b19011b",
   "metadata": {},
   "outputs": [],
   "source": [
    "mapping_df = pd.read_excel('subtag.xlsx', sheet_name = 'mapping')"
   ]
  },
  {
   "cell_type": "code",
   "execution_count": 25,
   "id": "0a353ad4",
   "metadata": {},
   "outputs": [
    {
     "data": {
      "text/html": [
       "<div>\n",
       "<style scoped>\n",
       "    .dataframe tbody tr th:only-of-type {\n",
       "        vertical-align: middle;\n",
       "    }\n",
       "\n",
       "    .dataframe tbody tr th {\n",
       "        vertical-align: top;\n",
       "    }\n",
       "\n",
       "    .dataframe thead th {\n",
       "        text-align: right;\n",
       "    }\n",
       "</style>\n",
       "<table border=\"1\" class=\"dataframe\">\n",
       "  <thead>\n",
       "    <tr style=\"text-align: right;\">\n",
       "      <th></th>\n",
       "      <th>subtag_03</th>\n",
       "      <th>code</th>\n",
       "    </tr>\n",
       "  </thead>\n",
       "  <tbody>\n",
       "    <tr>\n",
       "      <th>0</th>\n",
       "      <td>mobile_active</td>\n",
       "      <td>0</td>\n",
       "    </tr>\n",
       "    <tr>\n",
       "      <th>1</th>\n",
       "      <td>forex_digital_account</td>\n",
       "      <td>1</td>\n",
       "    </tr>\n",
       "    <tr>\n",
       "      <th>2</th>\n",
       "      <td>account</td>\n",
       "      <td>2</td>\n",
       "    </tr>\n",
       "    <tr>\n",
       "      <th>3</th>\n",
       "      <td>account_only</td>\n",
       "      <td>3</td>\n",
       "    </tr>\n",
       "    <tr>\n",
       "      <th>4</th>\n",
       "      <td>credit_card_only</td>\n",
       "      <td>4</td>\n",
       "    </tr>\n",
       "    <tr>\n",
       "      <th>5</th>\n",
       "      <td>card_pi_only_ubear</td>\n",
       "      <td>5</td>\n",
       "    </tr>\n",
       "    <tr>\n",
       "      <th>6</th>\n",
       "      <td>personal_loan_account_cust</td>\n",
       "      <td>6</td>\n",
       "    </tr>\n",
       "    <tr>\n",
       "      <th>7</th>\n",
       "      <td>no_fc_cust</td>\n",
       "      <td>7</td>\n",
       "    </tr>\n",
       "  </tbody>\n",
       "</table>\n",
       "</div>"
      ],
      "text/plain": [
       "                    subtag_03  code\n",
       "0               mobile_active     0\n",
       "1       forex_digital_account     1\n",
       "2                     account     2\n",
       "3                account_only     3\n",
       "4            credit_card_only     4\n",
       "5          card_pi_only_ubear     5\n",
       "6  personal_loan_account_cust     6\n",
       "7                  no_fc_cust     7"
      ]
     },
     "execution_count": 25,
     "metadata": {},
     "output_type": "execute_result"
    }
   ],
   "source": [
    "mapping_df"
   ]
  },
  {
   "cell_type": "code",
   "execution_count": 43,
   "id": "d5302613",
   "metadata": {},
   "outputs": [
    {
     "data": {
      "text/plain": [
       "0"
      ]
     },
     "execution_count": 43,
     "metadata": {},
     "output_type": "execute_result"
    }
   ],
   "source": [
    "int(mapping_df.loc[mapping_df.subtag_03=='mobile_active']['code'])"
   ]
  },
  {
   "cell_type": "code",
   "execution_count": 44,
   "id": "dea32810",
   "metadata": {},
   "outputs": [],
   "source": [
    "def get_code(tag_name):\n",
    "    int(mapping_df.loc[mapping_df.subtag_03==tag_name]['code'])"
   ]
  },
  {
   "cell_type": "code",
   "execution_count": null,
   "id": "24a488bc",
   "metadata": {},
   "outputs": [],
   "source": []
  },
  {
   "cell_type": "code",
   "execution_count": 18,
   "id": "4fd453bd",
   "metadata": {},
   "outputs": [],
   "source": [
    "res_df = {}\n",
    "for i, ids in enumerate(user_subtag.cust_no):\n",
    "    subtags_list = []\n",
    "    if mobile_active[i]: subtags_list.append(0);\n",
    "    if forex_digital_account[i]: subtags_list.append(1);\n",
    "    if w_digital_acct[i]: subtags_list.append(2);\n",
    "    if onlymd_acct[i]: subtags_list.append(3);        \n",
    "    if onlycc_acct[i]: subtags_list.append(4);\n",
    "    if w_efingo_card[i]: subtags_list.append(5);\n",
    "    if w_debit[i]: subtags_list.append(6);\n",
    "    if wo_fc[i]: subtags_list.append(7);\n",
    "    res_df[ids] = subtags_list"
   ]
  },
  {
   "cell_type": "code",
   "execution_count": null,
   "id": "53a06312",
   "metadata": {},
   "outputs": [],
   "source": [
    "res_df"
   ]
  },
  {
   "cell_type": "code",
   "execution_count": 17,
   "id": "25579ac1",
   "metadata": {},
   "outputs": [],
   "source": [
    "test_date = 20211226"
   ]
  },
  {
   "cell_type": "code",
   "execution_count": 19,
   "id": "fd3d178d",
   "metadata": {},
   "outputs": [
    {
     "name": "stdout",
     "output_type": "stream",
     "text": [
      "write to file path: <_io.TextIOWrapper name='date=20211226/train_user_subtag.txt' mode='w' encoding='UTF-8'>\n",
      "576691\n",
      "write to file path: <_io.TextIOWrapper name='date=20211226/test_user_subtag.txt' mode='w' encoding='UTF-8'>\n",
      "576691\n"
     ]
    }
   ],
   "source": [
    "export_file(date = str(test_date), pairs_dict_train = res_df, pairs_dict_test = res_df )"
   ]
  },
  {
   "cell_type": "code",
   "execution_count": 18,
   "id": "02bb72e2",
   "metadata": {},
   "outputs": [],
   "source": [
    "def export_file(date, pairs_dict_train, pairs_dict_test):\n",
    "    dir_name = f'date={date}'\n",
    "    if not os.path.isdir(dir_name):\n",
    "        os.mkdir(dir_name)\n",
    "        \n",
    "    ## train\n",
    "    file_path = os.path.join(dir_name, 'train_user_subtag.txt')\n",
    "    file = open(file_path,\"w\")\n",
    "    print(f'write to file path: {file}')\n",
    "    counts = 0\n",
    "    for key,value in pairs_dict_train.items():\n",
    "        file.write('%s' % key)\n",
    "        # for item in value:\n",
    "        #     file.write('%s ' % item)\n",
    "        for i, item in enumerate(value):\n",
    "            if math.isnan(item):\n",
    "                continue\n",
    "            else:\n",
    "                if i == (len(value)-1):\n",
    "                    file.write(' %s' % int(item))\n",
    "                else:\n",
    "                    file.write(' %s' % int(item))\n",
    "        file.write('\\n')\n",
    "        counts += 1\n",
    "    print(counts)\n",
    "    file.close()\n",
    "    ## test\n",
    "    file_path = os.path.join(dir_name, 'test_user_subtag.txt')\n",
    "    file = open(file_path,\"w\")\n",
    "    counts = 0\n",
    "    print(f'write to file path: {file}')\n",
    "    \n",
    "    for key,value in pairs_dict_test.items():\n",
    "        file.write('%s' % key)\n",
    "        # for item in value:\n",
    "        #     file.write('%s ' % item)\n",
    "        for i, item in enumerate(value):\n",
    "            if math.isnan(item):\n",
    "                continue\n",
    "            else:\n",
    "                if i == (len(value)-1):\n",
    "                    file.write(' %s' % int(item))\n",
    "                    file.write('\\n')\n",
    "                else:\n",
    "                    file.write(' %s' % int(item))\n",
    "        counts += 1\n",
    "    print(counts)\n",
    "    file.close()"
   ]
  },
  {
   "cell_type": "code",
   "execution_count": null,
   "id": "725901b6",
   "metadata": {},
   "outputs": [],
   "source": []
  },
  {
   "cell_type": "code",
   "execution_count": null,
   "id": "91ea8e0c",
   "metadata": {},
   "outputs": [],
   "source": []
  },
  {
   "cell_type": "code",
   "execution_count": null,
   "id": "7339428e",
   "metadata": {},
   "outputs": [],
   "source": []
  },
  {
   "cell_type": "code",
   "execution_count": 2,
   "id": "12b91220",
   "metadata": {},
   "outputs": [],
   "source": [
    "# context = pd.read_csv('..//data/preprocessed//context_1217_1230.csv')\n",
    "context = pd.read_csv('/home/jovyan/df-smart-channel/graph/data/preprocessed/context_1217_0131.csv')"
   ]
  },
  {
   "cell_type": "code",
   "execution_count": 3,
   "id": "eb92dd3f",
   "metadata": {},
   "outputs": [],
   "source": [
    "le = LabelEncoder()\n",
    "context.cust_no = le.fit_transform(context.cust_no)\n",
    "context.item_id = le.fit_transform(context.item_id)"
   ]
  },
  {
   "cell_type": "code",
   "execution_count": 4,
   "id": "8d03b038",
   "metadata": {},
   "outputs": [],
   "source": [
    "user_list = context.cust_no.unique()\n",
    "item_list = context.item_id.unique()"
   ]
  },
  {
   "cell_type": "code",
   "execution_count": 5,
   "id": "a60aa63b",
   "metadata": {},
   "outputs": [
    {
     "data": {
      "text/plain": [
       "576702"
      ]
     },
     "execution_count": 5,
     "metadata": {},
     "output_type": "execute_result"
    }
   ],
   "source": [
    "len(user_list)"
   ]
  },
  {
   "cell_type": "code",
   "execution_count": 7,
   "id": "8f11f831",
   "metadata": {},
   "outputs": [
    {
     "data": {
      "text/plain": [
       "array([    53,     55,     93, ..., 451199, 477546, 489807])"
      ]
     },
     "execution_count": 7,
     "metadata": {},
     "output_type": "execute_result"
    }
   ],
   "source": [
    "context['cust_no'].unique()"
   ]
  },
  {
   "cell_type": "code",
   "execution_count": 4,
   "id": "47bff148",
   "metadata": {},
   "outputs": [],
   "source": [
    "# user_list = context.cust_no.unique()\n",
    "# item_list = context.item_id.unique()"
   ]
  },
  {
   "cell_type": "code",
   "execution_count": null,
   "id": "447f3202",
   "metadata": {},
   "outputs": [],
   "source": []
  },
  {
   "cell_type": "code",
   "execution_count": null,
   "id": "c7957442",
   "metadata": {},
   "outputs": [],
   "source": []
  },
  {
   "cell_type": "code",
   "execution_count": null,
   "id": "9cef186b",
   "metadata": {},
   "outputs": [],
   "source": []
  },
  {
   "cell_type": "code",
   "execution_count": null,
   "id": "a2e7cda5",
   "metadata": {},
   "outputs": [],
   "source": []
  }
 ],
 "metadata": {
  "kernelspec": {
   "display_name": "Python 3",
   "language": "python",
   "name": "python3"
  },
  "language_info": {
   "codemirror_mode": {
    "name": "ipython",
    "version": 3
   },
   "file_extension": ".py",
   "mimetype": "text/x-python",
   "name": "python",
   "nbconvert_exporter": "python",
   "pygments_lexer": "ipython3",
   "version": "3.7.10"
  }
 },
 "nbformat": 4,
 "nbformat_minor": 5
}
