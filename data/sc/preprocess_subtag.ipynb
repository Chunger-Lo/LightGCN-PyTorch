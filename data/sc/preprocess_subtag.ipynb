{
 "cells": [
  {
   "cell_type": "code",
   "execution_count": 1,
   "id": "e47fe6c1",
   "metadata": {},
   "outputs": [],
   "source": [
    "import numpy as np\n",
    "import pandas as pd\n",
    "import math\n",
    "import os\n",
    "from sklearn.preprocessing import LabelEncoder\n",
    "pd.set_option('display.max_colwidth', 200)\n",
    "pd.set_option('display.max_rows', 200)"
   ]
  },
  {
   "cell_type": "code",
   "execution_count": 2,
   "id": "f510dfc3",
   "metadata": {},
   "outputs": [],
   "source": [
    "user_subtag = pd.read_csv('/home/jovyan/df-smart-channel/graph/data/preprocessed/user_subtag.csv')"
   ]
  },
  {
   "cell_type": "code",
   "execution_count": 3,
   "id": "1b63f1fc",
   "metadata": {},
   "outputs": [],
   "source": [
    "context = pd.read_csv('/home/jovyan/df-smart-channel/graph/data/preprocessed/context_1217_0131.csv')"
   ]
  },
  {
   "cell_type": "code",
   "execution_count": 4,
   "id": "8c54339e",
   "metadata": {},
   "outputs": [
    {
     "data": {
      "text/html": [
       "<div>\n",
       "<style scoped>\n",
       "    .dataframe tbody tr th:only-of-type {\n",
       "        vertical-align: middle;\n",
       "    }\n",
       "\n",
       "    .dataframe tbody tr th {\n",
       "        vertical-align: top;\n",
       "    }\n",
       "\n",
       "    .dataframe thead th {\n",
       "        text-align: right;\n",
       "    }\n",
       "</style>\n",
       "<table border=\"1\" class=\"dataframe\">\n",
       "  <thead>\n",
       "    <tr style=\"text-align: right;\">\n",
       "      <th></th>\n",
       "      <th>cust_no</th>\n",
       "      <th>date</th>\n",
       "      <th>mobile_login_90</th>\n",
       "      <th>dd_my</th>\n",
       "      <th>dd_md</th>\n",
       "      <th>onlymd_ind</th>\n",
       "      <th>onlycc_ind</th>\n",
       "      <th>efingo_card_ind</th>\n",
       "      <th>cl_cpa_amt</th>\n",
       "      <th>fc_ind</th>\n",
       "    </tr>\n",
       "  </thead>\n",
       "  <tbody>\n",
       "    <tr>\n",
       "      <th>0</th>\n",
       "      <td>++zmpPGNtNirTv2mCQb9mQ==</td>\n",
       "      <td>20211226</td>\n",
       "      <td>1.0</td>\n",
       "      <td>0.0</td>\n",
       "      <td>0.0</td>\n",
       "      <td>0.0</td>\n",
       "      <td>0.0</td>\n",
       "      <td>0.0</td>\n",
       "      <td>NaN</td>\n",
       "      <td>0</td>\n",
       "    </tr>\n",
       "    <tr>\n",
       "      <th>1</th>\n",
       "      <td>+2/rB1yYcMFVRjbETKUlkg==</td>\n",
       "      <td>20211226</td>\n",
       "      <td>1.0</td>\n",
       "      <td>0.0</td>\n",
       "      <td>0.0</td>\n",
       "      <td>0.0</td>\n",
       "      <td>1.0</td>\n",
       "      <td>0.0</td>\n",
       "      <td>NaN</td>\n",
       "      <td>0</td>\n",
       "    </tr>\n",
       "    <tr>\n",
       "      <th>2</th>\n",
       "      <td>+2csF6o9VzkGxSFb87i3UQ==</td>\n",
       "      <td>20211226</td>\n",
       "      <td>1.0</td>\n",
       "      <td>0.0</td>\n",
       "      <td>1.0</td>\n",
       "      <td>0.0</td>\n",
       "      <td>0.0</td>\n",
       "      <td>0.0</td>\n",
       "      <td>NaN</td>\n",
       "      <td>0</td>\n",
       "    </tr>\n",
       "    <tr>\n",
       "      <th>3</th>\n",
       "      <td>+4f4gQoJE9IF4i+hUbg5XA==</td>\n",
       "      <td>20211226</td>\n",
       "      <td>1.0</td>\n",
       "      <td>0.0</td>\n",
       "      <td>0.0</td>\n",
       "      <td>0.0</td>\n",
       "      <td>0.0</td>\n",
       "      <td>0.0</td>\n",
       "      <td>NaN</td>\n",
       "      <td>0</td>\n",
       "    </tr>\n",
       "    <tr>\n",
       "      <th>4</th>\n",
       "      <td>+5+nzD+wwki5IB/TVpaFZw==</td>\n",
       "      <td>20211226</td>\n",
       "      <td>1.0</td>\n",
       "      <td>0.0</td>\n",
       "      <td>0.0</td>\n",
       "      <td>0.0</td>\n",
       "      <td>0.0</td>\n",
       "      <td>0.0</td>\n",
       "      <td>0.0</td>\n",
       "      <td>0</td>\n",
       "    </tr>\n",
       "  </tbody>\n",
       "</table>\n",
       "</div>"
      ],
      "text/plain": [
       "                    cust_no      date  mobile_login_90  dd_my  dd_md  \\\n",
       "0  ++zmpPGNtNirTv2mCQb9mQ==  20211226              1.0    0.0    0.0   \n",
       "1  +2/rB1yYcMFVRjbETKUlkg==  20211226              1.0    0.0    0.0   \n",
       "2  +2csF6o9VzkGxSFb87i3UQ==  20211226              1.0    0.0    1.0   \n",
       "3  +4f4gQoJE9IF4i+hUbg5XA==  20211226              1.0    0.0    0.0   \n",
       "4  +5+nzD+wwki5IB/TVpaFZw==  20211226              1.0    0.0    0.0   \n",
       "\n",
       "   onlymd_ind  onlycc_ind  efingo_card_ind  cl_cpa_amt  fc_ind  \n",
       "0         0.0         0.0              0.0         NaN       0  \n",
       "1         0.0         1.0              0.0         NaN       0  \n",
       "2         0.0         0.0              0.0         NaN       0  \n",
       "3         0.0         0.0              0.0         NaN       0  \n",
       "4         0.0         0.0              0.0         0.0       0  "
      ]
     },
     "execution_count": 4,
     "metadata": {},
     "output_type": "execute_result"
    }
   ],
   "source": [
    "user_subtag.head()"
   ]
  },
  {
   "cell_type": "code",
   "execution_count": 5,
   "id": "d83e54a0",
   "metadata": {},
   "outputs": [],
   "source": [
    "# le = LabelEncoder()\n",
    "# context.cust_no = le.fit_transform(context.cust_no)"
   ]
  },
  {
   "cell_type": "code",
   "execution_count": 6,
   "id": "9323c81b",
   "metadata": {},
   "outputs": [],
   "source": [
    "# user_subtag.cust_no = le.transform(user_subtag.cust_no)"
   ]
  },
  {
   "cell_type": "code",
   "execution_count": 7,
   "id": "8a9d1440",
   "metadata": {},
   "outputs": [],
   "source": [
    "user_subtag['is_in_context'] = user_subtag.cust_no.isin(context.cust_no.unique())"
   ]
  },
  {
   "cell_type": "code",
   "execution_count": 8,
   "id": "d855fb90",
   "metadata": {},
   "outputs": [
    {
     "data": {
      "text/plain": [
       "(874292, 11)"
      ]
     },
     "execution_count": 8,
     "metadata": {},
     "output_type": "execute_result"
    }
   ],
   "source": [
    "user_subtag.shape"
   ]
  },
  {
   "cell_type": "code",
   "execution_count": 9,
   "id": "c16844c1",
   "metadata": {},
   "outputs": [],
   "source": [
    "user_subtag = user_subtag[user_subtag.is_in_context]"
   ]
  },
  {
   "cell_type": "code",
   "execution_count": 10,
   "id": "e1cb2040",
   "metadata": {},
   "outputs": [],
   "source": [
    "# train test\n",
    "train_date = 20211215\n",
    "test_date = 20211226"
   ]
  },
  {
   "cell_type": "code",
   "execution_count": 13,
   "id": "2121ba75",
   "metadata": {},
   "outputs": [
    {
     "data": {
      "text/plain": [
       "array([20211226])"
      ]
     },
     "execution_count": 13,
     "metadata": {},
     "output_type": "execute_result"
    }
   ],
   "source": [
    "user_subtag.date.unique()"
   ]
  },
  {
   "cell_type": "code",
   "execution_count": 12,
   "id": "ce9725ae",
   "metadata": {},
   "outputs": [
    {
     "data": {
      "text/html": [
       "<div>\n",
       "<style scoped>\n",
       "    .dataframe tbody tr th:only-of-type {\n",
       "        vertical-align: middle;\n",
       "    }\n",
       "\n",
       "    .dataframe tbody tr th {\n",
       "        vertical-align: top;\n",
       "    }\n",
       "\n",
       "    .dataframe thead th {\n",
       "        text-align: right;\n",
       "    }\n",
       "</style>\n",
       "<table border=\"1\" class=\"dataframe\">\n",
       "  <thead>\n",
       "    <tr style=\"text-align: right;\">\n",
       "      <th></th>\n",
       "      <th>cust_no</th>\n",
       "      <th>date</th>\n",
       "      <th>mobile_login_90</th>\n",
       "      <th>dd_my</th>\n",
       "      <th>dd_md</th>\n",
       "      <th>onlymd_ind</th>\n",
       "      <th>onlycc_ind</th>\n",
       "      <th>efingo_card_ind</th>\n",
       "      <th>cl_cpa_amt</th>\n",
       "      <th>fc_ind</th>\n",
       "      <th>is_in_context</th>\n",
       "    </tr>\n",
       "  </thead>\n",
       "  <tbody>\n",
       "  </tbody>\n",
       "</table>\n",
       "</div>"
      ],
      "text/plain": [
       "Empty DataFrame\n",
       "Columns: [cust_no, date, mobile_login_90, dd_my, dd_md, onlymd_ind, onlycc_ind, efingo_card_ind, cl_cpa_amt, fc_ind, is_in_context]\n",
       "Index: []"
      ]
     },
     "execution_count": 12,
     "metadata": {},
     "output_type": "execute_result"
    }
   ],
   "source": [
    "user_subtag[user_subtag.date == 20211225]"
   ]
  },
  {
   "cell_type": "code",
   "execution_count": 10,
   "id": "b6860326",
   "metadata": {},
   "outputs": [],
   "source": [
    "user_subtag = user_subtag.reset_index()"
   ]
  },
  {
   "cell_type": "code",
   "execution_count": 11,
   "id": "885deee4",
   "metadata": {},
   "outputs": [
    {
     "data": {
      "text/html": [
       "<div>\n",
       "<style scoped>\n",
       "    .dataframe tbody tr th:only-of-type {\n",
       "        vertical-align: middle;\n",
       "    }\n",
       "\n",
       "    .dataframe tbody tr th {\n",
       "        vertical-align: top;\n",
       "    }\n",
       "\n",
       "    .dataframe thead th {\n",
       "        text-align: right;\n",
       "    }\n",
       "</style>\n",
       "<table border=\"1\" class=\"dataframe\">\n",
       "  <thead>\n",
       "    <tr style=\"text-align: right;\">\n",
       "      <th></th>\n",
       "      <th>index</th>\n",
       "      <th>cust_no</th>\n",
       "      <th>mobile_login_90</th>\n",
       "      <th>dd_my</th>\n",
       "      <th>dd_md</th>\n",
       "      <th>onlymd_ind</th>\n",
       "      <th>onlycc_ind</th>\n",
       "      <th>efingo_card_ind</th>\n",
       "      <th>cl_cpa_amt</th>\n",
       "      <th>fc_ind</th>\n",
       "      <th>is_in_context</th>\n",
       "    </tr>\n",
       "  </thead>\n",
       "  <tbody>\n",
       "    <tr>\n",
       "      <th>0</th>\n",
       "      <td>0</td>\n",
       "      <td>++zmpPGNtNirTv2mCQb9mQ==</td>\n",
       "      <td>1.0</td>\n",
       "      <td>0.0</td>\n",
       "      <td>0.0</td>\n",
       "      <td>0.0</td>\n",
       "      <td>0.0</td>\n",
       "      <td>0.0</td>\n",
       "      <td>NaN</td>\n",
       "      <td>0</td>\n",
       "      <td>True</td>\n",
       "    </tr>\n",
       "    <tr>\n",
       "      <th>1</th>\n",
       "      <td>3</td>\n",
       "      <td>+2csF6o9VzkGxSFb87i3UQ==</td>\n",
       "      <td>1.0</td>\n",
       "      <td>0.0</td>\n",
       "      <td>1.0</td>\n",
       "      <td>0.0</td>\n",
       "      <td>0.0</td>\n",
       "      <td>0.0</td>\n",
       "      <td>NaN</td>\n",
       "      <td>0</td>\n",
       "      <td>True</td>\n",
       "    </tr>\n",
       "    <tr>\n",
       "      <th>2</th>\n",
       "      <td>4</td>\n",
       "      <td>+4f4gQoJE9IF4i+hUbg5XA==</td>\n",
       "      <td>1.0</td>\n",
       "      <td>0.0</td>\n",
       "      <td>0.0</td>\n",
       "      <td>0.0</td>\n",
       "      <td>0.0</td>\n",
       "      <td>0.0</td>\n",
       "      <td>NaN</td>\n",
       "      <td>0</td>\n",
       "      <td>True</td>\n",
       "    </tr>\n",
       "    <tr>\n",
       "      <th>3</th>\n",
       "      <td>6</td>\n",
       "      <td>+6TjjYio97pnzZ3tr1zSBw==</td>\n",
       "      <td>1.0</td>\n",
       "      <td>0.0</td>\n",
       "      <td>0.0</td>\n",
       "      <td>0.0</td>\n",
       "      <td>0.0</td>\n",
       "      <td>0.0</td>\n",
       "      <td>500000.0</td>\n",
       "      <td>0</td>\n",
       "      <td>True</td>\n",
       "    </tr>\n",
       "    <tr>\n",
       "      <th>4</th>\n",
       "      <td>7</td>\n",
       "      <td>+6sDXXep82BZEI6tTPZEEg==</td>\n",
       "      <td>1.0</td>\n",
       "      <td>0.0</td>\n",
       "      <td>0.0</td>\n",
       "      <td>0.0</td>\n",
       "      <td>1.0</td>\n",
       "      <td>0.0</td>\n",
       "      <td>NaN</td>\n",
       "      <td>0</td>\n",
       "      <td>True</td>\n",
       "    </tr>\n",
       "  </tbody>\n",
       "</table>\n",
       "</div>"
      ],
      "text/plain": [
       "   index                   cust_no  mobile_login_90  dd_my  dd_md  onlymd_ind  \\\n",
       "0      0  ++zmpPGNtNirTv2mCQb9mQ==              1.0    0.0    0.0         0.0   \n",
       "1      3  +2csF6o9VzkGxSFb87i3UQ==              1.0    0.0    1.0         0.0   \n",
       "2      4  +4f4gQoJE9IF4i+hUbg5XA==              1.0    0.0    0.0         0.0   \n",
       "3      6  +6TjjYio97pnzZ3tr1zSBw==              1.0    0.0    0.0         0.0   \n",
       "4      7  +6sDXXep82BZEI6tTPZEEg==              1.0    0.0    0.0         0.0   \n",
       "\n",
       "   onlycc_ind  efingo_card_ind  cl_cpa_amt  fc_ind  is_in_context  \n",
       "0         0.0              0.0         NaN       0           True  \n",
       "1         0.0              0.0         NaN       0           True  \n",
       "2         0.0              0.0         NaN       0           True  \n",
       "3         0.0              0.0    500000.0       0           True  \n",
       "4         1.0              0.0         NaN       0           True  "
      ]
     },
     "execution_count": 11,
     "metadata": {},
     "output_type": "execute_result"
    }
   ],
   "source": [
    "user_subtag.head()"
   ]
  },
  {
   "cell_type": "code",
   "execution_count": 12,
   "id": "9391905d",
   "metadata": {},
   "outputs": [],
   "source": [
    "le = LabelEncoder()\n",
    "context.cust_no = le.fit_transform(context.cust_no)"
   ]
  },
  {
   "cell_type": "code",
   "execution_count": 13,
   "id": "b12d77ce",
   "metadata": {},
   "outputs": [],
   "source": [
    "user_subtag.cust_no = le.transform(user_subtag.cust_no)"
   ]
  },
  {
   "cell_type": "code",
   "execution_count": 14,
   "id": "be8f72a1",
   "metadata": {},
   "outputs": [],
   "source": [
    "# 行銀活躍用戶\n",
    "active_acct = user_subtag.mobile_login_90\n",
    "# 有外幣帳戶\n",
    "w_fx_acct = user_subtag.dd_my\n",
    "# 存戶\n",
    "w_digital_acct = user_subtag.dd_md\n",
    "# 純存戶\n",
    "onlymd_acct = user_subtag.onlymd_ind\n",
    "# 純卡戶\n",
    "onlycc_acct = user_subtag.onlycc_ind\n",
    "# 卡存戶有e.Fingo指定卡\n",
    "w_efingo_card = user_subtag.efingo_card_ind\n",
    "# 有信貸者\n",
    "w_debit = user_subtag.cl_cpa_amt.notna()\n",
    "# 無理專顧客\n",
    "wo_fc = user_subtag.fc_ind == 0"
   ]
  },
  {
   "cell_type": "code",
   "execution_count": 15,
   "id": "92f0a649",
   "metadata": {},
   "outputs": [],
   "source": [
    "res_df = {}\n",
    "for i, ids in enumerate(user_subtag.cust_no):\n",
    "    subtags_list = []\n",
    "    if active_acct[i]: subtags_list.append(0);\n",
    "    if w_fx_acct[i]: subtags_list.append(1);\n",
    "    if w_digital_acct[i]: subtags_list.append(2);\n",
    "    if onlymd_acct[i]: subtags_list.append(3);        \n",
    "    if onlycc_acct[i]: subtags_list.append(4);\n",
    "    if w_efingo_card[i]: subtags_list.append(5);\n",
    "    if w_debit[i]: subtags_list.append(6);\n",
    "    if wo_fc[i]: subtags_list.append(7);\n",
    "    res_df[ids] = subtags_list"
   ]
  },
  {
   "cell_type": "code",
   "execution_count": 14,
   "id": "1c0f02b4",
   "metadata": {},
   "outputs": [
    {
     "ename": "NameError",
     "evalue": "name 'res_df' is not defined",
     "output_type": "error",
     "traceback": [
      "\u001b[0;31m---------------------------------------------------------------------------\u001b[0m",
      "\u001b[0;31mNameError\u001b[0m                                 Traceback (most recent call last)",
      "\u001b[0;32m<ipython-input-14-5423120a5da1>\u001b[0m in \u001b[0;36m<module>\u001b[0;34m\u001b[0m\n\u001b[0;32m----> 1\u001b[0;31m \u001b[0mres_df\u001b[0m\u001b[0;34m\u001b[0m\u001b[0;34m\u001b[0m\u001b[0m\n\u001b[0m",
      "\u001b[0;31mNameError\u001b[0m: name 'res_df' is not defined"
     ]
    }
   ],
   "source": [
    "res_df"
   ]
  },
  {
   "cell_type": "code",
   "execution_count": 17,
   "id": "9efd1fd9",
   "metadata": {},
   "outputs": [],
   "source": [
    "test_date = 20211226"
   ]
  },
  {
   "cell_type": "code",
   "execution_count": 19,
   "id": "46e8128c",
   "metadata": {},
   "outputs": [
    {
     "name": "stdout",
     "output_type": "stream",
     "text": [
      "write to file path: <_io.TextIOWrapper name='date=20211226/train_user_subtag.txt' mode='w' encoding='UTF-8'>\n",
      "576691\n",
      "write to file path: <_io.TextIOWrapper name='date=20211226/test_user_subtag.txt' mode='w' encoding='UTF-8'>\n",
      "576691\n"
     ]
    }
   ],
   "source": [
    "export_file(date = str(test_date), pairs_dict_train = res_df, pairs_dict_test = res_df )"
   ]
  },
  {
   "cell_type": "code",
   "execution_count": 18,
   "id": "48f99627",
   "metadata": {},
   "outputs": [],
   "source": [
    "def export_file(date, pairs_dict_train, pairs_dict_test):\n",
    "    dir_name = f'date={date}'\n",
    "    if not os.path.isdir(dir_name):\n",
    "        os.mkdir(dir_name)\n",
    "        \n",
    "    ## train\n",
    "    file_path = os.path.join(dir_name, 'train_user_subtag.txt')\n",
    "    file = open(file_path,\"w\")\n",
    "    print(f'write to file path: {file}')\n",
    "    counts = 0\n",
    "    for key,value in pairs_dict_train.items():\n",
    "        file.write('%s' % key)\n",
    "        # for item in value:\n",
    "        #     file.write('%s ' % item)\n",
    "        for i, item in enumerate(value):\n",
    "            if math.isnan(item):\n",
    "                continue\n",
    "            else:\n",
    "                if i == (len(value)-1):\n",
    "                    file.write(' %s' % int(item))\n",
    "                else:\n",
    "                    file.write(' %s' % int(item))\n",
    "        file.write('\\n')\n",
    "        counts += 1\n",
    "    print(counts)\n",
    "    file.close()\n",
    "    ## test\n",
    "    file_path = os.path.join(dir_name, 'test_user_subtag.txt')\n",
    "    file = open(file_path,\"w\")\n",
    "    counts = 0\n",
    "    print(f'write to file path: {file}')\n",
    "    \n",
    "    for key,value in pairs_dict_test.items():\n",
    "        file.write('%s' % key)\n",
    "        # for item in value:\n",
    "        #     file.write('%s ' % item)\n",
    "        for i, item in enumerate(value):\n",
    "            if math.isnan(item):\n",
    "                continue\n",
    "            else:\n",
    "                if i == (len(value)-1):\n",
    "                    file.write(' %s' % int(item))\n",
    "                    file.write('\\n')\n",
    "                else:\n",
    "                    file.write(' %s' % int(item))\n",
    "        counts += 1\n",
    "    print(counts)\n",
    "    file.close()"
   ]
  },
  {
   "cell_type": "code",
   "execution_count": null,
   "id": "9bc95be9",
   "metadata": {},
   "outputs": [],
   "source": []
  },
  {
   "cell_type": "code",
   "execution_count": null,
   "id": "41560d40",
   "metadata": {},
   "outputs": [],
   "source": []
  },
  {
   "cell_type": "code",
   "execution_count": null,
   "id": "5907b24c",
   "metadata": {},
   "outputs": [],
   "source": []
  },
  {
   "cell_type": "code",
   "execution_count": 2,
   "id": "323b4876",
   "metadata": {},
   "outputs": [],
   "source": [
    "# context = pd.read_csv('..//data/preprocessed//context_1217_1230.csv')\n",
    "context = pd.read_csv('/home/jovyan/df-smart-channel/graph/data/preprocessed/context_1217_0131.csv')"
   ]
  },
  {
   "cell_type": "code",
   "execution_count": 3,
   "id": "62eeabf4",
   "metadata": {},
   "outputs": [],
   "source": [
    "le = LabelEncoder()\n",
    "context.cust_no = le.fit_transform(context.cust_no)\n",
    "context.item_id = le.fit_transform(context.item_id)"
   ]
  },
  {
   "cell_type": "code",
   "execution_count": 4,
   "id": "9dcdea6f",
   "metadata": {},
   "outputs": [],
   "source": [
    "user_list = context.cust_no.unique()\n",
    "item_list = context.item_id.unique()"
   ]
  },
  {
   "cell_type": "code",
   "execution_count": 5,
   "id": "64e6aa39",
   "metadata": {},
   "outputs": [
    {
     "data": {
      "text/plain": [
       "576702"
      ]
     },
     "execution_count": 5,
     "metadata": {},
     "output_type": "execute_result"
    }
   ],
   "source": [
    "len(user_list)"
   ]
  },
  {
   "cell_type": "code",
   "execution_count": 7,
   "id": "87cba22d",
   "metadata": {},
   "outputs": [
    {
     "data": {
      "text/plain": [
       "array([    53,     55,     93, ..., 451199, 477546, 489807])"
      ]
     },
     "execution_count": 7,
     "metadata": {},
     "output_type": "execute_result"
    }
   ],
   "source": [
    "context['cust_no'].unique()"
   ]
  },
  {
   "cell_type": "code",
   "execution_count": 4,
   "id": "3eebfc5a",
   "metadata": {},
   "outputs": [],
   "source": [
    "# user_list = context.cust_no.unique()\n",
    "# item_list = context.item_id.unique()"
   ]
  },
  {
   "cell_type": "code",
   "execution_count": null,
   "id": "31588425",
   "metadata": {},
   "outputs": [],
   "source": []
  },
  {
   "cell_type": "code",
   "execution_count": null,
   "id": "32ce1513",
   "metadata": {},
   "outputs": [],
   "source": []
  },
  {
   "cell_type": "code",
   "execution_count": null,
   "id": "04324efc",
   "metadata": {},
   "outputs": [],
   "source": []
  },
  {
   "cell_type": "code",
   "execution_count": null,
   "id": "ca9cd44e",
   "metadata": {},
   "outputs": [],
   "source": []
  }
 ],
 "metadata": {
  "kernelspec": {
   "display_name": "Python 3",
   "language": "python",
   "name": "python3"
  },
  "language_info": {
   "codemirror_mode": {
    "name": "ipython",
    "version": 3
   },
   "file_extension": ".py",
   "mimetype": "text/x-python",
   "name": "python",
   "nbconvert_exporter": "python",
   "pygments_lexer": "ipython3",
   "version": "3.7.10"
  }
 },
 "nbformat": 4,
 "nbformat_minor": 5
}
